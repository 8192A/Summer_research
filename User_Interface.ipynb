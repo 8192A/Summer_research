{
 "cells": [
  {
   "cell_type": "code",
   "execution_count": 10,
   "metadata": {
    "scrolled": false
   },
   "outputs": [
    {
     "name": "stderr",
     "output_type": "stream",
     "text": [
      "Using TensorFlow backend.\n"
     ]
    }
   ],
   "source": [
    "from matplotlib import pyplot as plt\n",
    "from keras.models import Sequential, load_model\n",
    "import numpy as np\n",
    "def spectrum_creator(A):\n",
    "    A.sort(key = lambda x:x[0])\n",
    "    spec = [0.95 for _ in range(200)]\n",
    "    for pos, width in A:\n",
    "        for i in range(width):\n",
    "            spec[(pos - 200) * 2 + i] = 0.05\n",
    "    return spec\n",
    "\n",
    "model = load_model('two_peak_model.h5')"
   ]
  },
  {
   "cell_type": "code",
   "execution_count": 50,
   "metadata": {},
   "outputs": [
    {
     "data": {
      "text/plain": [
       "[<matplotlib.lines.Line2D at 0x7f353e3bc080>]"
      ]
     },
     "execution_count": 50,
     "metadata": {},
     "output_type": "execute_result"
    },
    {
     "data": {
      "image/png": "[encoded data removed]",
      "text/plain": [
       "<Figure size 432x288 with 1 Axes>"
      ]
     },
     "metadata": {
      "needs_background": "light"
     },
     "output_type": "display_data"
    }
   ],
   "source": [
    "x = [i for i in np.arange(200, 300, 0.5)]\n",
    "A = [[240, 10], [281, 7]]\n",
    "sp = spectrum_creator(A)\n",
    "plt.ylim(0, 1.1)\n",
    "plt.plot(x, sp)"
   ]
  },
  {
   "cell_type": "code",
   "execution_count": 51,
   "metadata": {},
   "outputs": [
    {
     "data": {
      "text/plain": [
       "array([[0.14855129, 0.1639792 , 0.23442647, 0.27814335, 0.17998588,\n",
       "        0.20052253]], dtype=float32)"
      ]
     },
     "execution_count": 51,
     "metadata": {},
     "output_type": "execute_result"
    }
   ],
   "source": [
    "model.predict(np.reshape(np.subtract(sp, 0.5), (1, 200)))"
   ]
  }
 ],
 "metadata": {
  "kernelspec": {
   "display_name": "Python 3",
   "language": "python",
   "name": "python3"
  },
  "language_info": {
   "codemirror_mode": {
    "name": "ipython",
    "version": 3
   },
   "file_extension": ".py",
   "mimetype": "text/x-python",
   "name": "python",
   "nbconvert_exporter": "python",
   "pygments_lexer": "ipython3",
   "version": "3.7.3"
  }
 },
 "nbformat": 4,
 "nbformat_minor": 2
}
