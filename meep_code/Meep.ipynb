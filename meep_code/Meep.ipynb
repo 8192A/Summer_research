{
 "cells": [
  {
   "cell_type": "code",
   "execution_count": 1,
   "metadata": {},
   "outputs": [],
   "source": [
    "import meep as mp\n",
    "import numpy as np\n",
    "import matplotlib.pyplot as plt\n",
    "\n",
    "\n",
    "eps = 13 # dielectric constant of waveguide\n",
    "w = 1.2 # width of waveguide\n",
    "r = 0.36 # radius of cylinder\n",
    "\n",
    "# size of cell in x, y, z direction\n",
    "sx, sy, sz = 1, 1, 10\n",
    "dpml = 1 # PML thickness (y direction only)\n",
    "\n",
    "pad = 4\n",
    "w = 1\n",
    "\n",
    "wvg_xcen = 0.5 * (sx - w - 2 * pad)\n",
    "wvg_ycen = 0.5 * (sy - w - 2 * pad)\n",
    "wvg_zcen = -0.5 * (sx - w - 2 * pad)\n",
    "\n",
    "# create a cell (source size must be smaller than cell)\n",
    "cell = mp.Vector3(sx, sy, sz) \n",
    "\n",
    "#absorbing boundaries surrounding the commputational cell\n",
    "pml_layers = [mp.PML(dpml, direction = mp.Z)] # \n",
    "c = mp.Cylinder(radius = r, height = 1, material = mp.Medium(epsilon = eps))\n",
    "b = mp.Block(size = mp.Vector3(10,10,10))\n",
    "# geometry are combined using append function\n",
    "# later geometry take precedence overr earlier objects\n",
    "geometry = [b]\n",
    "geometry.append(c)\n",
    "\n",
    "resolution = 10 "
   ]
  },
  {
   "cell_type": "code",
   "execution_count": 2,
   "metadata": {},
   "outputs": [],
   "source": [
    "# determine the frequency range to investigate\n",
    "\n",
    "fcen = 0.15 # pulse center frequency\n",
    "df = 0.1 # pulse frequency width\n",
    "src = [mp.Source(mp.GaussianSource(fcen, fwidth = df),\n",
    "                 component = mp.Ex, # bumingbai\n",
    "                 center = mp.Vector3(0, 0, -0.5 * sz + dpml + 0.5),\n",
    "                 size = mp.Vector3(sx,sy,0))]"
   ]
  },
  {
   "cell_type": "code",
   "execution_count": 3,
   "metadata": {},
   "outputs": [],
   "source": [
    "# what does direction mean?\n",
    "# what about x and z? \n",
    "#sym = [mp.Mirror(direction = mp.Y, phase = -1)]\n",
    "sim = mp.Simulation(cell_size = cell,\n",
    "                    geometry = geometry,\n",
    "                    sources = src,\n",
    "                    #symmetries = sym, # xuyaoma?\n",
    "                    resolution = resolution)"
   ]
  },
  {
   "cell_type": "code",
   "execution_count": 4,
   "metadata": {},
   "outputs": [],
   "source": [
    "sim.k_point = mp.Vector3(0, 0, 0)"
   ]
  },
  {
   "cell_type": "code",
   "execution_count": 5,
   "metadata": {},
   "outputs": [],
   "source": [
    "nfreq = 100 # number of frequencies at which to compute flux\n",
    "\n",
    "# transmitted flux\n",
    "tran_fr = mp.FluxRegion(center = mp.Vector3(0, 0, 0.5 * sz - dpml - 0.2),\n",
    "                         size = mp.Vector3(1, 1, 0))\n",
    "tran = sim.add_flux(fcen, df, nfreq, tran_fr)\n",
    "pt = mp.Vector3(0, 0, 0.5 * sz - dpml - 0.5)"
   ]
  },
  {
   "cell_type": "code",
   "execution_count": 54,
   "metadata": {},
   "outputs": [
    {
     "name": "stdout",
     "output_type": "stream",
     "text": [
      "-----------\n",
      "Initializing structure...\n",
      "Meep progress: 332.45000000000005/600.0 = 55.4% done in 4.0s, 3.2s to go\n",
      "run 0 finished at t = 600.0 (12000 timesteps)\n"
     ]
    }
   ],
   "source": [
    "sim.run(until_after_sources = 500)\n",
    "straight_tran_flux = mp.get_fluxes(tran)"
   ]
  },
  {
   "cell_type": "code",
   "execution_count": 55,
   "metadata": {},
   "outputs": [],
   "source": [
    "#sim.run(until_after_sources = mp.stop_when_fields_decayed(10, mp.Ex, pt, 1e-2))\n",
    "#straight_tran_flux = mp.get_fluxes(tran)"
   ]
  },
  {
   "cell_type": "code",
   "execution_count": 56,
   "metadata": {
    "scrolled": true
   },
   "outputs": [
    {
     "name": "stdout",
     "output_type": "stream",
     "text": [
      "-----------\n",
      "Initializing structure...\n",
      "run 0 finished at t = 600.0 (12000 timesteps)\n"
     ]
    }
   ],
   "source": [
    "sim.reset_meep()\n",
    "\n",
    "geometry = [b]\n",
    "\n",
    "sim = mp.Simulation(cell_size = cell,\n",
    "                    geometry = geometry,\n",
    "                    sources = src,\n",
    "                    #symmetries = sym, # xuyaoma?\n",
    "                    resolution = resolution)\n",
    "\n",
    "tran_fr = mp.FluxRegion(center = mp.Vector3(0, 0, 0.5 * sz - dpml - 0.2),\n",
    "                         size = mp.Vector3(1, 1, 0))\n",
    "tran = sim.add_flux(fcen, df, nfreq, tran_fr)\n",
    "pt = mp.Vector3(0, 0, 0.5 * sz - dpml - 0.5)\n",
    "\n",
    "#sim.run(until_after_sources = mp.stop_when_fields_decayed(50, mp.Ex, pt, 1e-3))\n",
    "sim.run(until_after_sources = 500)\n",
    "bend_tran_flux = mp.get_fluxes(tran)\n",
    "flux_freqs = mp.get_flux_freqs(tran)"
   ]
  },
  {
   "cell_type": "code",
   "execution_count": 57,
   "metadata": {},
   "outputs": [
    {
     "data": {
      "image/png": "[encoded data removed]",
      "text/plain": [
       "<Figure size 432x288 with 1 Axes>"
      ]
     },
     "metadata": {
      "needs_background": "light"
     },
     "output_type": "display_data"
    }
   ],
   "source": [
    "Ts = []\n",
    "wl = []\n",
    "for i in range(nfreq):\n",
    "    if flux_freqs[i] == 0:\n",
    "        continue\n",
    "    Ts = np.append(Ts, bend_tran_flux[i]/straight_tran_flux[i])\n",
    "    wl = np.append(wl, 1/flux_freqs[i])\n",
    "if mp.am_master():\n",
    "    plt.figure()\n",
    "    plt.plot(wl, Ts, 'ro-', label = 'transmittance')\n",
    "    #plt.axis([5.0, 10.0, 0, 1])\n",
    "    plt.legend(loc = \"upper right\")\n",
    "    plt.show()"
   ]
  },
  {
   "cell_type": "code",
   "execution_count": 32,
   "metadata": {},
   "outputs": [
    {
     "data": {
      "text/plain": [
       "array([-1.18782410e-02, -2.74960892e-02, -6.88187368e-04,  1.58771995e-02,\n",
       "       -8.38946698e-03, -1.97023153e-03,  4.95474255e-04, -2.06856959e-03,\n",
       "       -4.52815957e-03,  4.64093834e-02, -2.02972410e-03, -4.82151288e-03,\n",
       "        1.65248486e-02, -1.35841080e-03, -3.06084308e-03,  5.08432017e-04,\n",
       "        6.10500105e-03, -1.71796587e-02,  2.70751586e-03,  6.43879651e-03,\n",
       "        1.22061640e-03,  2.32233902e-03,  7.35882164e-02, -3.21160936e-02,\n",
       "       -3.73394295e-02,  2.70099935e-01,  1.22189571e-02, -5.46626509e-04,\n",
       "       -6.70933205e-02,  6.82419890e-02, -8.06577838e-01, -1.05302765e+00,\n",
       "       -1.13478163e+00, -1.13478163e+00, -1.05302765e+00, -8.06577838e-01,\n",
       "        6.82419890e-02, -6.70933205e-02, -5.46626509e-04,  1.22189571e-02,\n",
       "        2.70099935e-01, -3.73394295e-02, -3.21160936e-02,  7.35882164e-02,\n",
       "        2.32233902e-03,  1.22061640e-03,  6.43879651e-03,  2.70751586e-03,\n",
       "       -1.71796587e-02,  6.10500105e-03,  5.08432017e-04, -3.06084308e-03,\n",
       "       -1.35841080e-03,  1.65248486e-02, -4.82151288e-03, -2.02972410e-03,\n",
       "        4.64093834e-02, -4.52815957e-03, -2.06856959e-03,  4.95474255e-04,\n",
       "       -1.97023153e-03, -8.38946698e-03,  1.58771995e-02, -6.88187368e-04,\n",
       "       -2.74960892e-02, -1.18782410e-02,  1.59926804e+00, -4.21770841e+00,\n",
       "        6.50622739e-01, -4.30635299e-02,  5.84265213e-03,  4.59938835e-03,\n",
       "       -1.41479926e-02, -3.64936338e-01, -1.77758198e+00, -1.65359760e+00,\n",
       "       -4.95701455e-01,  4.27783036e-02,  4.23736718e-01, -4.81457177e-02,\n",
       "       -1.23959274e-02, -1.58195820e+01,  1.87310178e+00,  5.15007341e-01,\n",
       "       -4.25003416e-02,  3.78240892e-01, -2.80461996e+00, -5.50980558e-01,\n",
       "       -3.83135337e+00,  3.97206076e-01, -3.59367727e-03,  3.77376116e-01,\n",
       "        1.15098671e+01, -2.68100181e+00, -7.58599286e+00, -8.38293481e+00,\n",
       "        3.71015261e+00, -2.47211851e+01,  6.18996208e+01])"
      ]
     },
     "execution_count": 32,
     "metadata": {},
     "output_type": "execute_result"
    }
   ],
   "source": [
    "Ts"
   ]
  }
 ],
 "metadata": {
  "kernelspec": {
   "display_name": "Python 3",
   "language": "python",
   "name": "python3"
  },
  "language_info": {
   "codemirror_mode": {
    "name": "ipython",
    "version": 3
   },
   "file_extension": ".py",
   "mimetype": "text/x-python",
   "name": "python",
   "nbconvert_exporter": "python",
   "pygments_lexer": "ipython3",
   "version": "3.6.7"
  }
 },
 "nbformat": 4,
 "nbformat_minor": 2
}
