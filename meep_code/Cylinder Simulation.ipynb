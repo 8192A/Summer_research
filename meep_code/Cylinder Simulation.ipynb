{
 "cells": [
  {
   "cell_type": "code",
   "execution_count": 1,
   "metadata": {},
   "outputs": [],
   "source": [
    "import meep as mp\n",
    "import numpy as np\n",
    "import matplotlib.pyplot as plt"
   ]
  },
  {
   "cell_type": "code",
   "execution_count": 2,
   "metadata": {},
   "outputs": [],
   "source": [
    "resolution = 10\n",
    "\n",
    "eps_si = 3.54**2\n",
    "eps_pdms = 1.4**2\n",
    "\n",
    "sx = 3\n",
    "sy = 3\n",
    "sz = 4\n",
    "\n",
    "dpml = 1\n",
    "\n",
    "\n",
    "cell = mp.Vector3(sx, sy, sz)\n",
    "blk = mp.Block(size = mp.Vector3(sx, sy, mp.inf),\n",
    "               center = mp.Vector3(),\n",
    "               material = mp.Medium(epsilon = eps_pdms)\n",
    "              )\n",
    "geometry = [blk]\n",
    "\n",
    "pml_layers = [mp.PML(dpml)]\n",
    "fcen = 1.5\n",
    "df = 0.25\n",
    "src = [mp.Source(src = mp.GaussianSource(fcen, fwidth=df),\n",
    "                component = mp.Ez,\n",
    "                center = mp.Vector3(0,0,-(sz/2 - dpml - 0.5)),\n",
    "                size = mp.Vector3(sx,sy,0)\n",
    "               )]\n",
    "sim = mp.Simulation(cell_size=cell,\n",
    "                    geometry=geometry,\n",
    "                    boundary_layers=pml_layers,\n",
    "                    sources=src,\n",
    "                    resolution = resolution\n",
    "                   )"
   ]
  },
  {
   "cell_type": "code",
   "execution_count": null,
   "metadata": {
    "scrolled": true
   },
   "outputs": [
    {
     "name": "stdout",
     "output_type": "stream",
     "text": [
      "-----------\n",
      "Initializing structure...\n",
      "field decay(t = 50.050000000000004): 7.904024014929061e-35 / 7.904024014929061e-35 = 1.0\n",
      "field decay(t = 100.05000000000001): 5.801575334453588e-37 / 7.904024014929061e-35 = 0.00734002746385337\n",
      "field decay(t = 150.1): 4.21142120021762e-37 / 7.904024014929061e-35 = 0.005328198892441519\n",
      "field decay(t = 200.15): 6.262987359765109e-37 / 7.904024014929061e-35 = 0.007923795965112992\n",
      "field decay(t = 250.20000000000002): 9.240465269355892e-37 / 7.904024014929061e-35 = 0.011690836530737471\n",
      "field decay(t = 300.2): 1.2463006880626981e-36 / 7.904024014929061e-35 = 0.01576792638418981\n",
      "field decay(t = 350.25): 1.5439710937344562e-36 / 7.904024014929061e-35 = 0.019533987887919053\n",
      "field decay(t = 400.3): 1.7917816896359236e-36 / 7.904024014929061e-35 = 0.022669233876967225\n",
      "field decay(t = 450.35): 1.985994176966234e-36 / 7.904024014929061e-35 = 0.02512636820453864\n",
      "field decay(t = 500.40000000000003): 2.1345114796925352e-36 / 7.904024014929061e-35 = 0.02700537695306702\n",
      "field decay(t = 550.4): 2.2443075482026126e-36 / 7.904024014929061e-35 = 0.028394493032455132\n",
      "field decay(t = 600.45): 2.3275865847561286e-36 / 7.904024014929061e-35 = 0.02944812136653179\n",
      "field decay(t = 650.5): 2.3868444251131055e-36 / 7.904024014929061e-35 = 0.03019783872878994\n",
      "field decay(t = 700.5500000000001): 2.4308048218379392e-36 / 7.904024014929061e-35 = 0.030754016147302353\n",
      "field decay(t = 750.6): 2.4649849276969688e-36 / 7.904024014929061e-35 = 0.03118645544397542\n",
      "field decay(t = 800.6500000000001): 2.4879142634161302e-36 / 7.904024014929061e-35 = 0.031476552433506985\n",
      "field decay(t = 850.7): 2.5064431913870588e-36 / 7.904024014929061e-35 = 0.03171097641723896\n",
      "field decay(t = 900.75): 2.521071933213905e-36 / 7.904024014929061e-35 = 0.03189605609057011\n",
      "field decay(t = 950.8000000000001): 2.530094602959558e-36 / 7.904024014929061e-35 = 0.03201020895408129\n",
      "field decay(t = 1000.85): 2.5397641421868236e-36 / 7.904024014929061e-35 = 0.03213254587017621\n",
      "field decay(t = 1050.9): 2.5452701406245587e-36 / 7.904024014929061e-35 = 0.032202206569932876\n",
      "field decay(t = 1100.95): 2.5491647325032633e-36 / 7.904024014929061e-35 = 0.032251480102899736\n",
      "field decay(t = 1151.0): 2.5558007784938338e-36 / 7.904024014929061e-35 = 0.03233543791955157\n",
      "field decay(t = 1201.05): 2.5574295902056267e-36 / 7.904024014929061e-35 = 0.032356045292564556\n",
      "field decay(t = 1251.1000000000001): 2.5613577776137473e-36 / 7.904024014929061e-35 = 0.03240574386889354\n",
      "field decay(t = 1301.15): 2.56268598096423e-36 / 7.904024014929061e-35 = 0.032422548010024366\n",
      "field decay(t = 1351.2): 2.5630685613110604e-36 / 7.904024014929061e-35 = 0.032427388333714016\n"
     ]
    }
   ],
   "source": [
    "freg = mp.FluxRegion(center=mp.Vector3(0,0,sz/2-dpml-0.5),\n",
    "                     size = mp.Vector3(sx,sy,0)\n",
    "                    )\n",
    "nfreq = 500\n",
    "trans = sim.add_flux(fcen, df, nfreq, freg)\n",
    "pt = mp.Vector3(0,0,sz/2-dpml-0.75)\n",
    "sim.run(until_after_sources = mp.stop_when_fields_decayed(50, mp.Ex, pt,1e-3))"
   ]
  },
  {
   "cell_type": "code",
   "execution_count": null,
   "metadata": {},
   "outputs": [],
   "source": [
    "straight = mp.get_fluxes(trans)"
   ]
  },
  {
   "cell_type": "code",
   "execution_count": null,
   "metadata": {},
   "outputs": [],
   "source": [
    "straight"
   ]
  },
  {
   "cell_type": "code",
   "execution_count": null,
   "metadata": {},
   "outputs": [],
   "source": [
    "sim.reset_meep()\n",
    "geometry.append(mp.Cylinder(radius = 1, height = 1)\n",
    "               ,center = mp.Vector3())\n",
    "sim = mp.Simulation(cell_size=cell,\n",
    "                    geometry=geometry,\n",
    "                    boundary_layers=pml_layers,\n",
    "                    sources=src,\n",
    "                    resolution = resolution\n",
    "                   )\n",
    "freg = mp.FluxRegion(center=mp.Vector3(0,0,sz/2-dpml-0.5),\n",
    "                     size = mp.Vector3(sx,sy,0)\n",
    "                    )\n",
    "nfreq = 500\n",
    "trans = sim.add_flux(fcen, df, nfreq, freg)\n",
    "pt = mp.Vector3(0,0,sz/2-dpml-0.75)\n",
    "sim.run(until_after_sources = mp.stop_when_fields_decayed(50, mp.Ex, pt,1e-3))"
   ]
  },
  {
   "cell_type": "code",
   "execution_count": null,
   "metadata": {},
   "outputs": [],
   "source": [
    "bend = mp.get_fluxes(trans)\n",
    "flux_freqs = mp.get_flux_freqs(trans)\n",
    "Ts = []\n",
    "wl = []\n",
    "for i in range(nfreq):\n",
    "    wl = np.append(wl, 1/flux_freqs[i])\n",
    "    Ts = np.append(Ts, bend[i]/straight[i])\n",
    "plt.figure()\n",
    "plt.plot(wl,Ts)"
   ]
  }
 ],
 "metadata": {
  "kernelspec": {
   "display_name": "Python 3",
   "language": "python",
   "name": "python3"
  },
  "language_info": {
   "codemirror_mode": {
    "name": "ipython",
    "version": 3
   },
   "file_extension": ".py",
   "mimetype": "text/x-python",
   "name": "python",
   "nbconvert_exporter": "python",
   "pygments_lexer": "ipython3",
   "version": "3.6.7"
  }
 },
 "nbformat": 4,
 "nbformat_minor": 2
}
