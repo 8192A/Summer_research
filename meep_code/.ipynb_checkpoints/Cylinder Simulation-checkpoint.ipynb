{
 "cells": [
  {
   "cell_type": "code",
   "execution_count": 1,
   "metadata": {},
   "outputs": [],
   "source": [
    "import meep as mp\n",
    "import numpy as np\n",
    "import matplotlib.pyplot as plt"
   ]
  },
  {
   "cell_type": "code",
   "execution_count": 2,
   "metadata": {},
   "outputs": [],
   "source": [
    "resolution = 10\n",
    "\n",
    "eps_si = 3.54**2\n",
    "eps_pdms = 1.4**2\n",
    "\n",
    "sx = 3\n",
    "sy = 3\n",
    "sz = 4\n",
    "\n",
    "dpml = 1\n",
    "\n",
    "\n",
    "cell = mp.Vector3(sx, sy, sz)\n",
    "blk = mp.Block(size = mp.Vector3(sx, sy, mp.inf),\n",
    "               center = mp.Vector3(),\n",
    "               material = mp.Medium(epsilon = eps_pdms)\n",
    "              )\n",
    "geometry = [blk]\n",
    "\n",
    "pml_layers = [mp.PML(dpml)]\n",
    "fcen = 1.5\n",
    "df = 0.25\n",
    "src = [mp.Source(src = mp.GaussianSource(fcen, fwidth=df),\n",
    "                component = mp.Ez,\n",
    "                center = mp.Vector3(0,0,-(sz/2 - dpml - 0.5)),\n",
    "                size = mp.Vector3(sx,sy,0)\n",
    "               )]\n",
    "sim = mp.Simulation(cell_size=cell,\n",
    "                    geometry=geometry,\n",
    "                    boundary_layers=pml_layers,\n",
    "                    sources=src,\n",
    "                    resolution = resolution\n",
    "                   )"
   ]
  },
  {
   "cell_type": "code",
   "execution_count": 3,
   "metadata": {},
   "outputs": [
    {
     "name": "stdout",
     "output_type": "stream",
     "text": [
      "-----------\n",
      "Initializing structure...\n",
      "field decay(t = 50.025000000000006): 4.796487149095262e-34 / 4.796487149095262e-34 = 1.0\n",
      "field decay(t = 100.05000000000001): 1.3703975720562063e-35 / 4.796487149095262e-34 = 0.028570858827688044\n",
      "field decay(t = 150.07500000000002): 3.2912882874603495e-36 / 4.796487149095262e-34 = 0.006861872418611961\n"
     ]
    },
    {
     "ename": "KeyboardInterrupt",
     "evalue": "",
     "output_type": "error",
     "traceback": [
      "\u001b[0;31m---------------------------------------------------------------------------\u001b[0m",
      "\u001b[0;31mKeyboardInterrupt\u001b[0m                         Traceback (most recent call last)",
      "\u001b[0;32m<ipython-input-3-cd5675b3d582>\u001b[0m in \u001b[0;36m<module>\u001b[0;34m\u001b[0m\n\u001b[1;32m      5\u001b[0m \u001b[0mtrans\u001b[0m \u001b[0;34m=\u001b[0m \u001b[0msim\u001b[0m\u001b[0;34m.\u001b[0m\u001b[0madd_flux\u001b[0m\u001b[0;34m(\u001b[0m\u001b[0mfcen\u001b[0m\u001b[0;34m,\u001b[0m \u001b[0mdf\u001b[0m\u001b[0;34m,\u001b[0m \u001b[0mnfreq\u001b[0m\u001b[0;34m,\u001b[0m \u001b[0mfreg\u001b[0m\u001b[0;34m)\u001b[0m\u001b[0;34m\u001b[0m\u001b[0;34m\u001b[0m\u001b[0m\n\u001b[1;32m      6\u001b[0m \u001b[0mpt\u001b[0m \u001b[0;34m=\u001b[0m \u001b[0mmp\u001b[0m\u001b[0;34m.\u001b[0m\u001b[0mVector3\u001b[0m\u001b[0;34m(\u001b[0m\u001b[0;36m0\u001b[0m\u001b[0;34m,\u001b[0m\u001b[0;36m0\u001b[0m\u001b[0;34m,\u001b[0m\u001b[0msz\u001b[0m\u001b[0;34m/\u001b[0m\u001b[0;36m2\u001b[0m\u001b[0;34m-\u001b[0m\u001b[0mdpml\u001b[0m\u001b[0;34m-\u001b[0m\u001b[0;36m0.75\u001b[0m\u001b[0;34m)\u001b[0m\u001b[0;34m\u001b[0m\u001b[0;34m\u001b[0m\u001b[0m\n\u001b[0;32m----> 7\u001b[0;31m \u001b[0msim\u001b[0m\u001b[0;34m.\u001b[0m\u001b[0mrun\u001b[0m\u001b[0;34m(\u001b[0m\u001b[0muntil_after_sources\u001b[0m \u001b[0;34m=\u001b[0m \u001b[0mmp\u001b[0m\u001b[0;34m.\u001b[0m\u001b[0mstop_when_fields_decayed\u001b[0m\u001b[0;34m(\u001b[0m\u001b[0;36m50\u001b[0m\u001b[0;34m,\u001b[0m \u001b[0mmp\u001b[0m\u001b[0;34m.\u001b[0m\u001b[0mEx\u001b[0m\u001b[0;34m,\u001b[0m \u001b[0mpt\u001b[0m\u001b[0;34m,\u001b[0m\u001b[0;36m1e-3\u001b[0m\u001b[0;34m)\u001b[0m\u001b[0;34m)\u001b[0m\u001b[0;34m\u001b[0m\u001b[0;34m\u001b[0m\u001b[0m\n\u001b[0m",
      "\u001b[0;32m~/anaconda3/envs/mp/lib/python3.6/site-packages/meep/simulation.py\u001b[0m in \u001b[0;36mrun\u001b[0;34m(self, *step_funcs, **kwargs)\u001b[0m\n\u001b[1;32m   1827\u001b[0m \u001b[0;34m\u001b[0m\u001b[0m\n\u001b[1;32m   1828\u001b[0m         \u001b[0;32mif\u001b[0m \u001b[0muntil_after_sources\u001b[0m \u001b[0;32mis\u001b[0m \u001b[0;32mnot\u001b[0m \u001b[0;32mNone\u001b[0m\u001b[0;34m:\u001b[0m\u001b[0;34m\u001b[0m\u001b[0;34m\u001b[0m\u001b[0m\n\u001b[0;32m-> 1829\u001b[0;31m             \u001b[0mself\u001b[0m\u001b[0;34m.\u001b[0m\u001b[0m_run_sources_until\u001b[0m\u001b[0;34m(\u001b[0m\u001b[0muntil_after_sources\u001b[0m\u001b[0;34m,\u001b[0m \u001b[0mstep_funcs\u001b[0m\u001b[0;34m)\u001b[0m\u001b[0;34m\u001b[0m\u001b[0;34m\u001b[0m\u001b[0m\n\u001b[0m\u001b[1;32m   1830\u001b[0m         \u001b[0;32melif\u001b[0m \u001b[0muntil\u001b[0m \u001b[0;32mis\u001b[0m \u001b[0;32mnot\u001b[0m \u001b[0;32mNone\u001b[0m\u001b[0;34m:\u001b[0m\u001b[0;34m\u001b[0m\u001b[0;34m\u001b[0m\u001b[0m\n\u001b[1;32m   1831\u001b[0m             \u001b[0mself\u001b[0m\u001b[0;34m.\u001b[0m\u001b[0m_run_until\u001b[0m\u001b[0;34m(\u001b[0m\u001b[0muntil\u001b[0m\u001b[0;34m,\u001b[0m \u001b[0mstep_funcs\u001b[0m\u001b[0;34m)\u001b[0m\u001b[0;34m\u001b[0m\u001b[0;34m\u001b[0m\u001b[0m\n",
      "\u001b[0;32m~/anaconda3/envs/mp/lib/python3.6/site-packages/meep/simulation.py\u001b[0m in \u001b[0;36m_run_sources_until\u001b[0;34m(self, cond, step_funcs)\u001b[0m\n\u001b[1;32m   1175\u001b[0m             \u001b[0mnew_cond\u001b[0m \u001b[0;34m=\u001b[0m \u001b[0mf\u001b[0m\u001b[0;34m\u001b[0m\u001b[0;34m\u001b[0m\u001b[0m\n\u001b[1;32m   1176\u001b[0m \u001b[0;34m\u001b[0m\u001b[0m\n\u001b[0;32m-> 1177\u001b[0;31m         \u001b[0mself\u001b[0m\u001b[0;34m.\u001b[0m\u001b[0m_run_until\u001b[0m\u001b[0;34m(\u001b[0m\u001b[0mnew_cond\u001b[0m\u001b[0;34m,\u001b[0m \u001b[0mstep_funcs\u001b[0m\u001b[0;34m)\u001b[0m\u001b[0;34m\u001b[0m\u001b[0;34m\u001b[0m\u001b[0m\n\u001b[0m\u001b[1;32m   1178\u001b[0m \u001b[0;34m\u001b[0m\u001b[0m\n\u001b[1;32m   1179\u001b[0m     \u001b[0;32mdef\u001b[0m \u001b[0m_run_sources\u001b[0m\u001b[0;34m(\u001b[0m\u001b[0mself\u001b[0m\u001b[0;34m,\u001b[0m \u001b[0mstep_funcs\u001b[0m\u001b[0;34m)\u001b[0m\u001b[0;34m:\u001b[0m\u001b[0;34m\u001b[0m\u001b[0;34m\u001b[0m\u001b[0m\n",
      "\u001b[0;32m~/anaconda3/envs/mp/lib/python3.6/site-packages/meep/simulation.py\u001b[0m in \u001b[0;36m_run_until\u001b[0;34m(self, cond, step_funcs)\u001b[0m\n\u001b[1;32m   1148\u001b[0m             \u001b[0;32mfor\u001b[0m \u001b[0mfunc\u001b[0m \u001b[0;32min\u001b[0m \u001b[0mstep_funcs\u001b[0m\u001b[0;34m:\u001b[0m\u001b[0;34m\u001b[0m\u001b[0;34m\u001b[0m\u001b[0m\n\u001b[1;32m   1149\u001b[0m                 \u001b[0m_eval_step_func\u001b[0m\u001b[0;34m(\u001b[0m\u001b[0mself\u001b[0m\u001b[0;34m,\u001b[0m \u001b[0mfunc\u001b[0m\u001b[0;34m,\u001b[0m \u001b[0;34m'step'\u001b[0m\u001b[0;34m)\u001b[0m\u001b[0;34m\u001b[0m\u001b[0;34m\u001b[0m\u001b[0m\n\u001b[0;32m-> 1150\u001b[0;31m             \u001b[0mself\u001b[0m\u001b[0;34m.\u001b[0m\u001b[0mfields\u001b[0m\u001b[0;34m.\u001b[0m\u001b[0mstep\u001b[0m\u001b[0;34m(\u001b[0m\u001b[0;34m)\u001b[0m\u001b[0;34m\u001b[0m\u001b[0;34m\u001b[0m\u001b[0m\n\u001b[0m\u001b[1;32m   1151\u001b[0m \u001b[0;34m\u001b[0m\u001b[0m\n\u001b[1;32m   1152\u001b[0m         \u001b[0;31m# Translating the recursive scheme version of run-until into an iterative version\u001b[0m\u001b[0;34m\u001b[0m\u001b[0;34m\u001b[0m\u001b[0;34m\u001b[0m\u001b[0m\n",
      "\u001b[0;32m~/anaconda3/envs/mp/lib/python3.6/site-packages/meep/__init__.py\u001b[0m in \u001b[0;36mstep\u001b[0;34m(self)\u001b[0m\n\u001b[1;32m   3733\u001b[0m \u001b[0;34m\u001b[0m\u001b[0m\n\u001b[1;32m   3734\u001b[0m     \u001b[0;32mdef\u001b[0m \u001b[0mstep\u001b[0m\u001b[0;34m(\u001b[0m\u001b[0mself\u001b[0m\u001b[0;34m)\u001b[0m\u001b[0;34m:\u001b[0m\u001b[0;34m\u001b[0m\u001b[0;34m\u001b[0m\u001b[0m\n\u001b[0;32m-> 3735\u001b[0;31m         \u001b[0;32mreturn\u001b[0m \u001b[0m_meep\u001b[0m\u001b[0;34m.\u001b[0m\u001b[0mfields_step\u001b[0m\u001b[0;34m(\u001b[0m\u001b[0mself\u001b[0m\u001b[0;34m)\u001b[0m\u001b[0;34m\u001b[0m\u001b[0;34m\u001b[0m\u001b[0m\n\u001b[0m\u001b[1;32m   3736\u001b[0m \u001b[0;34m\u001b[0m\u001b[0m\n\u001b[1;32m   3737\u001b[0m     \u001b[0;32mdef\u001b[0m \u001b[0mround_time\u001b[0m\u001b[0;34m(\u001b[0m\u001b[0mself\u001b[0m\u001b[0;34m)\u001b[0m\u001b[0;34m:\u001b[0m\u001b[0;34m\u001b[0m\u001b[0;34m\u001b[0m\u001b[0m\n",
      "\u001b[0;31mKeyboardInterrupt\u001b[0m: "
     ]
    }
   ],
   "source": [
    "freg = mp.FluxRegion(center=mp.Vector3(0,0,sz/2-dpml-0.5),\n",
    "                     size = mp.Vector3(sx,sy,0)\n",
    "                    )\n",
    "nfreq = 500\n",
    "trans = sim.add_flux(fcen, df, nfreq, freg)\n",
    "pt = mp.Vector3(0,0,sz/2-dpml-0.75)\n",
    "sim.run(until_after_sources = mp.stop_when_fields_decayed(50, mp.Ex, pt,1e-3))"
   ]
  },
  {
   "cell_type": "code",
   "execution_count": null,
   "metadata": {},
   "outputs": [],
   "source": [
    "straight = mp.get_fluxes(trans)"
   ]
  },
  {
   "cell_type": "code",
   "execution_count": null,
   "metadata": {},
   "outputs": [],
   "source": [
    "straight"
   ]
  },
  {
   "cell_type": "code",
   "execution_count": null,
   "metadata": {},
   "outputs": [],
   "source": [
    "sim.reset_meep()\n",
    "geometry.append(mp.Cylinder(radius = 1, height = 1)\n",
    "               ,center = mp.Vector3())\n",
    "sim = mp.Simulation(cell_size=cell,\n",
    "                    geometry=geometry,\n",
    "                    boundary_layers=pml_layers,\n",
    "                    sources=src,\n",
    "                    resolution = resolution\n",
    "                   )\n",
    "freg = mp.FluxRegion(center=mp.Vector3(0,0,sz/2-dpml-0.5),\n",
    "                     size = mp.Vector3(sx,sy,0)\n",
    "                    )\n",
    "nfreq = 500\n",
    "trans = sim.add_flux(fcen, df, nfreq, freg)\n",
    "pt = mp.Vector3(0,0,sz/2-dpml-0.75)\n",
    "sim.run(until_after_sources = mp.stop_when_fields_decayed(50, mp.Ex, pt,1e-3))"
   ]
  },
  {
   "cell_type": "code",
   "execution_count": null,
   "metadata": {},
   "outputs": [],
   "source": [
    "bend = mp.get_fluxes(trans)\n",
    "flux_freqs = mp.get_flux_freqs(trans)\n",
    "Ts = []\n",
    "wl = []\n",
    "for i in range(nfreq):\n",
    "    wl = np.append(wl, 1/flux_freqs[i])\n",
    "    Ts = np.append(Ts, bend[i]/straight[i])\n",
    "plt.figure()\n",
    "plt.plot(wl,Ts)"
   ]
  }
 ],
 "metadata": {
  "kernelspec": {
   "display_name": "Python 3",
   "language": "python",
   "name": "python3"
  },
  "language_info": {
   "codemirror_mode": {
    "name": "ipython",
    "version": 3
   },
   "file_extension": ".py",
   "mimetype": "text/x-python",
   "name": "python",
   "nbconvert_exporter": "python",
   "pygments_lexer": "ipython3",
   "version": "3.6.7"
  }
 },
 "nbformat": 4,
 "nbformat_minor": 2
}
