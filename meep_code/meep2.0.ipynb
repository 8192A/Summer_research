{
 "cells": [
  {
   "cell_type": "code",
   "execution_count": null,
   "metadata": {},
   "outputs": [],
   "source": [
    "import meep as mp\n",
    "import numpy as np\n",
    "import matplotlib.pyplot as plt\n",
    "\n",
    "eps = 13 # dielectric constant of waveguide\n",
    "r = 1 # radius of cylinder\n",
    "\n",
    "# The cell dimensions\n",
    "sx, sy, sz = 5, 5, 10\n",
    "dpml = 1 # PML thickness (z direction only)\n",
    "cell = mp.Vector3(sx, sy, sz)\n",
    "\n",
    "b = mp.Block(size = mp.Vector3(100, 100, 100))\n",
    "c = mp.Cylinder(radius = r, height = 1, material = mp.Medium(epsilon = eps))\n",
    "\n",
    "resolution = 20\n",
    "\n",
    "# pml layer in z direction\n",
    "pml_layers = [mp.PML(dpml, direction = mp.Z)]\n",
    "\n",
    "\n",
    "pad = 4 # padding distance between waveguide and cell edge\n",
    "w = 0.25 # width of waveguide\n",
    "\n",
    "wvg_xcen = 0\n",
    "wvg_ycen = 0\n",
    "#wvg_zcen = -0.5 * (sz - w - 2 * pad)\n",
    "\n",
    "geometry = [mp.Block(size = mp.Vector3(mp.inf, w, mp.inf),\n",
    "                     center = mp.Vector3(0, wvg_ycen, 0),\n",
    "                     material = mp.Medium(epsilon = 12))]\n",
    "\n",
    "fcen = 0.25 # pulse center frequency \n",
    "df = 1.5 # pulse freq. width: large df = shor impulse\n",
    "\n",
    "s = mp.Source(src = mp.GaussianSource(fcen, fwidth = df), \n",
    "              component = mp.Ex, # in x direction???\n",
    "              center = mp.Vector3(0, 0, -8),\n",
    "              size = mp.Vector3(w, w, 0))\n",
    "\n",
    "sim = mp.Simulation(cell_size = cell,\n",
    "                    boundary_layers = pml_layers,\n",
    "                    geometry = geometry,\n",
    "                    sources = s,\n",
    "                    resolution = resolution)\n",
    "\n",
    "nfreq = 100\n",
    "tran_fr = mp.FluxRegion(center = mp.Vector3(0, 0, 8),\n",
    "                        size = mp.Vector3(2*w, 2*w, 0))\n",
    "tran = sim.add_flux(fcen, df, nfreq, tran_fr)\n",
    "\n",
    "pt = mp.Vector3(0, 0, 7)\n",
    "sim.run(until_after_sources = mp.stop_when_fields_decayed(50, mp.Ex, pt, 1e-3))\n",
    "\n",
    "straight_tran_flux = mp.get_fluxes(tran)"
   ]
  },
  {
   "cell_type": "code",
   "execution_count": 28,
   "metadata": {},
   "outputs": [],
   "source": [
    "import meep as mp\n",
    "import numpy as np\n",
    "import matplotlib.pyplot as plt\n",
    "\n",
    "eps = 13 # dielectric constant of waveguide\n",
    "r = 0.2 # radius of cylinder\n",
    "\n",
    "# The cell dimensions\n",
    "sx, sy, sz = 1, 1, 1\n",
    "dpml = 0.1 # PML thickness (z direction only)\n",
    "cell = mp.Vector3(sx, sy, sz)\n",
    "\n",
    "b = mp.Block(size = mp.Vector3(2, 2, 2))\n",
    "c = mp.Cylinder(radius = r, height = 0.1, material = mp.Medium(epsilon = eps))\n",
    "\n",
    "resolution = 20\n",
    "\n",
    "# pml layer in z direction\n",
    "pml_layers = [mp.PML(dpml, direction = mp.Z)]"
   ]
  },
  {
   "cell_type": "code",
   "execution_count": 29,
   "metadata": {},
   "outputs": [],
   "source": [
    "pad = 4 # padding distance between waveguide and cell edge\n",
    "w = 0.25 # width of waveguide\n",
    "\n",
    "wvg_xcen = 0\n",
    "wvg_ycen = 0\n",
    "#wvg_zcen = -0.5 * (sz - w - 2 * pad)\n",
    "\n",
    "geometry = [mp.Block(size = mp.Vector3(w, w, mp.inf),\n",
    "                     center = mp.Vector3(0, 0, 0),\n",
    "                     material = mp.Medium(epsilon = 12))]\n",
    "\n",
    "fcen = 0.25 # pulse center frequency \n",
    "df = 1.5 # pulse freq. width: large df = shor impulse\n",
    "\n",
    "sources = [mp.Source(src = mp.GaussianSource(fcen, fwidth = df), \n",
    "              component = mp.Ex, # in x direction???\n",
    "              center = mp.Vector3(0, 0, -0.3),\n",
    "              size = mp.Vector3(w, w, 0))]\n",
    "\n",
    "sim = mp.Simulation(cell_size = cell,\n",
    "                    boundary_layers = pml_layers,\n",
    "                    geometry = geometry,\n",
    "                    sources = sources,\n",
    "                    resolution = resolution)\n",
    "\n",
    "nfreq = 100\n",
    "refl_fr = mp.FluxRegion(center = mp.Vector3(0, 0, -0.25),\n",
    "                        size = mp.Vector3(2*w, 2*w, 0))\n",
    "refl = sim.add_flux(fcen, df, nfreq, refl_fr)\n",
    "tran_fr = mp.FluxRegion(center = mp.Vector3(0, 0, 0.3),\n",
    "                        size = mp.Vector3(2*w, 2*w, 0))\n",
    "tran = sim.add_flux(fcen, df, nfreq, tran_fr)"
   ]
  },
  {
   "cell_type": "code",
   "execution_count": 30,
   "metadata": {
    "scrolled": true
   },
   "outputs": [
    {
     "name": "stdout",
     "output_type": "stream",
     "text": [
      "-----------\n",
      "Initializing structure...\n",
      "field decay(t = 50.025000000000006): 0.00047632565312674707 / 0.00047632565312674707 = 1.0\n",
      "field decay(t = 100.05000000000001): 1.8329206152147137e-06 / 0.00047632565312674707 = 0.0038480409425418576\n",
      "field decay(t = 150.07500000000002): 3.669795350963879e-07 / 0.00047632565312674707 = 0.000770438318170399\n",
      "run 0 finished at t = 150.07500000000002 (6003 timesteps)\n"
     ]
    }
   ],
   "source": [
    "pt = mp.Vector3(0, 0, 0.2)\n",
    "sim.run(until_after_sources = mp.stop_when_fields_decayed(50, mp.Ex, pt, 1e-3))\n",
    "straight_refl_data = mp.get_fluxes(refl)\n",
    "straight_tran_flux = mp.get_fluxes(tran)"
   ]
  },
  {
   "cell_type": "code",
   "execution_count": 36,
   "metadata": {
    "scrolled": true
   },
   "outputs": [
    {
     "name": "stdout",
     "output_type": "stream",
     "text": [
      "-----------\n",
      "Initializing structure...\n",
      "field decay(t = 50.025000000000006): 0.00045107367058635047 / 0.00045107367058635047 = 1.0\n",
      "field decay(t = 100.05000000000001): 6.811302581898901e-05 / 0.00045107367058635047 = 0.15100199869890193\n",
      "field decay(t = 150.07500000000002): 8.209451129437193e-05 / 0.00045107367058635047 = 0.18199801196034632\n",
      "field decay(t = 200.10000000000002): 5.3041048435313034e-05 / 0.00045107367058635047 = 0.117588438195395\n",
      "field decay(t = 250.125): 4.432392441663997e-05 / 0.00045107367058635047 = 0.0982631603370317\n",
      "field decay(t = 300.15000000000003): 4.040819730325857e-05 / 0.00045107367058635047 = 0.08958225659842209\n",
      "field decay(t = 350.175): 3.1129195049454344e-05 / 0.00045107367058635047 = 0.06901133247034684\n",
      "field decay(t = 400.20000000000005): 3.2950441516266454e-05 / 0.00045107367058635047 = 0.07304891343676563\n",
      "field decay(t = 450.225): 2.7247024261580082e-05 / 0.00045107367058635047 = 0.060404820849245505\n",
      "field decay(t = 500.25): 2.3551665884398245e-05 / 0.00045107367058635047 = 0.05221245978241967\n",
      "field decay(t = 550.275): 2.139909715478105e-05 / 0.00045107367058635047 = 0.047440359635631965\n",
      "field decay(t = 600.3000000000001): 1.4735581689791699e-05 / 0.00045107367058635047 = 0.032667793867544793\n",
      "field decay(t = 650.325): 1.557828158937399e-05 / 0.00045107367058635047 = 0.034536002886454864\n",
      "field decay(t = 700.35): 1.3059030299282353e-05 / 0.00045107367058635047 = 0.02895099215679542\n",
      "field decay(t = 750.375): 1.125368257750289e-05 / 0.00045107367058635047 = 0.024948657639170632\n",
      "field decay(t = 800.4000000000001): 1.15776974341221e-05 / 0.00045107367058635047 = 0.025666976791334895\n",
      "field decay(t = 850.4250000000001): 1.039725342363094e-05 / 0.00045107367058635047 = 0.023050011786579238\n",
      "field decay(t = 900.45): 7.359285665664045e-06 / 0.00045107367058635047 = 0.016315041523256527\n",
      "field decay(t = 950.475): 8.218140596477792e-06 / 0.00045107367058635047 = 0.01821906516023211\n",
      "field decay(t = 1000.5): 6.139545497333835e-06 / 0.00045107367058635047 = 0.013610959578627239\n",
      "field decay(t = 1050.525): 5.02037835480322e-06 / 0.00045107367058635047 = 0.011129841270223624\n",
      "field decay(t = 1100.55): 4.755134280726333e-06 / 0.00045107367058635047 = 0.010541812991534477\n",
      "field decay(t = 1150.575): 4.802212542561097e-06 / 0.00045107367058635047 = 0.01064618233274113\n",
      "field decay(t = 1200.6000000000001): 4.2309488656265335e-06 / 0.00045107367058635047 = 0.009379729169576058\n",
      "field decay(t = 1250.625): 3.741129442570513e-06 / 0.00045107367058635047 = 0.008293832441400138\n",
      "field decay(t = 1300.65): 3.6479828771569002e-06 / 0.00045107367058635047 = 0.00808733276853621\n",
      "field decay(t = 1350.6750000000002): 3.2137917922481916e-06 / 0.00045107367058635047 = 0.007124760325892187\n",
      "field decay(t = 1400.7): 2.571009165109016e-06 / 0.00045107367058635047 = 0.0056997544586607374\n",
      "field decay(t = 1450.7250000000001): 1.9832979233891912e-06 / 0.00045107367058635047 = 0.004396838150209705\n",
      "field decay(t = 1500.75): 1.9856586724437325e-06 / 0.00045107367058635047 = 0.00440207177213996\n",
      "field decay(t = 1550.775): 1.7196359363763017e-06 / 0.00045107367058635047 = 0.003812317252170688\n",
      "field decay(t = 1600.8000000000002): 1.8345048538319794e-06 / 0.00045107367058635047 = 0.004066973919021492\n",
      "field decay(t = 1650.825): 1.9123107365230122e-06 / 0.00045107367058635047 = 0.0042394643297118196\n",
      "field decay(t = 1700.8500000000001): 1.7221964456979765e-06 / 0.00045107367058635047 = 0.0038179937291824063\n",
      "field decay(t = 1750.875): 1.2104692453194953e-06 / 0.00045107367058635047 = 0.0026835289316399402\n",
      "field decay(t = 1800.9): 1.075819074297757e-06 / 0.00045107367058635047 = 0.0023850185556148736\n",
      "field decay(t = 1850.9250000000002): 1.0479372973508133e-06 / 0.00045107367058635047 = 0.0023232065307394246\n",
      "field decay(t = 1900.95): 8.896640459707637e-07 / 0.00045107367058635047 = 0.0019723253738447863\n",
      "field decay(t = 1950.9750000000001): 9.947570160505928e-07 / 0.00045107367058635047 = 0.0022053094226437745\n",
      "field decay(t = 2001.0): 9.678740973669546e-07 / 0.00045107367058635047 = 0.0021457117993803885\n",
      "field decay(t = 2051.025): 8.108191737727139e-07 / 0.00045107367058635047 = 0.0017975315932732903\n",
      "field decay(t = 2101.05): 5.891485637796807e-07 / 0.00045107367058635047 = 0.0013061027548201755\n",
      "field decay(t = 2151.0750000000003): 7.026766971135627e-07 / 0.00045107367058635047 = 0.001557786993419841\n",
      "field decay(t = 2201.1): 7.037171480492089e-07 / 0.00045107367058635047 = 0.0015600936031900227\n",
      "field decay(t = 2251.125): 5.760860968676589e-07 / 0.00045107367058635047 = 0.0012771441439239954\n",
      "field decay(t = 2301.15): 5.216983499632342e-07 / 0.00045107367058635047 = 0.00115657016576711\n",
      "field decay(t = 2351.175): 4.944847449793514e-07 / 0.00045107367058635047 = 0.0010962394332095927\n",
      "field decay(t = 2401.2000000000003): 3.4014222653928576e-07 / 0.00045107367058635047 = 0.0007540724469622336\n",
      "run 0 finished at t = 2401.2000000000003 (96048 timesteps)\n"
     ]
    }
   ],
   "source": [
    "sim.reset_meep()\n",
    "geometry = [mp.Block(size = mp.Vector3(2, 2, 2),\n",
    "                     material = mp.Medium(epsilon = 12)),\n",
    "            mp.Cylinder(radius = r, \n",
    "                        height = 0.1, \n",
    "                        material = mp.Medium(epsilon = eps))]\n",
    "sim = mp.Simulation(cell_size = cell,\n",
    "                     boundary_layers = pml_layers,\n",
    "                     geometry = geometry,\n",
    "                     sources = sources,\n",
    "                     resolution = resolution)\n",
    "\n",
    "refl = sim.add_flux(fcen, df, nfreq, refl_fr)\n",
    "\n",
    "tran_fr = mp.FluxRegion(center = mp.Vector3(0, 0, 0.3),\n",
    "                        size = mp.Vector3(2 * w, 2 * w, 0))\n",
    "tran = sim.add_flux(fcen, df, nfreq, tran_fr)\n",
    "\n",
    "#sim.load_minus_flux_data(refl, straight_refl_data)\n",
    "\n",
    "pt = mp.Vector3(0, 0, 0.2)\n",
    "sim.run(until_after_sources = mp.stop_when_fields_decayed(50, mp.Ex, pt, 1e-3))\n",
    "\n",
    "bend_tran_flux = mp.get_fluxes(tran)\n",
    "flux_freqs = mp.get_flux_freqs(refl)\n"
   ]
  },
  {
   "cell_type": "code",
   "execution_count": 46,
   "metadata": {},
   "outputs": [
    {
     "data": {
      "image/png": "[encoded data removed]",
      "text/plain": [
       "<Figure size 432x288 with 1 Axes>"
      ]
     },
     "metadata": {
      "needs_background": "light"
     },
     "output_type": "display_data"
    }
   ],
   "source": [
    "bend_tran_flux = mp.get_fluxes(tran)\n",
    "flux_freqs = mp.get_flux_freqs(refl)\n",
    "wl = []\n",
    "Ts = []\n",
    "\n",
    "for i in range(nfreq):\n",
    "    if flux_freqs[i] == 0:\n",
    "        continue\n",
    "    wl = np.append(wl, 1/flux_freqs[i])\n",
    "    Ts = np.append(Ts, bend_tran_flux[i]/straight_tran_flux[i])\n",
    "    \n",
    "if mp.am_master():\n",
    "    plt.figure()\n",
    "    plt.plot(wl, Ts, 'ro-', label = 'transmittance')\n",
    "    plt.axis([0, 20.0, -10000, 10000])\n",
    "    plt.show()"
   ]
  },
  {
   "cell_type": "code",
   "execution_count": null,
   "metadata": {},
   "outputs": [],
   "source": []
  }
 ],
 "metadata": {
  "kernelspec": {
   "display_name": "Python 3",
   "language": "python",
   "name": "python3"
  },
  "language_info": {
   "codemirror_mode": {
    "name": "ipython",
    "version": 3
   },
   "file_extension": ".py",
   "mimetype": "text/x-python",
   "name": "python",
   "nbconvert_exporter": "python",
   "pygments_lexer": "ipython3",
   "version": "3.6.7"
  }
 },
 "nbformat": 4,
 "nbformat_minor": 2
}
