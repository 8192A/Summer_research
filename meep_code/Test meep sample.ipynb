{
 "cells": [
  {
   "cell_type": "code",
   "execution_count": 13,
   "metadata": {},
   "outputs": [],
   "source": [
    "import meep as mp\n",
    "import numpy as np\n",
    "import matplotlib.pyplot as plt\n",
    "\n",
    "resolution = 10 # pixels/um\n",
    "\n",
    "sx = 16  # size of cell in X direction\n",
    "sy = 32  # size of cell in Y direction\n",
    "cell = mp.Vector3(sx,sy,0)\n",
    "\n",
    "dpml = 1.0\n",
    "pml_layers = [mp.PML(dpml)]"
   ]
  },
  {
   "cell_type": "code",
   "execution_count": 14,
   "metadata": {},
   "outputs": [],
   "source": [
    "pad = 1  # padding distance between waveguide and cell edge\n",
    "w = 1    # width of waveguide"
   ]
  },
  {
   "cell_type": "code",
   "execution_count": 15,
   "metadata": {},
   "outputs": [],
   "source": [
    "wvg_xcen =  0.5*(sx-w-2*pad)  # x center of horiz. wvg\n",
    "wvg_ycen = -0.5*(sy-w-2*pad)  # y center of vert. wvg"
   ]
  },
  {
   "cell_type": "code",
   "execution_count": 16,
   "metadata": {},
   "outputs": [],
   "source": [
    "geometry = [mp.Block(size=mp.Vector3(mp.inf,w,mp.inf),\n",
    "                     center=mp.Vector3(0,wvg_ycen,0),\n",
    "                     material=mp.Medium(epsilon=12))]"
   ]
  },
  {
   "cell_type": "code",
   "execution_count": 17,
   "metadata": {},
   "outputs": [],
   "source": [
    "fcen = 0.15  # pulse center frequency\n",
    "df = 0.1     # pulse width (in frequency)\n",
    "sources = [mp.Source(mp.GaussianSource(fcen,fwidth=df),\n",
    "                     component=mp.Ez,\n",
    "                     center=mp.Vector3(-0.5*sx+dpml,wvg_ycen,0),\n",
    "                     size=mp.Vector3(0,w,0))]\n"
   ]
  },
  {
   "cell_type": "code",
   "execution_count": 18,
   "metadata": {},
   "outputs": [],
   "source": [
    "sim = mp.Simulation(cell_size=cell,\n",
    "                    boundary_layers=pml_layers,\n",
    "                    geometry=geometry,\n",
    "                    sources=sources,\n",
    "                    resolution=resolution)\n",
    "\n",
    "nfreq = 100  # number of frequencies at which to compute flux\n",
    "\n",
    "# reflected flux\n",
    "refl_fr = mp.FluxRegion(center=mp.Vector3(-0.5*sx+dpml+0.5,wvg_ycen,0), size=mp.Vector3(0,2*w,0))                            \n",
    "refl = sim.add_flux(fcen, df, nfreq, refl_fr)\n",
    "\n",
    "# transmitted flux\n",
    "tran_fr = mp.FluxRegion(center=mp.Vector3(0.5*sx-dpml,wvg_ycen,0), size=mp.Vector3(0,2*w,0))\n",
    "tran = sim.add_flux(fcen, df, nfreq, tran_fr)"
   ]
  },
  {
   "cell_type": "code",
   "execution_count": 20,
   "metadata": {
    "scrolled": true
   },
   "outputs": [
    {
     "name": "stdout",
     "output_type": "stream",
     "text": [
      "field decay(t = 200.15): 9.825105984051625e-17 / 9.825105984051625e-17 = 1.0\n",
      "field decay(t = 250.20000000000002): 4.115085979384511e-15 / 4.115085979384511e-15 = 1.0\n",
      "field decay(t = 300.2): 3.1598263154800516e-15 / 4.115085979384511e-15 = 0.7678639842059055\n",
      "field decay(t = 350.25): 1.000989143899876e-15 / 4.115085979384511e-15 = 0.24324865845199006\n",
      "field decay(t = 400.3): 5.37218207192106e-16 / 4.115085979384511e-15 = 0.13054847696583416\n",
      "field decay(t = 450.35): 1.3934186631836252e-15 / 4.115085979384511e-15 = 0.33861228420603673\n",
      "field decay(t = 500.40000000000003): 1.402706424944705e-15 / 4.115085979384511e-15 = 0.340869287293605\n",
      "field decay(t = 550.4): 1.059671159237058e-15 / 4.115085979384511e-15 = 0.2575088745522522\n",
      "field decay(t = 600.45): 7.246459831523388e-16 / 4.115085979384511e-15 = 0.1760949799791846\n",
      "field decay(t = 650.5): 3.283406930547674e-16 / 4.115085979384511e-15 = 0.07978950979388211\n",
      "field decay(t = 700.5500000000001): 2.2528780737217156e-16 / 4.115085979384511e-15 = 0.05474680444122035\n",
      "field decay(t = 750.6): 1.095969573684185e-16 / 4.115085979384511e-15 = 0.02663296901145448\n",
      "field decay(t = 800.6500000000001): 1.1463628953518075e-16 / 4.115085979384511e-15 = 0.02785756849540402\n",
      "field decay(t = 850.7): 1.2313190926023878e-16 / 4.115085979384511e-15 = 0.029922074502719255\n",
      "field decay(t = 900.75): 1.1415635436338376e-16 / 4.115085979384511e-15 = 0.027740940270817378\n",
      "field decay(t = 950.8000000000001): 8.184596782599864e-17 / 4.115085979384511e-15 = 0.019889248544507993\n",
      "field decay(t = 1000.85): 2.7862366427077577e-17 / 4.115085979384511e-15 = 0.006770785973041787\n",
      "field decay(t = 1050.9): 2.5844174281077942e-17 / 4.115085979384511e-15 = 0.006280348554210142\n",
      "field decay(t = 1100.95): 5.2144966307282525e-17 / 4.115085979384511e-15 = 0.012671659005064529\n",
      "field decay(t = 1151.0): 6.894720315862967e-17 / 4.115085979384511e-15 = 0.01675474182168656\n",
      "field decay(t = 1201.05): 1.160895701385902e-16 / 4.115085979384511e-15 = 0.02821072772723781\n",
      "field decay(t = 1251.1000000000001): 1.2263306940346272e-16 / 4.115085979384511e-15 = 0.029800852282995265\n",
      "field decay(t = 1301.15): 1.3850012172310805e-16 / 4.115085979384511e-15 = 0.033656677507336884\n",
      "field decay(t = 1351.2): 1.4536050405540416e-16 / 4.115085979384511e-15 = 0.035323807274895765\n",
      "field decay(t = 1401.25): 1.3488624835934222e-16 / 4.115085979384511e-15 = 0.03277847632712574\n",
      "field decay(t = 1451.3000000000002): 1.166517353061843e-16 / 4.115085979384511e-15 = 0.028347338522348872\n",
      "field decay(t = 1501.3500000000001): 1.0319779900142817e-16 / 4.115085979384511e-15 = 0.025077920490221044\n",
      "field decay(t = 1551.4): 1.099730912054227e-16 / 4.115085979384511e-15 = 0.026724372651351323\n",
      "field decay(t = 1601.45): 5.000626311779006e-17 / 4.115085979384511e-15 = 0.012151936403834128\n",
      "field decay(t = 1651.5): 5.526414243650083e-17 / 4.115085979384511e-15 = 0.01342964465708846\n",
      "field decay(t = 1701.5500000000002): 4.784607216938687e-17 / 4.115085979384511e-15 = 0.01162699209909173\n",
      "field decay(t = 1751.6000000000001): 5.1194371083590866e-17 / 4.115085979384511e-15 = 0.012440656486902358\n",
      "field decay(t = 1801.65): 3.220230593743434e-17 / 4.115085979384511e-15 = 0.00782542724471842\n",
      "field decay(t = 1851.7): 4.4076178715117246e-17 / 4.115085979384511e-15 = 0.010710876743749025\n",
      "field decay(t = 1901.75): 3.7827701415217016e-17 / 4.115085979384511e-15 = 0.009192444970706265\n",
      "field decay(t = 1951.8000000000002): 4.205634076826491e-17 / 4.115085979384511e-15 = 0.010220039381669306\n",
      "field decay(t = 2001.8500000000001): 1.3578597162715645e-17 / 4.115085979384511e-15 = 0.003299711653836837\n",
      "field decay(t = 2051.85): 4.389429108047148e-17 / 4.115085979384511e-15 = 0.010666676540993366\n",
      "field decay(t = 2101.9): 6.370907302218503e-17 / 4.115085979384511e-15 = 0.01548183278340977\n",
      "field decay(t = 2151.9500000000003): 2.929486361652524e-17 / 4.115085979384511e-15 = 0.007118894663023988\n",
      "field decay(t = 2202.0): 1.1728997835618544e-17 / 4.115085979384511e-15 = 0.0028502436873440095\n",
      "field decay(t = 2252.05): 2.5372053349784057e-17 / 4.115085979384511e-15 = 0.006165619254832417\n",
      "field decay(t = 2302.1): 3.1283346406151844e-17 / 4.115085979384511e-15 = 0.007602112462017345\n",
      "field decay(t = 2352.15): 3.1025688854200337e-17 / 4.115085979384511e-15 = 0.007539499541353645\n",
      "field decay(t = 2402.2000000000003): 2.6840095788189187e-17 / 4.115085979384511e-15 = 0.006522365734920472\n",
      "field decay(t = 2452.25): 1.7580790746893758e-17 / 4.115085979384511e-15 = 0.004272277866117222\n",
      "field decay(t = 2502.3): 1.1378382902169755e-17 / 4.115085979384511e-15 = 0.0027650413525191053\n",
      "field decay(t = 2552.3500000000004): 2.1028494166270892e-17 / 4.115085979384511e-15 = 0.005110098372577892\n",
      "field decay(t = 2602.4): 2.158395764611655e-17 / 4.115085979384511e-15 = 0.005245080602020577\n",
      "field decay(t = 2652.4500000000003): 1.9302796698864628e-17 / 4.115085979384511e-15 = 0.004690739584923989\n",
      "field decay(t = 2702.5): 1.9333697518443218e-17 / 4.115085979384511e-15 = 0.004698248740196417\n",
      "field decay(t = 2752.55): 1.855128781054553e-17 / 4.115085979384511e-15 = 0.0045081166963418405\n",
      "field decay(t = 2802.6000000000004): 1.7229183718190134e-17 / 4.115085979384511e-15 = 0.004186834443922623\n",
      "field decay(t = 2852.65): 1.3109272367402774e-17 / 4.115085979384511e-15 = 0.0031856618386776727\n",
      "field decay(t = 2902.7000000000003): 6.358787352641979e-18 / 4.115085979384511e-15 = 0.001545238030140273\n",
      "field decay(t = 2952.75): 4.841464403461948e-18 / 4.115085979384511e-15 = 0.0011765159774829491\n",
      "field decay(t = 3002.8): 1.319869921640744e-17 / 4.115085979384511e-15 = 0.003207393304181108\n",
      "field decay(t = 3052.8500000000004): 1.5931119922447583e-17 / 4.115085979384511e-15 = 0.0038713941828331815\n",
      "field decay(t = 3102.9): 1.4491025394509572e-17 / 4.115085979384511e-15 = 0.0035214392766289124\n",
      "field decay(t = 3152.9500000000003): 1.2699816391534351e-17 / 4.115085979384511e-15 = 0.003086160642853408\n",
      "field decay(t = 3203.0): 9.203188582755426e-18 / 4.115085979384511e-15 = 0.0022364511042687707\n",
      "field decay(t = 3253.05): 4.356409902914508e-18 / 4.115085979384511e-15 = 0.001058643713579489\n",
      "field decay(t = 3303.1000000000004): 2.6366660726271584e-18 / 4.115085979384511e-15 = 0.0006407317090909293\n",
      "run 1 finished at t = 3303.1000000000004 (66062 timesteps)\n"
     ]
    }
   ],
   "source": [
    "pt = mp.Vector3(0.5*sx-dpml-0.5,wvg_ycen)\n",
    "\n",
    "sim.run(until_after_sources=mp.stop_when_fields_decayed(50,mp.Ez,pt,1e-3))\n",
    "\n",
    "# for normalization run, save flux fields data for reflection plane\n",
    "straight_refl_data = sim.get_flux_data(refl)"
   ]
  },
  {
   "cell_type": "code",
   "execution_count": 21,
   "metadata": {},
   "outputs": [],
   "source": [
    "straight_tran_flux = mp.get_fluxes(tran)"
   ]
  },
  {
   "cell_type": "code",
   "execution_count": 22,
   "metadata": {},
   "outputs": [
    {
     "name": "stdout",
     "output_type": "stream",
     "text": [
      "-----------\n",
      "Initializing structure...\n",
      "field decay(t = 50.050000000000004): 1.0712112480153345e-11 / 1.0712112480153345e-11 = 1.0\n",
      "field decay(t = 100.05000000000001): 5.067000000543932e-07 / 5.067000000543932e-07 = 1.0\n",
      "field decay(t = 150.1): 7.363526222864505e-07 / 7.363526222864505e-07 = 1.0\n",
      "field decay(t = 200.15): 0.00504850579957142 / 0.00504850579957142 = 1.0\n",
      "field decay(t = 250.20000000000002): 0.005818763912318551 / 0.005818763912318551 = 1.0\n",
      "field decay(t = 300.2): 3.468840012126006e-09 / 0.005818763912318551 = 5.961472340856339e-07\n",
      "run 0 finished at t = 300.2 (6004 timesteps)\n"
     ]
    }
   ],
   "source": [
    "sim.reset_meep()\n",
    "\n",
    "geometry = [mp.Block(mp.Vector3(sx-pad,w,mp.inf), center=mp.Vector3(-0.5*pad,wvg_ycen), material=mp.Medium(epsilon=12)),\n",
    "            mp.Block(mp.Vector3(w,sy-pad,mp.inf), center=mp.Vector3(wvg_xcen,0.5*pad), material=mp.Medium(epsilon=12))]\n",
    "\n",
    "sim = mp.Simulation(cell_size=cell,\n",
    "                    boundary_layers=pml_layers,\n",
    "                    geometry=geometry,\n",
    "                    sources=sources,\n",
    "                    resolution=resolution)\n",
    "\n",
    "# reflected flux\n",
    "refl = sim.add_flux(fcen, df, nfreq, refl_fr)\n",
    "\n",
    "tran_fr = mp.FluxRegion(center=mp.Vector3(wvg_xcen,0.5*sy-dpml-0.5,0), size=mp.Vector3(2*w,0,0))\n",
    "tran = sim.add_flux(fcen, df, nfreq, tran_fr)\n",
    "\n",
    "# for normal run, load negated fields to subtract incident from refl. fields\n",
    "sim.load_minus_flux_data(refl, straight_refl_data)\n",
    "\n",
    "pt = mp.Vector3(wvg_xcen,0.5*sy-dpml-0.5)\n",
    "\n",
    "sim.run(until_after_sources=mp.stop_when_fields_decayed(50, mp.Ez, pt, 1e-3))\n",
    "\n",
    "bend_refl_flux = mp.get_fluxes(refl)\n",
    "bend_tran_flux = mp.get_fluxes(tran)\n",
    "\n",
    "flux_freqs = mp.get_flux_freqs(refl)\n"
   ]
  },
  {
   "cell_type": "code",
   "execution_count": 23,
   "metadata": {},
   "outputs": [
    {
     "data": {
      "image/png": "[encoded data removed]",
      "text/plain": [
       "<Figure size 432x288 with 1 Axes>"
      ]
     },
     "metadata": {
      "needs_background": "light"
     },
     "output_type": "display_data"
    }
   ],
   "source": [
    "wl = []\n",
    "Rs = []\n",
    "Ts = []\n",
    "for i in range(nfreq):\n",
    "    wl = np.append(wl, 1/flux_freqs[i])\n",
    "    Rs = np.append(Rs,-bend_refl_flux[i]/straight_tran_flux[i])\n",
    "    Ts = np.append(Ts,bend_tran_flux[i]/straight_tran_flux[i])    \n",
    "\n",
    "if mp.am_master():\n",
    "    plt.figure()\n",
    "    plt.plot(wl,Rs,'bo-',label='reflectance')\n",
    "    plt.plot(wl,Ts,'ro-',label='transmittance')\n",
    "    plt.plot(wl,1-Rs-Ts,'go-',label='loss')\n",
    "    plt.axis([5.0, 10.0, 0, 1])\n",
    "    plt.xlabel(\"wavelength (μm)\")\n",
    "    plt.legend(loc=\"upper right\")\n",
    "    plt.show()"
   ]
  }
 ],
 "metadata": {
  "kernelspec": {
   "display_name": "Python 3",
   "language": "python",
   "name": "python3"
  },
  "language_info": {
   "codemirror_mode": {
    "name": "ipython",
    "version": 3
   },
   "file_extension": ".py",
   "mimetype": "text/x-python",
   "name": "python",
   "nbconvert_exporter": "python",
   "pygments_lexer": "ipython3",
   "version": "3.6.7"
  }
 },
 "nbformat": 4,
 "nbformat_minor": 2
}
