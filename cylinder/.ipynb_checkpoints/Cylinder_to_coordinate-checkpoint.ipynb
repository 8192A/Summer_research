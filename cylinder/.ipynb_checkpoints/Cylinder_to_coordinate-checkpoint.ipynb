{
 "cells": [
  {
   "cell_type": "code",
   "execution_count": null,
   "metadata": {},
   "outputs": [
    {
     "name": "stderr",
     "output_type": "stream",
     "text": [
      "Using TensorFlow backend.\n"
     ]
    }
   ],
   "source": [
    "%matplotlib notebook\n",
    "import os\n",
    "import sys\n",
    "sys.path.append(\"numpy_path\")\n",
    "import numpy as np\n",
    "import struct\n",
    "from matplotlib import pyplot as plt\n",
    "import keras\n",
    "from keras.models import Sequential\n",
    "from keras.layers import Dense, Dropout, Activation\n",
    "from keras.optimizers import RMSprop\n",
    "import keras.callbacks as cb\n",
    "from keras.callbacks import EarlyStopping, ModelCheckpoint\n",
    "from mpl_toolkits import mplot3d\n",
    "\n",
    "# define loss history\n",
    "class LossHistory(cb.Callback):\n",
    "    def on_train_begin(self, logs={}):\n",
    "        self.losses = []\n",
    "    def on_batch_end(self, batch, logs={}):\n",
    "        batch_loss = logs.get('loss')\n",
    "        self.losses.append(batch_loss)\n",
    "\n",
    "#plot losses\n",
    "def plot_losses(losses):\n",
    "    plt.plot(losses)\n",
    "    plt.title('Loss per batch')\n",
    "    plt.show()\n",
    "\n",
    "def feature_scaling(X):\n",
    "    X = X.T\n",
    "    for i in range(7):\n",
    "        mean = X[i].mean()\n",
    "        std = X[i].std()\n",
    "        X[i] = [(x - mean)/std for x in X[i]]\n",
    "    return X.T\n",
    "\n",
    "# input dimension\n",
    "dim = 50\n",
    "\n",
    "def init_model():\n",
    "    model = Sequential()\n",
    "    model.add(Dense(10, input_dim=dim))\n",
    "    #model.add(Dropout(0.9))   # dropouot actually is bad in this case\n",
    "    model.add(Activation('relu'))\n",
    "    model.add(Dense(20))\n",
    "    #model.add(Dropout(0.4))\n",
    "    model.add(Activation('relu'))\n",
    "    model.add(Dense(1))\n",
    "    model.add(Activation('sigmoid'))\n",
    "    # use mean squared error to measure the looses\n",
    "    model.compile(loss=keras.losses.mean_squared_error,\n",
    "              optimizer=keras.optimizers.Adam(lr = 0.001),\n",
    "              metrics=['accuracy'])\n",
    "    return model"
   ]
  },
  {
   "cell_type": "code",
   "execution_count": null,
   "metadata": {},
   "outputs": [],
   "source": [
    "# get data from the source\n",
    "raw_data = np.genfromtxt('C:/Users/jeffe/Desktop/Summer_research/cylinder/Data_r_freq.txt')\n",
    "data_size = len(raw_data)\n",
    "# we only need two type of data transmission and its according transmission\n",
    "# initialize a 2D array (len(raw_data), 2) with all zeros\n",
    "all_d = np.zeros((data_size, 2))\n",
    "\n",
    "# calculate transmission\n",
    "# formula: a**2 + b**2\n",
    "for i in range(len(raw_data)):\n",
    "    all_d[i, 0] = raw_data[i, 0]\n",
    "    all_d[i, 1] = raw_data[i, 2]**2 + raw_data[i, 3]**2\n",
    "\n",
    "# learn from 50 equally seperated points from spectrum\n",
    "x = np.reshape(all_d[:, -1], (data_size // 50, 50))\n",
    "# according radius of its spectrum\n",
    "y = np.reshape(all_d[:, 0], (data_size, 1))\n",
    "y_processed = []\n",
    "for i in range(0, len(y), 50):\n",
    "    y_processed.append(y[i])\n",
    "y_processed = np.array(y_processed)\n",
    "\n",
    "# In the original data, different spectrum was generated as radius of the cylinder increases\n",
    "# We shuffled the data and ensure there's no sequence in the training or testing data\n",
    "shuffled_data = np.append(y_processed, x, axis = 1)\n",
    "np.random.shuffle(shuffled_data)\n",
    "\n",
    "# extract x and y from the shuffled data\n",
    "x = np.reshape(shuffled_data[:, 1:], (41, 50))\n",
    "x = np.subtract(x, 0.5)\n",
    "y_processed = np.reshape(shuffled_data[:, 0], (41, 1))\n",
    "keras.utils.normalize(x)\n",
    "\n",
    "train_x = x[0:30, :]\n",
    "train_y = y_processed[0:30]\n",
    "test_x = x[31:41, :]\n",
    "test_y = y_processed[31:41]"
   ]
  },
  {
   "cell_type": "code",
   "execution_count": null,
   "metadata": {},
   "outputs": [],
   "source": []
  }
 ],
 "metadata": {
  "kernelspec": {
   "display_name": "Python 3",
   "language": "python",
   "name": "python3"
  },
  "language_info": {
   "codemirror_mode": {
    "name": "ipython",
    "version": 3
   },
   "file_extension": ".py",
   "mimetype": "text/x-python",
   "name": "python",
   "nbconvert_exporter": "python",
   "pygments_lexer": "ipython3",
   "version": "3.7.3"
  }
 },
 "nbformat": 4,
 "nbformat_minor": 2
}
