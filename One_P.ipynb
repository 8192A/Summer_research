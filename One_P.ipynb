{
 "cells": [
  {
   "cell_type": "code",
   "execution_count": 1,
   "metadata": {},
   "outputs": [
    {
     "name": "stderr",
     "output_type": "stream",
     "text": [
      "Using TensorFlow backend.\n"
     ]
    }
   ],
   "source": [
    "#%matplotlib notebook\n",
    "import os\n",
    "import sys\n",
    "sys.path.append(\"numpy_path\")\n",
    "import numpy as np\n",
    "import struct\n",
    "from matplotlib import pyplot as plt\n",
    "import keras\n",
    "from keras.models import Sequential\n",
    "from keras.layers import Dense, Dropout, Activation\n",
    "from keras.optimizers import RMSprop\n",
    "import keras.callbacks as cb\n",
    "from keras.callbacks import EarlyStopping, ModelCheckpoint\n",
    "from math import cos, sin, pi\n",
    "import math\n",
    "from statistics import mean\n",
    "import os.path\n",
    "\n",
    "shape_size = 48\n",
    "\n",
    "# define loss history\n",
    "class LossHistory(cb.Callback):\n",
    "    def on_train_begin(self, logs={}):\n",
    "        self.losses = []\n",
    "    def on_batch_end(self, batch, logs={}):\n",
    "        batch_loss = logs.get('loss')\n",
    "        self.losses.append(batch_loss)\n",
    "\n",
    "#plot losses\n",
    "def plot_losses(losses):\n",
    "    plt.plot(losses)\n",
    "    plt.title('Loss per batch')\n",
    "    plt.show()\n",
    "\n",
    "def feature_scaling(X):\n",
    "    X = X.T\n",
    "    for i in range(7):\n",
    "        mean = X[i].mean()\n",
    "        std = X[i].std()\n",
    "        X[i] = [(x - mean)/std for x in X[i]]\n",
    "    return X.T\n",
    "\n",
    "# input dimension\n",
    "dim = 200\n",
    "\n",
    "def init_model():\n",
    "    model = Sequential()\n",
    "    model.add(Dense(10, input_dim=dim))\n",
    "    model.add(Activation('relu'))\n",
    "    model.add(Dense(20))\n",
    "    model.add(Activation('relu'))\n",
    "    model.add(Dense(30))\n",
    "    model.add(Activation('relu'))\n",
    "    model.add(Dense(50))\n",
    "    model.add(Activation('relu'))\n",
    "    model.add(Dense(80))\n",
    "    model.add(Activation('relu'))\n",
    "    model.add(Dense(100))\n",
    "    model.add(Activation('relu'))\n",
    "    model.add(Dense(80))\n",
    "    model.add(Activation('relu'))\n",
    "    model.add(Dense(40))\n",
    "    model.add(Activation('relu'))\n",
    "    model.add(Dense(30))\n",
    "    model.add(Activation('relu'))\n",
    "    model.add(Dense(20))\n",
    "    model.add(Activation('relu'))\n",
    "    model.add(Dense(6))\n",
    "    model.add(Activation('sigmoid'))\n",
    "    # use mean squared error to measure the looses\n",
    "    model.compile(loss=keras.losses.mean_squared_error,\n",
    "              optimizer=keras.optimizers.Adam(lr = 0.001),\n",
    "              metrics=['accuracy'])\n",
    "    return model"
   ]
  },
  {
   "cell_type": "code",
   "execution_count": 33,
   "metadata": {
    "scrolled": true
   },
   "outputs": [
    {
     "name": "stdout",
     "output_type": "stream",
     "text": [
      "Batch 2 has \t7\n",
      "Batch 3 has \t6\n",
      "Batch 4 has \t17\n",
      "Batch 5 has \t5\n",
      "Batch 6 has \t14\n",
      "Batch 7 has \t14\n",
      "Batch 8 has \t40\n",
      "Batch 9 has \t5\n",
      "Batch 10 has \t14\n",
      "Batch 11 has \t14\n",
      "Batch 12 has \t40\n",
      "Batch 13 has \t13\n",
      "Batch 14 has \t37\n",
      "Batch 15 has \t37\n",
      "Missing batch:16\n",
      "Batch 17 has \t5\n",
      "Batch 18 has \t14\n",
      "Batch 19 has \t14\n",
      "Batch 20 has \t40\n",
      "Batch 21 has \t13\n",
      "Batch 22 has \t37\n",
      "Batch 23 has \t37\n",
      "Batch 24 has \t106\n",
      "Batch 25 has \t13\n",
      "Batch 26 has \t37\n",
      "Batch 27 has \t37\n",
      "Batch 28 has \t106\n",
      "Batch 29 has \t35\n",
      "Batch 30 has \t100\n",
      "Batch 31 has \t100\n",
      "Batch 32 has \t287\n",
      "Batch 33 has \t5\n",
      "Batch 34 has \t14\n",
      "Batch 35 has \t14\n",
      "Batch 36 has \t40\n",
      "Batch 37 has \t13\n",
      "Batch 38 has \t37\n",
      "Batch 39 has \t37\n",
      "Total # of data: 1405\n"
     ]
    }
   ],
   "source": [
    "data_size = 0\n",
    "dummy1 = [0]*200\n",
    "dummy2 = [0]*6\n",
    "SP = np.array(np.reshape(dummy1, (1, 200)))\n",
    "SH = np.array(np.reshape(dummy2, (1, 6)))\n",
    "for i in range(2, 40):\n",
    "    path = 'meep_code/data/DATA'+str(i)\n",
    "    if not os.path.exists(path):\n",
    "        #miss.append(i)\n",
    "        print('Missing batch:' + str(i))\n",
    "        continue\n",
    "        \n",
    "    files = next(os.walk(path))[2] #dir is your directory path as string]\n",
    "    num_data = len(files)\n",
    "    data_size += num_data\n",
    "    skip = []\n",
    "    \n",
    "    coordinates = np.genfromtxt('meep_code/data/DATA'+str(i)+'_sh.txt')\n",
    "    xc, yc = coordinates[:, 0], coordinates[:, 1]\n",
    "    xc = np.reshape(xc, (num_data, shape_size))\n",
    "    yc = np.reshape(yc, (num_data, shape_size))\n",
    "    \n",
    "    for j in range(num_data):\n",
    "        tmp = np.genfromtxt(path+'/'+'DATA'+str(i)+'_sp'+str(j)+'.txt')\n",
    "        valid = True\n",
    "        for q in range(200):       \n",
    "            if tmp[q] > 3:\n",
    "                print('Batch '+str(i)+'\\tsample '+str(j)+' has extreme value')\n",
    "                valid = False\n",
    "                break\n",
    "        if not valid:\n",
    "            #skip.append(j)\n",
    "            continue\n",
    "        SP = np.concatenate((SP, np.reshape(tmp, (1, 200))))\n",
    "        tmp = []\n",
    "        for q in range(6):\n",
    "            tmp.append(math.sqrt(xc[j][q]**2 + yc[j][q]**2))\n",
    "        SH = np.concatenate((SH, np.reshape(np.array(tmp), (1, 6))))\n",
    "        #print(SP.shape)\n",
    "    #print(files)\n",
    "#     coordinates = np.genfromtxt('meep_code/data/DATA'+str(i)+'_sh.txt')\n",
    "#     xc, yc = coordinates[:, 0], coordinates[:, 1]\n",
    "#     xc = np.reshape(xc, (num_data, shape_size))\n",
    "#     yc = np.reshape(yc, (num_data, shape_size))\n",
    "#     for j in range(num_data):\n",
    "#         if j in skip:\n",
    "#             continue\n",
    "#         tmp = []\n",
    "#         for q in range(6):\n",
    "#             tmp.append(math.sqrt(xc[j][q]**2 + yc[j][q]**2))\n",
    "#         SH = np.concatenate((SH, np.reshape(np.array(tmp), (1, 6))))\n",
    "    print('Batch '+str(i)+' has \\t'+str(num_data)) \n",
    "#     freq = np.genfromtxt('meep_code/data/freq.txt')   \n",
    "#     for j in range(num_data):\n",
    "#         print(j)\n",
    "#         plt.ylim(0, 1.1)\n",
    "#         plt.plot(freq, SP[data_size - num_data + j + 1])\n",
    "#         plt.show()\n",
    "#         plt.axis('equal')\n",
    "#         plt.ylim(-0.5, 0.5)\n",
    "#         plt.xlim(-0.5, 0.5)\n",
    "#         plt.plot(xc[j], yc[j])\n",
    "#         plt.fill(xc[j], yc[j])\n",
    "#         plt.show()\n",
    "distribution = []\n",
    "print('Total # of data: ' + str(len(SP)))\n",
    "x = np.genfromtxt('meep_code/data/SP_xaxis.txt')\n",
    "SP_F, SH_F = np.reshape(SP[1], (1, 200)),np.reshape(SH[1], (1, 6))\n",
    "for i in range(2, len(SP)):\n",
    "    peak = 0\n",
    "    p_index = 0\n",
    "    p_pos = [(0,0),(0,0)]\n",
    "    for j in range(1, 200):\n",
    "        if SP[i][j] < SP[i][p_index]:\n",
    "            p_index = j\n",
    "        if SP[i][j - 1] >= 0.6 >=SP[i][j]:\n",
    "            peak += 1\n",
    "            p_pos = [((j-1)/2+200,SP[i][j - 1]), (j/2+200, SP[i][j])]\n",
    "    if peak == 1:\n",
    "        distribution.append([1,p_index])\n",
    "        SP_F = np.concatenate((SP_F, np.reshape(SP[i], (1, 200))))\n",
    "        SH_F = np.concatenate((SH_F, np.reshape(SH[i], (1, 6))))\n",
    "        \n",
    "#         plt.ylim(0, 1.1)\n",
    "#         plt.plot(x, SP[i])\n",
    "#         plt.plot(p_pos[0][0], p_pos[0][1])\n",
    "#         plt.plot(p_pos[1][0], p_pos[1][1])\n",
    "#         plt.show()\n",
    "#         print(p_pos[0][0], p_pos[0][1])\n",
    "#         print(p_pos[1][0], p_pos[1][1])\n",
    "\n",
    "# filt = [6,12,23,24,43,71,72,69,67,72,*[x for x in range(75, 81)],89,*[x for x in range(97, 102)]\n",
    "#        ,109,110,114,127,*[x for x in range(154, 160)]\n",
    "#        ,163,168,178,179,180,181,195,196,202,207,216,217,230\n",
    "#        ,287,312,*[x for x in range(314, 321)],*[x for x in range(343, 349)], 362,369,375,386,388]\n",
    "# SP_F, SH_F = np.reshape(SP[0], (1, 200)),np.reshape(SH[0], (1, 6))\n",
    "# for i in range(1, len(SP)):\n",
    "#     #print(i)\n",
    "#     if i in filt:\n",
    "#         continue\n",
    "#     SP_F = np.concatenate((SP_F, np.reshape(SP[i], (1, 200))))\n",
    "#     SH_F = np.concatenate((SH_F, np.reshape(SH[i], (1, 6))))"
   ]
  },
  {
   "cell_type": "code",
   "execution_count": 34,
   "metadata": {},
   "outputs": [
    {
     "data": {
      "text/plain": [
       "[[1, 164],\n",
       " [1, 52],\n",
       " [1, 189],\n",
       " [1, 164],\n",
       " [1, 148],\n",
       " [1, 52],\n",
       " [1, 150],\n",
       " [1, 187],\n",
       " [1, 147],\n",
       " [1, 198],\n",
       " [1, 146],\n",
       " [1, 198],\n",
       " [1, 186],\n",
       " [1, 165],\n",
       " [1, 146],\n",
       " [1, 131],\n",
       " [1, 152],\n",
       " [1, 199],\n",
       " [1, 141],\n",
       " [1, 63],\n",
       " [1, 139],\n",
       " [1, 196],\n",
       " [1, 157],\n",
       " [1, 138],\n",
       " [1, 142],\n",
       " [1, 169],\n",
       " [1, 199],\n",
       " [1, 176],\n",
       " [1, 139],\n",
       " [1, 78],\n",
       " [1, 140],\n",
       " [1, 178],\n",
       " [1, 186],\n",
       " [1, 138],\n",
       " [1, 168],\n",
       " [1, 142],\n",
       " [1, 74],\n",
       " [1, 138],\n",
       " [1, 156],\n",
       " [1, 137],\n",
       " [1, 139],\n",
       " [1, 199],\n",
       " [1, 160],\n",
       " [1, 173],\n",
       " [1, 136],\n",
       " [1, 199],\n",
       " [1, 134],\n",
       " [1, 194],\n",
       " [1, 182],\n",
       " [1, 136],\n",
       " [1, 199],\n",
       " [1, 176],\n",
       " [1, 159],\n",
       " [1, 193],\n",
       " [1, 174],\n",
       " [1, 182],\n",
       " [1, 172],\n",
       " [1, 153],\n",
       " [1, 135],\n",
       " [1, 199],\n",
       " [1, 149],\n",
       " [1, 181],\n",
       " [1, 194],\n",
       " [1, 138],\n",
       " [1, 60],\n",
       " [1, 179],\n",
       " [1, 136],\n",
       " [1, 178],\n",
       " [1, 158],\n",
       " [1, 185],\n",
       " [1, 192],\n",
       " [1, 153],\n",
       " [1, 135],\n",
       " [1, 183],\n",
       " [1, 188],\n",
       " [1, 139],\n",
       " [1, 149],\n",
       " [1, 168],\n",
       " [1, 178],\n",
       " [1, 143],\n",
       " [1, 184],\n",
       " [1, 149],\n",
       " [1, 195],\n",
       " [1, 172],\n",
       " [1, 135],\n",
       " [1, 147],\n",
       " [1, 148],\n",
       " [1, 71],\n",
       " [1, 140],\n",
       " [1, 178],\n",
       " [1, 149],\n",
       " [1, 183],\n",
       " [1, 174],\n",
       " [1, 181],\n",
       " [1, 135],\n",
       " [1, 154],\n",
       " [1, 186],\n",
       " [1, 167],\n",
       " [1, 139],\n",
       " [1, 199],\n",
       " [1, 177],\n",
       " [1, 157],\n",
       " [1, 142],\n",
       " [1, 169],\n",
       " [1, 149],\n",
       " [1, 195],\n",
       " [1, 183],\n",
       " [1, 163],\n",
       " [1, 147],\n",
       " [1, 199],\n",
       " [1, 195],\n",
       " [1, 173],\n",
       " [1, 156],\n",
       " [1, 181],\n",
       " [1, 171],\n",
       " [1, 152],\n",
       " [1, 135],\n",
       " [1, 154],\n",
       " [1, 146],\n",
       " [1, 149],\n",
       " [1, 142],\n",
       " [1, 194],\n",
       " [1, 160],\n",
       " [1, 141],\n",
       " [1, 197],\n",
       " [1, 141],\n",
       " [1, 192],\n",
       " [1, 154],\n",
       " [1, 176],\n",
       " [1, 138],\n",
       " [1, 192],\n",
       " [1, 185],\n",
       " [1, 138]]"
      ]
     },
     "execution_count": 34,
     "metadata": {},
     "output_type": "execute_result"
    }
   ],
   "source": [
    "distribution"
   ]
  },
  {
   "cell_type": "code",
   "execution_count": 41,
   "metadata": {},
   "outputs": [],
   "source": [
    "distribution = np.array(distribution)"
   ]
  },
  {
   "cell_type": "code",
   "execution_count": 43,
   "metadata": {},
   "outputs": [
    {
     "data": {
      "text/plain": [
       "<matplotlib.collections.PathCollection at 0x7fa5342c8be0>"
      ]
     },
     "execution_count": 43,
     "metadata": {},
     "output_type": "execute_result"
    },
    {
     "data": {
      "image/png": "[encoded data removed]",
      "text/plain": [
       "<Figure size 432x288 with 1 Axes>"
      ]
     },
     "metadata": {
      "needs_background": "light"
     },
     "output_type": "display_data"
    }
   ],
   "source": [
    "plt.scatter(distribution[:,1],distribution[:,0])"
   ]
  },
  {
   "cell_type": "code",
   "execution_count": 15,
   "metadata": {},
   "outputs": [],
   "source": [
    "DATA = np.append(SP_F, SH_F, axis = 1)\n",
    "np.random.shuffle(DATA)\n",
    "\n",
    "X = DATA[:, :200]\n",
    "Y = DATA[:,200:]\n",
    "X = np.subtract(X, 0.5)\n",
    "#keras.utils.normalize(X)\n",
    "\n",
    "train_size = int(len(DATA) * 0.8)\n",
    "\n",
    "train_X = X[0:train_size, :]\n",
    "train_Y = Y[0:train_size, :]\n",
    "test_X = X[train_size:, :]\n",
    "test_Y = Y[train_size:, :]"
   ]
  },
  {
   "cell_type": "code",
   "execution_count": 16,
   "metadata": {
    "scrolled": true
   },
   "outputs": [
    {
     "name": "stdout",
     "output_type": "stream",
     "text": [
      "Train on 107 samples, validate on 27 samples\n",
      "Epoch 1/500\n",
      " - 4s - loss: 0.0930 - acc: 0.1308 - val_loss: 0.0633 - val_acc: 0.3333\n",
      "Epoch 2/500\n",
      " - 0s - loss: 0.0281 - acc: 0.3458 - val_loss: 0.0133 - val_acc: 0.3333\n",
      "Epoch 3/500\n",
      " - 0s - loss: 0.0092 - acc: 0.2243 - val_loss: 0.0054 - val_acc: 0.1852\n",
      "Epoch 4/500\n",
      " - 0s - loss: 0.0044 - acc: 0.2523 - val_loss: 0.0024 - val_acc: 0.3333\n",
      "Epoch 5/500\n",
      " - 0s - loss: 0.0035 - acc: 0.3458 - val_loss: 0.0020 - val_acc: 0.3333\n",
      "Epoch 6/500\n",
      " - 0s - loss: 0.0028 - acc: 0.2336 - val_loss: 0.0020 - val_acc: 0.1481\n",
      "Epoch 7/500\n",
      " - 0s - loss: 0.0027 - acc: 0.1402 - val_loss: 0.0017 - val_acc: 0.1481\n",
      "Epoch 8/500\n",
      " - 0s - loss: 0.0026 - acc: 0.1308 - val_loss: 0.0017 - val_acc: 0.1852\n",
      "Epoch 9/500\n",
      " - 0s - loss: 0.0025 - acc: 0.1308 - val_loss: 0.0017 - val_acc: 0.0370\n",
      "Epoch 10/500\n",
      " - 0s - loss: 0.0025 - acc: 0.1495 - val_loss: 0.0017 - val_acc: 0.1852\n",
      "Epoch 11/500\n",
      " - 0s - loss: 0.0025 - acc: 0.1215 - val_loss: 0.0017 - val_acc: 0.1852\n",
      "Epoch 12/500\n",
      " - 0s - loss: 0.0025 - acc: 0.0935 - val_loss: 0.0016 - val_acc: 0.0370\n",
      "Epoch 13/500\n",
      " - 0s - loss: 0.0025 - acc: 0.1215 - val_loss: 0.0017 - val_acc: 0.1852\n",
      "Epoch 14/500\n",
      " - 0s - loss: 0.0024 - acc: 0.1028 - val_loss: 0.0016 - val_acc: 0.1481\n",
      "Epoch 15/500\n",
      " - 0s - loss: 0.0024 - acc: 0.1121 - val_loss: 0.0016 - val_acc: 0.1852\n",
      "Epoch 16/500\n",
      " - 0s - loss: 0.0024 - acc: 0.1215 - val_loss: 0.0016 - val_acc: 0.1852\n",
      "Epoch 17/500\n",
      " - 0s - loss: 0.0025 - acc: 0.1215 - val_loss: 0.0017 - val_acc: 0.1852\n",
      "Epoch 18/500\n",
      " - 0s - loss: 0.0025 - acc: 0.1028 - val_loss: 0.0017 - val_acc: 0.1481\n",
      "Epoch 19/500\n",
      " - 0s - loss: 0.0025 - acc: 0.1121 - val_loss: 0.0017 - val_acc: 0.1852\n",
      "Epoch 20/500\n",
      " - 0s - loss: 0.0024 - acc: 0.1028 - val_loss: 0.0016 - val_acc: 0.1481\n",
      "Epoch 21/500\n",
      " - 0s - loss: 0.0025 - acc: 0.1028 - val_loss: 0.0016 - val_acc: 0.1852\n",
      "Epoch 22/500\n",
      " - 0s - loss: 0.0024 - acc: 0.1495 - val_loss: 0.0017 - val_acc: 0.1481\n",
      "Epoch 23/500\n",
      " - 0s - loss: 0.0024 - acc: 0.1495 - val_loss: 0.0017 - val_acc: 0.1852\n",
      "Epoch 24/500\n",
      " - 0s - loss: 0.0024 - acc: 0.1028 - val_loss: 0.0016 - val_acc: 0.0370\n",
      "Epoch 25/500\n",
      " - 0s - loss: 0.0025 - acc: 0.1495 - val_loss: 0.0017 - val_acc: 0.1852\n",
      "Epoch 26/500\n",
      " - 0s - loss: 0.0024 - acc: 0.1121 - val_loss: 0.0017 - val_acc: 0.0370\n",
      "Epoch 27/500\n",
      " - 0s - loss: 0.0024 - acc: 0.2150 - val_loss: 0.0016 - val_acc: 0.1852\n",
      "Epoch 28/500\n",
      " - 0s - loss: 0.0024 - acc: 0.1215 - val_loss: 0.0017 - val_acc: 0.1852\n",
      "Epoch 29/500\n",
      " - 0s - loss: 0.0024 - acc: 0.0935 - val_loss: 0.0016 - val_acc: 0.0370\n",
      "Epoch 30/500\n",
      " - 0s - loss: 0.0024 - acc: 0.1308 - val_loss: 0.0016 - val_acc: 0.1852\n",
      "Epoch 31/500\n",
      " - 0s - loss: 0.0024 - acc: 0.1589 - val_loss: 0.0016 - val_acc: 0.1481\n",
      "Epoch 32/500\n",
      " - 0s - loss: 0.0024 - acc: 0.1121 - val_loss: 0.0016 - val_acc: 0.1852\n",
      "Epoch 33/500\n",
      " - 0s - loss: 0.0024 - acc: 0.1215 - val_loss: 0.0016 - val_acc: 0.1852\n",
      "Epoch 34/500\n",
      " - 0s - loss: 0.0024 - acc: 0.1215 - val_loss: 0.0017 - val_acc: 0.1481\n",
      "Epoch 35/500\n",
      " - 0s - loss: 0.0024 - acc: 0.1495 - val_loss: 0.0016 - val_acc: 0.0741\n",
      "Epoch 36/500\n",
      " - 0s - loss: 0.0024 - acc: 0.1402 - val_loss: 0.0016 - val_acc: 0.1852\n",
      "Epoch 37/500\n",
      " - 0s - loss: 0.0024 - acc: 0.1402 - val_loss: 0.0016 - val_acc: 0.1852\n",
      "Epoch 38/500\n",
      " - 0s - loss: 0.0024 - acc: 0.0935 - val_loss: 0.0017 - val_acc: 0.1852\n",
      "Epoch 39/500\n",
      " - 0s - loss: 0.0024 - acc: 0.1215 - val_loss: 0.0016 - val_acc: 0.1852\n",
      "Epoch 40/500\n",
      " - 0s - loss: 0.0024 - acc: 0.1215 - val_loss: 0.0016 - val_acc: 0.1852\n",
      "Epoch 41/500\n",
      " - 0s - loss: 0.0024 - acc: 0.1215 - val_loss: 0.0016 - val_acc: 0.1481\n",
      "Epoch 42/500\n",
      " - 0s - loss: 0.0024 - acc: 0.1121 - val_loss: 0.0016 - val_acc: 0.1852\n",
      "Epoch 43/500\n",
      " - 0s - loss: 0.0024 - acc: 0.1215 - val_loss: 0.0017 - val_acc: 0.1852\n",
      "Epoch 44/500\n",
      " - 0s - loss: 0.0024 - acc: 0.1308 - val_loss: 0.0016 - val_acc: 0.2222\n",
      "Epoch 45/500\n",
      " - 0s - loss: 0.0024 - acc: 0.1121 - val_loss: 0.0018 - val_acc: 0.1481\n",
      "Epoch 46/500\n",
      " - 0s - loss: 0.0025 - acc: 0.1495 - val_loss: 0.0017 - val_acc: 0.1852\n",
      "Epoch 47/500\n",
      " - 0s - loss: 0.0024 - acc: 0.1215 - val_loss: 0.0017 - val_acc: 0.0370\n",
      "Epoch 48/500\n",
      " - 0s - loss: 0.0024 - acc: 0.1028 - val_loss: 0.0016 - val_acc: 0.1852\n",
      "Epoch 49/500\n",
      " - 0s - loss: 0.0024 - acc: 0.1215 - val_loss: 0.0016 - val_acc: 0.1852\n",
      "Epoch 50/500\n",
      " - 0s - loss: 0.0024 - acc: 0.1215 - val_loss: 0.0017 - val_acc: 0.1852\n",
      "Epoch 51/500\n",
      " - 0s - loss: 0.0024 - acc: 0.1402 - val_loss: 0.0016 - val_acc: 0.1481\n",
      "Epoch 52/500\n",
      " - 0s - loss: 0.0024 - acc: 0.1121 - val_loss: 0.0016 - val_acc: 0.1852\n",
      "Epoch 53/500\n",
      " - 0s - loss: 0.0024 - acc: 0.1028 - val_loss: 0.0017 - val_acc: 0.1852\n",
      "Epoch 54/500\n",
      " - 0s - loss: 0.0024 - acc: 0.1215 - val_loss: 0.0016 - val_acc: 0.1852\n",
      "Epoch 55/500\n",
      " - 0s - loss: 0.0024 - acc: 0.0841 - val_loss: 0.0016 - val_acc: 0.1852\n",
      "Epoch 56/500\n",
      " - 0s - loss: 0.0023 - acc: 0.0841 - val_loss: 0.0016 - val_acc: 0.1481\n",
      "Epoch 57/500\n",
      " - 0s - loss: 0.0024 - acc: 0.1589 - val_loss: 0.0016 - val_acc: 0.1481\n",
      "Epoch 58/500\n",
      " - 0s - loss: 0.0024 - acc: 0.1963 - val_loss: 0.0016 - val_acc: 0.1852\n",
      "Epoch 59/500\n",
      " - 0s - loss: 0.0023 - acc: 0.1215 - val_loss: 0.0017 - val_acc: 0.1481\n",
      "Epoch 60/500\n",
      " - 0s - loss: 0.0024 - acc: 0.1402 - val_loss: 0.0016 - val_acc: 0.1481\n",
      "Epoch 61/500\n",
      " - 0s - loss: 0.0024 - acc: 0.1682 - val_loss: 0.0016 - val_acc: 0.1852\n",
      "Epoch 62/500\n",
      " - 0s - loss: 0.0024 - acc: 0.1308 - val_loss: 0.0017 - val_acc: 0.1852\n",
      "Epoch 63/500\n",
      " - 0s - loss: 0.0024 - acc: 0.1589 - val_loss: 0.0016 - val_acc: 0.1111\n",
      "Epoch 64/500\n",
      " - 0s - loss: 0.0023 - acc: 0.1402 - val_loss: 0.0017 - val_acc: 0.1852\n",
      "Epoch 65/500\n",
      " - 0s - loss: 0.0024 - acc: 0.1028 - val_loss: 0.0016 - val_acc: 0.1481\n",
      "Epoch 66/500\n",
      " - 0s - loss: 0.0023 - acc: 0.1308 - val_loss: 0.0016 - val_acc: 0.1852\n",
      "Epoch 67/500\n",
      " - 0s - loss: 0.0024 - acc: 0.1495 - val_loss: 0.0017 - val_acc: 0.1852\n",
      "Epoch 68/500\n",
      " - 0s - loss: 0.0024 - acc: 0.1215 - val_loss: 0.0017 - val_acc: 0.1481\n",
      "Epoch 69/500\n",
      " - 0s - loss: 0.0024 - acc: 0.1215 - val_loss: 0.0017 - val_acc: 0.1852\n",
      "Epoch 70/500\n",
      " - 0s - loss: 0.0024 - acc: 0.1495 - val_loss: 0.0017 - val_acc: 0.1852\n",
      "Epoch 71/500\n",
      " - 0s - loss: 0.0024 - acc: 0.0935 - val_loss: 0.0017 - val_acc: 0.1852\n",
      "Epoch 72/500\n",
      " - 0s - loss: 0.0024 - acc: 0.1121 - val_loss: 0.0016 - val_acc: 0.1852\n",
      "Epoch 73/500\n",
      " - 0s - loss: 0.0024 - acc: 0.1215 - val_loss: 0.0017 - val_acc: 0.1481\n",
      "Epoch 74/500\n",
      " - 0s - loss: 0.0024 - acc: 0.1121 - val_loss: 0.0016 - val_acc: 0.1481\n",
      "Epoch 75/500\n",
      " - 0s - loss: 0.0024 - acc: 0.1215 - val_loss: 0.0016 - val_acc: 0.1481\n",
      "Epoch 76/500\n",
      " - 0s - loss: 0.0024 - acc: 0.1121 - val_loss: 0.0016 - val_acc: 0.1852\n",
      "Epoch 77/500\n",
      " - 0s - loss: 0.0023 - acc: 0.1215 - val_loss: 0.0016 - val_acc: 0.1852\n",
      "Epoch 78/500\n",
      " - 0s - loss: 0.0024 - acc: 0.1402 - val_loss: 0.0016 - val_acc: 0.1111\n",
      "Epoch 79/500\n",
      " - 0s - loss: 0.0024 - acc: 0.1121 - val_loss: 0.0016 - val_acc: 0.1852\n",
      "Epoch 80/500\n",
      " - 0s - loss: 0.0024 - acc: 0.1121 - val_loss: 0.0016 - val_acc: 0.1481\n",
      "Epoch 81/500\n",
      " - 0s - loss: 0.0024 - acc: 0.1028 - val_loss: 0.0016 - val_acc: 0.1481\n",
      "Epoch 82/500\n",
      " - 0s - loss: 0.0024 - acc: 0.0935 - val_loss: 0.0017 - val_acc: 0.1852\n",
      "Epoch 83/500\n",
      " - 0s - loss: 0.0024 - acc: 0.1028 - val_loss: 0.0016 - val_acc: 0.1852\n",
      "Epoch 84/500\n",
      " - 0s - loss: 0.0023 - acc: 0.0935 - val_loss: 0.0017 - val_acc: 0.0370\n",
      "Epoch 85/500\n",
      " - 0s - loss: 0.0023 - acc: 0.1495 - val_loss: 0.0017 - val_acc: 0.1852\n",
      "Epoch 86/500\n",
      " - 0s - loss: 0.0023 - acc: 0.1215 - val_loss: 0.0016 - val_acc: 0.1481\n",
      "Epoch 87/500\n",
      " - 0s - loss: 0.0024 - acc: 0.1589 - val_loss: 0.0018 - val_acc: 0.1852\n",
      "Epoch 88/500\n",
      " - 0s - loss: 0.0024 - acc: 0.1776 - val_loss: 0.0017 - val_acc: 0.1852\n",
      "Epoch 89/500\n",
      " - 0s - loss: 0.0024 - acc: 0.1215 - val_loss: 0.0017 - val_acc: 0.1111\n",
      "Epoch 90/500\n",
      " - 0s - loss: 0.0023 - acc: 0.0561 - val_loss: 0.0016 - val_acc: 0.0370\n",
      "Epoch 91/500\n",
      " - 0s - loss: 0.0023 - acc: 0.1402 - val_loss: 0.0016 - val_acc: 0.1481\n",
      "Epoch 92/500\n",
      " - 0s - loss: 0.0023 - acc: 0.1402 - val_loss: 0.0016 - val_acc: 0.1111\n",
      "Epoch 93/500\n",
      " - 0s - loss: 0.0023 - acc: 0.1308 - val_loss: 0.0016 - val_acc: 0.1481\n",
      "Epoch 94/500\n",
      " - 0s - loss: 0.0024 - acc: 0.0935 - val_loss: 0.0016 - val_acc: 0.1852\n",
      "Epoch 95/500\n",
      " - 0s - loss: 0.0023 - acc: 0.0841 - val_loss: 0.0016 - val_acc: 0.1852\n",
      "Epoch 96/500\n",
      " - 0s - loss: 0.0024 - acc: 0.1308 - val_loss: 0.0016 - val_acc: 0.1481\n"
     ]
    },
    {
     "name": "stdout",
     "output_type": "stream",
     "text": [
      "Epoch 97/500\n",
      " - 0s - loss: 0.0023 - acc: 0.2336 - val_loss: 0.0016 - val_acc: 0.1852\n",
      "Epoch 98/500\n",
      " - 0s - loss: 0.0023 - acc: 0.1402 - val_loss: 0.0017 - val_acc: 0.1111\n",
      "Epoch 99/500\n",
      " - 0s - loss: 0.0023 - acc: 0.1121 - val_loss: 0.0017 - val_acc: 0.1852\n",
      "Epoch 100/500\n",
      " - 0s - loss: 0.0024 - acc: 0.2523 - val_loss: 0.0016 - val_acc: 0.1481\n",
      "Epoch 101/500\n",
      " - 0s - loss: 0.0024 - acc: 0.1402 - val_loss: 0.0017 - val_acc: 0.1481\n",
      "Epoch 102/500\n",
      " - 0s - loss: 0.0024 - acc: 0.1963 - val_loss: 0.0017 - val_acc: 0.0741\n",
      "Epoch 103/500\n",
      " - 0s - loss: 0.0024 - acc: 0.1308 - val_loss: 0.0017 - val_acc: 0.1852\n",
      "Epoch 104/500\n",
      " - 0s - loss: 0.0023 - acc: 0.1495 - val_loss: 0.0016 - val_acc: 0.1111\n",
      "Epoch 105/500\n",
      " - 0s - loss: 0.0023 - acc: 0.1963 - val_loss: 0.0016 - val_acc: 0.1111\n",
      "Epoch 106/500\n",
      " - 0s - loss: 0.0023 - acc: 0.1402 - val_loss: 0.0017 - val_acc: 0.1852\n",
      "Epoch 107/500\n",
      " - 0s - loss: 0.0023 - acc: 0.1963 - val_loss: 0.0017 - val_acc: 0.1852\n",
      "Epoch 108/500\n",
      " - 0s - loss: 0.0024 - acc: 0.1308 - val_loss: 0.0016 - val_acc: 0.1111\n",
      "Epoch 109/500\n",
      " - 0s - loss: 0.0023 - acc: 0.1589 - val_loss: 0.0017 - val_acc: 0.2222\n",
      "Epoch 110/500\n",
      " - 0s - loss: 0.0023 - acc: 0.1495 - val_loss: 0.0017 - val_acc: 0.1481\n",
      "Epoch 111/500\n",
      " - 0s - loss: 0.0023 - acc: 0.1869 - val_loss: 0.0019 - val_acc: 0.2222\n",
      "Epoch 112/500\n",
      " - 0s - loss: 0.0023 - acc: 0.1682 - val_loss: 0.0018 - val_acc: 0.0370\n",
      "Epoch 113/500\n",
      " - 0s - loss: 0.0023 - acc: 0.1682 - val_loss: 0.0017 - val_acc: 0.2593\n",
      "Epoch 114/500\n",
      " - 0s - loss: 0.0022 - acc: 0.1963 - val_loss: 0.0017 - val_acc: 0.1852\n",
      "Epoch 115/500\n",
      " - 0s - loss: 0.0022 - acc: 0.2056 - val_loss: 0.0017 - val_acc: 0.2593\n",
      "Epoch 116/500\n",
      " - 0s - loss: 0.0022 - acc: 0.2617 - val_loss: 0.0019 - val_acc: 0.1481\n",
      "Epoch 117/500\n",
      " - 0s - loss: 0.0024 - acc: 0.1869 - val_loss: 0.0018 - val_acc: 0.1111\n",
      "Epoch 118/500\n",
      " - 0s - loss: 0.0022 - acc: 0.1682 - val_loss: 0.0018 - val_acc: 0.1111\n",
      "Epoch 119/500\n",
      " - 0s - loss: 0.0021 - acc: 0.2056 - val_loss: 0.0018 - val_acc: 0.2593\n",
      "Epoch 120/500\n",
      " - 0s - loss: 0.0021 - acc: 0.2430 - val_loss: 0.0019 - val_acc: 0.2222\n",
      "Epoch 121/500\n",
      " - 0s - loss: 0.0024 - acc: 0.1215 - val_loss: 0.0018 - val_acc: 0.1481\n",
      "Epoch 122/500\n",
      " - 0s - loss: 0.0021 - acc: 0.2056 - val_loss: 0.0018 - val_acc: 0.1852\n",
      "Epoch 123/500\n",
      " - 0s - loss: 0.0021 - acc: 0.2710 - val_loss: 0.0018 - val_acc: 0.2593\n",
      "Epoch 124/500\n",
      " - 0s - loss: 0.0021 - acc: 0.2523 - val_loss: 0.0018 - val_acc: 0.1852\n",
      "Epoch 125/500\n",
      " - 0s - loss: 0.0021 - acc: 0.1495 - val_loss: 0.0017 - val_acc: 0.1481\n",
      "Epoch 126/500\n",
      " - 0s - loss: 0.0020 - acc: 0.2523 - val_loss: 0.0018 - val_acc: 0.2222\n",
      "Epoch 127/500\n",
      " - 0s - loss: 0.0020 - acc: 0.2150 - val_loss: 0.0020 - val_acc: 0.2222\n",
      "Epoch 128/500\n",
      " - 0s - loss: 0.0019 - acc: 0.2523 - val_loss: 0.0018 - val_acc: 0.2593\n",
      "Epoch 129/500\n",
      " - 0s - loss: 0.0020 - acc: 0.1682 - val_loss: 0.0018 - val_acc: 0.0741\n",
      "Epoch 130/500\n",
      " - 0s - loss: 0.0021 - acc: 0.1776 - val_loss: 0.0018 - val_acc: 0.1481\n",
      "Epoch 131/500\n",
      " - 0s - loss: 0.0019 - acc: 0.2617 - val_loss: 0.0018 - val_acc: 0.2222\n",
      "Epoch 132/500\n",
      " - 0s - loss: 0.0018 - acc: 0.2430 - val_loss: 0.0017 - val_acc: 0.1852\n",
      "Epoch 133/500\n",
      " - 0s - loss: 0.0021 - acc: 0.2523 - val_loss: 0.0018 - val_acc: 0.2222\n",
      "Epoch 134/500\n",
      " - 0s - loss: 0.0020 - acc: 0.2897 - val_loss: 0.0017 - val_acc: 0.1481\n",
      "Epoch 135/500\n",
      " - 0s - loss: 0.0020 - acc: 0.2243 - val_loss: 0.0018 - val_acc: 0.2222\n",
      "Epoch 136/500\n",
      " - 0s - loss: 0.0019 - acc: 0.2430 - val_loss: 0.0017 - val_acc: 0.2593\n",
      "Epoch 137/500\n",
      " - 0s - loss: 0.0018 - acc: 0.3084 - val_loss: 0.0017 - val_acc: 0.1852\n",
      "Epoch 138/500\n",
      " - 0s - loss: 0.0018 - acc: 0.2150 - val_loss: 0.0017 - val_acc: 0.1852\n",
      "Epoch 139/500\n",
      " - 0s - loss: 0.0018 - acc: 0.1682 - val_loss: 0.0017 - val_acc: 0.1852\n",
      "Epoch 140/500\n",
      " - 0s - loss: 0.0018 - acc: 0.3084 - val_loss: 0.0017 - val_acc: 0.1852\n",
      "Epoch 141/500\n",
      " - 0s - loss: 0.0017 - acc: 0.2523 - val_loss: 0.0017 - val_acc: 0.2593\n",
      "Epoch 142/500\n",
      " - 0s - loss: 0.0018 - acc: 0.2523 - val_loss: 0.0017 - val_acc: 0.1852\n",
      "Epoch 143/500\n",
      " - 0s - loss: 0.0018 - acc: 0.3551 - val_loss: 0.0018 - val_acc: 0.1111\n",
      "Epoch 144/500\n",
      " - 0s - loss: 0.0018 - acc: 0.1589 - val_loss: 0.0017 - val_acc: 0.2593\n",
      "Epoch 145/500\n",
      " - 0s - loss: 0.0019 - acc: 0.1682 - val_loss: 0.0019 - val_acc: 0.1852\n",
      "Epoch 146/500\n",
      " - 0s - loss: 0.0017 - acc: 0.2430 - val_loss: 0.0018 - val_acc: 0.2593\n",
      "Epoch 147/500\n",
      " - 0s - loss: 0.0017 - acc: 0.2336 - val_loss: 0.0018 - val_acc: 0.1481\n",
      "Epoch 148/500\n",
      " - 0s - loss: 0.0018 - acc: 0.2430 - val_loss: 0.0017 - val_acc: 0.1481\n",
      "Epoch 149/500\n",
      " - 0s - loss: 0.0017 - acc: 0.1869 - val_loss: 0.0017 - val_acc: 0.2222\n",
      "Epoch 150/500\n",
      " - 0s - loss: 0.0017 - acc: 0.2150 - val_loss: 0.0018 - val_acc: 0.2222\n",
      "Epoch 151/500\n",
      " - 0s - loss: 0.0018 - acc: 0.2150 - val_loss: 0.0018 - val_acc: 0.2222\n",
      "Epoch 152/500\n",
      " - 0s - loss: 0.0019 - acc: 0.2804 - val_loss: 0.0017 - val_acc: 0.1481\n",
      "Epoch 153/500\n",
      " - 0s - loss: 0.0018 - acc: 0.2523 - val_loss: 0.0017 - val_acc: 0.1852\n",
      "Epoch 154/500\n",
      " - 0s - loss: 0.0017 - acc: 0.1963 - val_loss: 0.0017 - val_acc: 0.1852\n",
      "Epoch 155/500\n",
      " - 0s - loss: 0.0017 - acc: 0.2150 - val_loss: 0.0018 - val_acc: 0.1481\n",
      "Epoch 156/500\n",
      " - 0s - loss: 0.0017 - acc: 0.1589 - val_loss: 0.0019 - val_acc: 0.1111\n",
      "Epoch 157/500\n",
      " - 0s - loss: 0.0016 - acc: 0.2243 - val_loss: 0.0018 - val_acc: 0.1481\n",
      "Epoch 158/500\n",
      " - 0s - loss: 0.0016 - acc: 0.1869 - val_loss: 0.0018 - val_acc: 0.1481\n",
      "Epoch 159/500\n",
      " - 0s - loss: 0.0016 - acc: 0.1869 - val_loss: 0.0019 - val_acc: 0.2593\n",
      "Epoch 160/500\n",
      " - 0s - loss: 0.0016 - acc: 0.1776 - val_loss: 0.0017 - val_acc: 0.1852\n",
      "Epoch 161/500\n",
      " - 0s - loss: 0.0016 - acc: 0.2150 - val_loss: 0.0018 - val_acc: 0.1481\n",
      "Epoch 162/500\n",
      " - 0s - loss: 0.0016 - acc: 0.1682 - val_loss: 0.0018 - val_acc: 0.1852\n",
      "Epoch 163/500\n",
      " - 0s - loss: 0.0018 - acc: 0.1963 - val_loss: 0.0018 - val_acc: 0.2963\n",
      "Epoch 164/500\n",
      " - 0s - loss: 0.0017 - acc: 0.1869 - val_loss: 0.0017 - val_acc: 0.1111\n",
      "Epoch 165/500\n",
      " - 0s - loss: 0.0016 - acc: 0.2150 - val_loss: 0.0017 - val_acc: 0.1481\n",
      "Epoch 166/500\n",
      " - 0s - loss: 0.0016 - acc: 0.1869 - val_loss: 0.0019 - val_acc: 0.1852\n",
      "Epoch 167/500\n",
      " - 0s - loss: 0.0015 - acc: 0.2523 - val_loss: 0.0018 - val_acc: 0.3704\n",
      "Epoch 168/500\n",
      " - 0s - loss: 0.0016 - acc: 0.2243 - val_loss: 0.0018 - val_acc: 0.3333\n",
      "Epoch 169/500\n",
      " - 0s - loss: 0.0016 - acc: 0.2243 - val_loss: 0.0017 - val_acc: 0.1481\n",
      "Epoch 170/500\n",
      " - 0s - loss: 0.0016 - acc: 0.2336 - val_loss: 0.0017 - val_acc: 0.1111\n",
      "Epoch 171/500\n",
      " - 0s - loss: 0.0017 - acc: 0.1776 - val_loss: 0.0018 - val_acc: 0.1481\n",
      "Epoch 172/500\n",
      " - 0s - loss: 0.0016 - acc: 0.2150 - val_loss: 0.0017 - val_acc: 0.1852\n",
      "Epoch 173/500\n",
      " - 0s - loss: 0.0015 - acc: 0.2991 - val_loss: 0.0018 - val_acc: 0.2963\n",
      "Epoch 174/500\n",
      " - 0s - loss: 0.0016 - acc: 0.2243 - val_loss: 0.0018 - val_acc: 0.2593\n",
      "Epoch 175/500\n",
      " - 0s - loss: 0.0016 - acc: 0.2523 - val_loss: 0.0017 - val_acc: 0.1852\n",
      "Epoch 176/500\n",
      " - 0s - loss: 0.0015 - acc: 0.2150 - val_loss: 0.0017 - val_acc: 0.1111\n",
      "Epoch 177/500\n",
      " - 0s - loss: 0.0015 - acc: 0.2336 - val_loss: 0.0018 - val_acc: 0.1111\n",
      "Epoch 178/500\n",
      " - 0s - loss: 0.0015 - acc: 0.3364 - val_loss: 0.0018 - val_acc: 0.1481\n",
      "Epoch 179/500\n",
      " - 0s - loss: 0.0016 - acc: 0.1963 - val_loss: 0.0018 - val_acc: 0.2593\n",
      "Epoch 180/500\n",
      " - 0s - loss: 0.0016 - acc: 0.2430 - val_loss: 0.0018 - val_acc: 0.2963\n",
      "Epoch 181/500\n",
      " - 0s - loss: 0.0015 - acc: 0.2336 - val_loss: 0.0018 - val_acc: 0.0741\n",
      "Epoch 182/500\n",
      " - 0s - loss: 0.0015 - acc: 0.1776 - val_loss: 0.0018 - val_acc: 0.2963\n",
      "Epoch 183/500\n",
      " - 0s - loss: 0.0015 - acc: 0.2617 - val_loss: 0.0018 - val_acc: 0.2222\n",
      "Epoch 184/500\n",
      " - 0s - loss: 0.0016 - acc: 0.2430 - val_loss: 0.0018 - val_acc: 0.1481\n",
      "Epoch 185/500\n",
      " - 0s - loss: 0.0015 - acc: 0.2897 - val_loss: 0.0018 - val_acc: 0.1111\n",
      "Epoch 186/500\n",
      " - 0s - loss: 0.0015 - acc: 0.2430 - val_loss: 0.0018 - val_acc: 0.2963\n",
      "Epoch 187/500\n",
      " - 0s - loss: 0.0015 - acc: 0.2243 - val_loss: 0.0018 - val_acc: 0.2593\n",
      "Epoch 188/500\n",
      " - 0s - loss: 0.0015 - acc: 0.2243 - val_loss: 0.0018 - val_acc: 0.2963\n",
      "Epoch 189/500\n",
      " - 0s - loss: 0.0015 - acc: 0.2617 - val_loss: 0.0019 - val_acc: 0.1852\n",
      "Epoch 190/500\n",
      " - 0s - loss: 0.0015 - acc: 0.2523 - val_loss: 0.0018 - val_acc: 0.1852\n",
      "Epoch 191/500\n",
      " - 0s - loss: 0.0014 - acc: 0.2430 - val_loss: 0.0019 - val_acc: 0.3333\n",
      "Epoch 192/500\n",
      " - 0s - loss: 0.0015 - acc: 0.2897 - val_loss: 0.0018 - val_acc: 0.1481\n"
     ]
    },
    {
     "name": "stdout",
     "output_type": "stream",
     "text": [
      "Epoch 193/500\n",
      " - 0s - loss: 0.0014 - acc: 0.2617 - val_loss: 0.0018 - val_acc: 0.3333\n",
      "Epoch 194/500\n",
      " - 0s - loss: 0.0015 - acc: 0.2710 - val_loss: 0.0018 - val_acc: 0.1852\n",
      "Epoch 195/500\n",
      " - 0s - loss: 0.0015 - acc: 0.2617 - val_loss: 0.0018 - val_acc: 0.1481\n",
      "Epoch 196/500\n",
      " - 0s - loss: 0.0015 - acc: 0.2243 - val_loss: 0.0018 - val_acc: 0.1111\n",
      "Epoch 197/500\n",
      " - 0s - loss: 0.0015 - acc: 0.3271 - val_loss: 0.0018 - val_acc: 0.1111\n",
      "Epoch 198/500\n",
      " - 0s - loss: 0.0014 - acc: 0.2523 - val_loss: 0.0018 - val_acc: 0.1481\n",
      "Epoch 199/500\n",
      " - 0s - loss: 0.0014 - acc: 0.3084 - val_loss: 0.0019 - val_acc: 0.3704\n",
      "Epoch 200/500\n",
      " - 0s - loss: 0.0015 - acc: 0.2336 - val_loss: 0.0018 - val_acc: 0.1481\n",
      "Epoch 201/500\n",
      " - 0s - loss: 0.0014 - acc: 0.2804 - val_loss: 0.0018 - val_acc: 0.1111\n",
      "Epoch 202/500\n",
      " - 0s - loss: 0.0014 - acc: 0.3364 - val_loss: 0.0018 - val_acc: 0.1111\n",
      "Epoch 203/500\n",
      " - 0s - loss: 0.0014 - acc: 0.3271 - val_loss: 0.0019 - val_acc: 0.2222\n",
      "Epoch 204/500\n",
      " - 0s - loss: 0.0015 - acc: 0.2804 - val_loss: 0.0018 - val_acc: 0.1852\n",
      "Epoch 205/500\n",
      " - 0s - loss: 0.0014 - acc: 0.2804 - val_loss: 0.0019 - val_acc: 0.2222\n",
      "Epoch 206/500\n",
      " - 0s - loss: 0.0014 - acc: 0.2804 - val_loss: 0.0018 - val_acc: 0.1111\n",
      "Epoch 207/500\n",
      " - 0s - loss: 0.0014 - acc: 0.3271 - val_loss: 0.0018 - val_acc: 0.1481\n",
      "Epoch 208/500\n",
      " - 0s - loss: 0.0015 - acc: 0.2897 - val_loss: 0.0018 - val_acc: 0.1852\n",
      "Epoch 209/500\n",
      " - 0s - loss: 0.0015 - acc: 0.1963 - val_loss: 0.0020 - val_acc: 0.2222\n",
      "Epoch 210/500\n",
      " - 0s - loss: 0.0015 - acc: 0.3271 - val_loss: 0.0019 - val_acc: 0.2963\n",
      "Epoch 211/500\n",
      " - 0s - loss: 0.0014 - acc: 0.3458 - val_loss: 0.0019 - val_acc: 0.2222\n",
      "Epoch 212/500\n",
      " - 0s - loss: 0.0015 - acc: 0.2523 - val_loss: 0.0019 - val_acc: 0.1852\n",
      "Epoch 213/500\n",
      " - 0s - loss: 0.0014 - acc: 0.2056 - val_loss: 0.0019 - val_acc: 0.2222\n",
      "Epoch 214/500\n",
      " - 0s - loss: 0.0014 - acc: 0.2523 - val_loss: 0.0019 - val_acc: 0.2593\n",
      "Epoch 215/500\n",
      " - 0s - loss: 0.0014 - acc: 0.3084 - val_loss: 0.0019 - val_acc: 0.3333\n",
      "Epoch 216/500\n",
      " - 0s - loss: 0.0014 - acc: 0.2430 - val_loss: 0.0019 - val_acc: 0.2593\n",
      "Epoch 217/500\n",
      " - 0s - loss: 0.0014 - acc: 0.2897 - val_loss: 0.0020 - val_acc: 0.3333\n",
      "Epoch 218/500\n",
      " - 0s - loss: 0.0014 - acc: 0.2897 - val_loss: 0.0020 - val_acc: 0.3333\n",
      "Epoch 219/500\n",
      " - 0s - loss: 0.0015 - acc: 0.2804 - val_loss: 0.0019 - val_acc: 0.2593\n",
      "Epoch 220/500\n",
      " - 0s - loss: 0.0014 - acc: 0.3084 - val_loss: 0.0019 - val_acc: 0.1111\n",
      "Epoch 221/500\n",
      " - 0s - loss: 0.0014 - acc: 0.2150 - val_loss: 0.0020 - val_acc: 0.3333\n",
      "Epoch 222/500\n",
      " - 0s - loss: 0.0014 - acc: 0.3271 - val_loss: 0.0019 - val_acc: 0.2222\n",
      "Epoch 223/500\n",
      " - 0s - loss: 0.0015 - acc: 0.2710 - val_loss: 0.0019 - val_acc: 0.1481\n",
      "Epoch 224/500\n",
      " - 0s - loss: 0.0014 - acc: 0.3364 - val_loss: 0.0019 - val_acc: 0.2593\n",
      "Epoch 225/500\n",
      " - 0s - loss: 0.0014 - acc: 0.2991 - val_loss: 0.0019 - val_acc: 0.2963\n",
      "Epoch 226/500\n",
      " - 0s - loss: 0.0014 - acc: 0.2523 - val_loss: 0.0020 - val_acc: 0.2222\n",
      "Epoch 227/500\n",
      " - 0s - loss: 0.0014 - acc: 0.2523 - val_loss: 0.0019 - val_acc: 0.2593\n",
      "Epoch 228/500\n",
      " - 0s - loss: 0.0014 - acc: 0.2897 - val_loss: 0.0020 - val_acc: 0.3333\n",
      "Epoch 229/500\n",
      " - 0s - loss: 0.0016 - acc: 0.2897 - val_loss: 0.0019 - val_acc: 0.1111\n",
      "Epoch 230/500\n",
      " - 0s - loss: 0.0015 - acc: 0.2150 - val_loss: 0.0020 - val_acc: 0.1852\n",
      "Epoch 231/500\n",
      " - 0s - loss: 0.0014 - acc: 0.2617 - val_loss: 0.0019 - val_acc: 0.3704\n",
      "Epoch 232/500\n",
      " - 0s - loss: 0.0014 - acc: 0.3271 - val_loss: 0.0020 - val_acc: 0.2222\n",
      "Epoch 233/500\n",
      " - 0s - loss: 0.0013 - acc: 0.2804 - val_loss: 0.0020 - val_acc: 0.3333\n",
      "Epoch 234/500\n",
      " - 0s - loss: 0.0013 - acc: 0.2897 - val_loss: 0.0020 - val_acc: 0.1481\n",
      "Epoch 235/500\n",
      " - 0s - loss: 0.0014 - acc: 0.2430 - val_loss: 0.0021 - val_acc: 0.2222\n",
      "Epoch 236/500\n",
      " - 0s - loss: 0.0014 - acc: 0.3178 - val_loss: 0.0020 - val_acc: 0.2593\n",
      "Epoch 237/500\n",
      " - 0s - loss: 0.0013 - acc: 0.2710 - val_loss: 0.0021 - val_acc: 0.2593\n",
      "Epoch 238/500\n",
      " - 0s - loss: 0.0013 - acc: 0.2710 - val_loss: 0.0020 - val_acc: 0.3333\n",
      "Epoch 239/500\n",
      " - 0s - loss: 0.0013 - acc: 0.2804 - val_loss: 0.0020 - val_acc: 0.1852\n",
      "Epoch 240/500\n",
      " - 0s - loss: 0.0013 - acc: 0.2897 - val_loss: 0.0020 - val_acc: 0.2222\n",
      "Epoch 241/500\n",
      " - 0s - loss: 0.0012 - acc: 0.2336 - val_loss: 0.0020 - val_acc: 0.2222\n",
      "Epoch 242/500\n",
      " - 0s - loss: 0.0013 - acc: 0.2897 - val_loss: 0.0021 - val_acc: 0.2222\n",
      "Epoch 243/500\n",
      " - 0s - loss: 0.0013 - acc: 0.2243 - val_loss: 0.0021 - val_acc: 0.2963\n",
      "Epoch 244/500\n",
      " - 0s - loss: 0.0013 - acc: 0.2991 - val_loss: 0.0020 - val_acc: 0.1111\n",
      "Epoch 245/500\n",
      " - 0s - loss: 0.0013 - acc: 0.2430 - val_loss: 0.0021 - val_acc: 0.2963\n",
      "Epoch 246/500\n",
      " - 0s - loss: 0.0013 - acc: 0.3178 - val_loss: 0.0020 - val_acc: 0.1481\n",
      "Epoch 247/500\n",
      " - 0s - loss: 0.0013 - acc: 0.2991 - val_loss: 0.0021 - val_acc: 0.1852\n",
      "Epoch 248/500\n",
      " - 0s - loss: 0.0013 - acc: 0.2430 - val_loss: 0.0020 - val_acc: 0.2222\n",
      "Epoch 249/500\n",
      " - 0s - loss: 0.0012 - acc: 0.3084 - val_loss: 0.0021 - val_acc: 0.1481\n",
      "Epoch 250/500\n",
      " - 0s - loss: 0.0013 - acc: 0.2523 - val_loss: 0.0020 - val_acc: 0.1852\n",
      "Epoch 251/500\n",
      " - 0s - loss: 0.0013 - acc: 0.2991 - val_loss: 0.0021 - val_acc: 0.2222\n",
      "Epoch 252/500\n",
      " - 0s - loss: 0.0013 - acc: 0.2336 - val_loss: 0.0020 - val_acc: 0.1111\n",
      "Epoch 253/500\n",
      " - 0s - loss: 0.0015 - acc: 0.2056 - val_loss: 0.0021 - val_acc: 0.1111\n",
      "Epoch 254/500\n",
      " - 0s - loss: 0.0013 - acc: 0.2430 - val_loss: 0.0021 - val_acc: 0.1852\n",
      "Epoch 255/500\n",
      " - 0s - loss: 0.0012 - acc: 0.2617 - val_loss: 0.0021 - val_acc: 0.3333\n",
      "Epoch 256/500\n",
      " - 0s - loss: 0.0012 - acc: 0.3271 - val_loss: 0.0021 - val_acc: 0.3333\n",
      "Epoch 257/500\n",
      " - 0s - loss: 0.0012 - acc: 0.3178 - val_loss: 0.0021 - val_acc: 0.1852\n",
      "Epoch 258/500\n",
      " - 0s - loss: 0.0012 - acc: 0.2523 - val_loss: 0.0021 - val_acc: 0.2222\n",
      "Epoch 259/500\n",
      " - 0s - loss: 0.0012 - acc: 0.3084 - val_loss: 0.0021 - val_acc: 0.2963\n",
      "Epoch 260/500\n",
      " - 0s - loss: 0.0011 - acc: 0.2336 - val_loss: 0.0021 - val_acc: 0.2222\n",
      "Epoch 261/500\n",
      " - 0s - loss: 0.0012 - acc: 0.2056 - val_loss: 0.0020 - val_acc: 0.1481\n",
      "Epoch 262/500\n",
      " - 0s - loss: 0.0012 - acc: 0.3178 - val_loss: 0.0022 - val_acc: 0.3333\n",
      "Epoch 263/500\n",
      " - 0s - loss: 0.0012 - acc: 0.3271 - val_loss: 0.0023 - val_acc: 0.2593\n",
      "Epoch 264/500\n",
      " - 0s - loss: 0.0012 - acc: 0.2617 - val_loss: 0.0023 - val_acc: 0.2593\n",
      "Epoch 265/500\n",
      " - 0s - loss: 0.0012 - acc: 0.2336 - val_loss: 0.0022 - val_acc: 0.2593\n",
      "Epoch 266/500\n",
      " - 0s - loss: 0.0011 - acc: 0.2710 - val_loss: 0.0022 - val_acc: 0.1481\n",
      "Epoch 267/500\n",
      " - 0s - loss: 0.0011 - acc: 0.2897 - val_loss: 0.0025 - val_acc: 0.2222\n",
      "Epoch 268/500\n",
      " - 0s - loss: 0.0012 - acc: 0.2523 - val_loss: 0.0023 - val_acc: 0.2222\n",
      "Epoch 269/500\n",
      " - 0s - loss: 0.0011 - acc: 0.2804 - val_loss: 0.0022 - val_acc: 0.1481\n",
      "Epoch 270/500\n",
      " - 0s - loss: 0.0011 - acc: 0.3084 - val_loss: 0.0021 - val_acc: 0.1481\n",
      "Epoch 271/500\n",
      " - 0s - loss: 0.0011 - acc: 0.2710 - val_loss: 0.0022 - val_acc: 0.2593\n",
      "Epoch 272/500\n",
      " - 0s - loss: 0.0012 - acc: 0.2804 - val_loss: 0.0023 - val_acc: 0.1852\n",
      "Epoch 273/500\n",
      " - 0s - loss: 0.0014 - acc: 0.3178 - val_loss: 0.0021 - val_acc: 0.1481\n",
      "Epoch 274/500\n",
      " - 0s - loss: 0.0013 - acc: 0.3364 - val_loss: 0.0022 - val_acc: 0.2222\n",
      "Epoch 275/500\n",
      " - 0s - loss: 0.0013 - acc: 0.2804 - val_loss: 0.0022 - val_acc: 0.2222\n",
      "Epoch 276/500\n",
      " - 0s - loss: 0.0011 - acc: 0.2336 - val_loss: 0.0022 - val_acc: 0.1852\n",
      "Epoch 277/500\n",
      " - 0s - loss: 0.0012 - acc: 0.2430 - val_loss: 0.0021 - val_acc: 0.1481\n",
      "Epoch 278/500\n",
      " - 0s - loss: 0.0012 - acc: 0.2243 - val_loss: 0.0022 - val_acc: 0.1852\n",
      "Epoch 279/500\n",
      " - 0s - loss: 0.0011 - acc: 0.3364 - val_loss: 0.0022 - val_acc: 0.1111\n",
      "Epoch 280/500\n",
      " - 0s - loss: 0.0012 - acc: 0.2336 - val_loss: 0.0023 - val_acc: 0.1481\n",
      "Epoch 281/500\n",
      " - 0s - loss: 0.0011 - acc: 0.2243 - val_loss: 0.0023 - val_acc: 0.1111\n",
      "Epoch 282/500\n",
      " - 0s - loss: 0.0011 - acc: 0.2430 - val_loss: 0.0023 - val_acc: 0.1852\n",
      "Epoch 283/500\n",
      " - 0s - loss: 0.0011 - acc: 0.2710 - val_loss: 0.0023 - val_acc: 0.1481\n",
      "Epoch 284/500\n",
      " - 0s - loss: 0.0011 - acc: 0.2804 - val_loss: 0.0024 - val_acc: 0.0741\n",
      "Epoch 285/500\n",
      " - 0s - loss: 0.0013 - acc: 0.2991 - val_loss: 0.0022 - val_acc: 0.2222\n",
      "Epoch 286/500\n",
      " - 0s - loss: 0.0014 - acc: 0.2897 - val_loss: 0.0024 - val_acc: 0.2593\n",
      "Epoch 287/500\n",
      " - 0s - loss: 0.0012 - acc: 0.2710 - val_loss: 0.0024 - val_acc: 0.1481\n",
      "Epoch 288/500\n",
      " - 0s - loss: 0.0013 - acc: 0.2897 - val_loss: 0.0025 - val_acc: 0.2963\n"
     ]
    },
    {
     "name": "stdout",
     "output_type": "stream",
     "text": [
      "Epoch 289/500\n",
      " - 0s - loss: 0.0012 - acc: 0.2617 - val_loss: 0.0021 - val_acc: 0.1481\n",
      "Epoch 290/500\n",
      " - 0s - loss: 0.0012 - acc: 0.2710 - val_loss: 0.0023 - val_acc: 0.2222\n",
      "Epoch 291/500\n",
      " - 0s - loss: 0.0011 - acc: 0.2710 - val_loss: 0.0021 - val_acc: 0.1852\n",
      "Epoch 292/500\n",
      " - 0s - loss: 0.0010 - acc: 0.2991 - val_loss: 0.0021 - val_acc: 0.0741\n",
      "Epoch 293/500\n",
      " - 0s - loss: 0.0011 - acc: 0.2617 - val_loss: 0.0022 - val_acc: 0.1852\n",
      "Epoch 294/500\n",
      " - 0s - loss: 0.0010 - acc: 0.2804 - val_loss: 0.0022 - val_acc: 0.1481\n",
      "Epoch 295/500\n",
      " - 0s - loss: 0.0010 - acc: 0.2804 - val_loss: 0.0022 - val_acc: 0.1481\n",
      "Epoch 296/500\n",
      " - 0s - loss: 0.0010 - acc: 0.3458 - val_loss: 0.0024 - val_acc: 0.1852\n",
      "Epoch 297/500\n",
      " - 0s - loss: 0.0011 - acc: 0.2897 - val_loss: 0.0022 - val_acc: 0.1852\n",
      "Epoch 298/500\n",
      " - 0s - loss: 0.0011 - acc: 0.2897 - val_loss: 0.0021 - val_acc: 0.1481\n",
      "Epoch 299/500\n",
      " - 0s - loss: 0.0011 - acc: 0.2617 - val_loss: 0.0023 - val_acc: 0.1111\n",
      "Epoch 300/500\n",
      " - 0s - loss: 0.0011 - acc: 0.2710 - val_loss: 0.0022 - val_acc: 0.1852\n",
      "Epoch 301/500\n",
      " - 0s - loss: 0.0010 - acc: 0.3084 - val_loss: 0.0022 - val_acc: 0.1481\n",
      "Epoch 302/500\n",
      " - 0s - loss: 0.0010 - acc: 0.2991 - val_loss: 0.0022 - val_acc: 0.1481\n",
      "Epoch 303/500\n",
      " - 0s - loss: 0.0010 - acc: 0.2991 - val_loss: 0.0021 - val_acc: 0.1481\n",
      "Epoch 304/500\n",
      " - 0s - loss: 9.9065e-04 - acc: 0.2617 - val_loss: 0.0021 - val_acc: 0.1481\n",
      "Epoch 305/500\n",
      " - 0s - loss: 0.0010 - acc: 0.2710 - val_loss: 0.0023 - val_acc: 0.0741\n",
      "Epoch 306/500\n",
      " - 0s - loss: 9.8226e-04 - acc: 0.2804 - val_loss: 0.0022 - val_acc: 0.1481\n",
      "Epoch 307/500\n",
      " - 0s - loss: 0.0010 - acc: 0.2523 - val_loss: 0.0024 - val_acc: 0.2222\n",
      "Epoch 308/500\n",
      " - 0s - loss: 0.0010 - acc: 0.2897 - val_loss: 0.0023 - val_acc: 0.1852\n",
      "Epoch 309/500\n",
      " - 0s - loss: 9.9671e-04 - acc: 0.3178 - val_loss: 0.0023 - val_acc: 0.1852\n",
      "Epoch 310/500\n",
      " - 0s - loss: 0.0010 - acc: 0.2991 - val_loss: 0.0023 - val_acc: 0.1111\n",
      "Epoch 311/500\n",
      " - 0s - loss: 0.0010 - acc: 0.3271 - val_loss: 0.0024 - val_acc: 0.2963\n",
      "Epoch 312/500\n",
      " - 0s - loss: 0.0011 - acc: 0.3364 - val_loss: 0.0024 - val_acc: 0.1852\n",
      "Epoch 313/500\n",
      " - 0s - loss: 0.0012 - acc: 0.2617 - val_loss: 0.0024 - val_acc: 0.1111\n",
      "Epoch 314/500\n",
      " - 0s - loss: 0.0011 - acc: 0.2804 - val_loss: 0.0022 - val_acc: 0.1111\n",
      "Epoch 315/500\n",
      " - 0s - loss: 0.0011 - acc: 0.2336 - val_loss: 0.0024 - val_acc: 0.2222\n",
      "Epoch 316/500\n",
      " - 0s - loss: 0.0011 - acc: 0.3178 - val_loss: 0.0023 - val_acc: 0.1111\n",
      "Epoch 317/500\n",
      " - 0s - loss: 0.0012 - acc: 0.3925 - val_loss: 0.0020 - val_acc: 0.1111\n",
      "Epoch 318/500\n",
      " - 0s - loss: 0.0014 - acc: 0.3084 - val_loss: 0.0024 - val_acc: 0.2222\n",
      "Epoch 319/500\n",
      " - 0s - loss: 0.0013 - acc: 0.3458 - val_loss: 0.0021 - val_acc: 0.2222\n",
      "Epoch 320/500\n",
      " - 0s - loss: 0.0012 - acc: 0.2897 - val_loss: 0.0022 - val_acc: 0.1481\n",
      "Epoch 321/500\n",
      " - 0s - loss: 0.0011 - acc: 0.3645 - val_loss: 0.0022 - val_acc: 0.1852\n",
      "Epoch 322/500\n",
      " - 0s - loss: 0.0010 - acc: 0.3178 - val_loss: 0.0023 - val_acc: 0.1852\n",
      "Epoch 323/500\n",
      " - 0s - loss: 0.0010 - acc: 0.3738 - val_loss: 0.0021 - val_acc: 0.1481\n",
      "Epoch 324/500\n",
      " - 0s - loss: 9.9781e-04 - acc: 0.3925 - val_loss: 0.0020 - val_acc: 0.1111\n",
      "Epoch 325/500\n",
      " - 0s - loss: 9.7319e-04 - acc: 0.2804 - val_loss: 0.0022 - val_acc: 0.1111\n",
      "Epoch 326/500\n",
      " - 0s - loss: 9.5958e-04 - acc: 0.2897 - val_loss: 0.0022 - val_acc: 0.1481\n",
      "Epoch 327/500\n",
      " - 0s - loss: 9.4863e-04 - acc: 0.2991 - val_loss: 0.0023 - val_acc: 0.1111\n",
      "Epoch 328/500\n",
      " - 0s - loss: 9.6635e-04 - acc: 0.2991 - val_loss: 0.0023 - val_acc: 0.1111\n",
      "Epoch 329/500\n",
      " - 0s - loss: 9.7523e-04 - acc: 0.2991 - val_loss: 0.0022 - val_acc: 0.1852\n",
      "Epoch 330/500\n",
      " - 0s - loss: 9.6351e-04 - acc: 0.3084 - val_loss: 0.0023 - val_acc: 0.1111\n",
      "Epoch 331/500\n",
      " - 0s - loss: 9.8065e-04 - acc: 0.3271 - val_loss: 0.0024 - val_acc: 0.2222\n",
      "Epoch 332/500\n",
      " - 0s - loss: 9.7735e-04 - acc: 0.3178 - val_loss: 0.0024 - val_acc: 0.1111\n",
      "Epoch 333/500\n",
      " - 0s - loss: 9.7344e-04 - acc: 0.3084 - val_loss: 0.0022 - val_acc: 0.1481\n",
      "Epoch 334/500\n",
      " - 0s - loss: 9.7449e-04 - acc: 0.3178 - val_loss: 0.0022 - val_acc: 0.1111\n",
      "Epoch 335/500\n",
      " - 0s - loss: 0.0010 - acc: 0.2897 - val_loss: 0.0023 - val_acc: 0.2963\n",
      "Epoch 336/500\n",
      " - 0s - loss: 9.6172e-04 - acc: 0.3178 - val_loss: 0.0023 - val_acc: 0.1481\n",
      "Epoch 337/500\n",
      " - 0s - loss: 9.4373e-04 - acc: 0.2710 - val_loss: 0.0021 - val_acc: 0.1481\n",
      "Epoch 338/500\n",
      " - 0s - loss: 0.0010 - acc: 0.3364 - val_loss: 0.0022 - val_acc: 0.1852\n",
      "Epoch 339/500\n",
      " - 0s - loss: 9.5690e-04 - acc: 0.3178 - val_loss: 0.0023 - val_acc: 0.1481\n",
      "Epoch 340/500\n",
      " - 0s - loss: 9.6504e-04 - acc: 0.2991 - val_loss: 0.0023 - val_acc: 0.2222\n",
      "Epoch 341/500\n",
      " - 0s - loss: 9.6564e-04 - acc: 0.3271 - val_loss: 0.0023 - val_acc: 0.2593\n",
      "Epoch 342/500\n",
      " - 0s - loss: 9.8707e-04 - acc: 0.3738 - val_loss: 0.0022 - val_acc: 0.2593\n",
      "Epoch 343/500\n",
      " - 0s - loss: 9.2811e-04 - acc: 0.2710 - val_loss: 0.0022 - val_acc: 0.1481\n",
      "Epoch 344/500\n",
      " - 0s - loss: 9.1882e-04 - acc: 0.3084 - val_loss: 0.0022 - val_acc: 0.1111\n",
      "Epoch 345/500\n",
      " - 0s - loss: 9.5352e-04 - acc: 0.2897 - val_loss: 0.0023 - val_acc: 0.2222\n",
      "Epoch 346/500\n",
      " - 0s - loss: 9.1515e-04 - acc: 0.3364 - val_loss: 0.0023 - val_acc: 0.1481\n",
      "Epoch 347/500\n",
      " - 0s - loss: 9.1711e-04 - acc: 0.2804 - val_loss: 0.0022 - val_acc: 0.1852\n",
      "Epoch 348/500\n",
      " - 0s - loss: 9.1072e-04 - acc: 0.3458 - val_loss: 0.0022 - val_acc: 0.1852\n",
      "Epoch 349/500\n",
      " - 0s - loss: 9.2045e-04 - acc: 0.3178 - val_loss: 0.0023 - val_acc: 0.1481\n",
      "Epoch 350/500\n",
      " - 0s - loss: 0.0010 - acc: 0.3551 - val_loss: 0.0023 - val_acc: 0.1852\n",
      "Epoch 351/500\n",
      " - 0s - loss: 0.0010 - acc: 0.2991 - val_loss: 0.0025 - val_acc: 0.2963\n",
      "Epoch 352/500\n",
      " - 0s - loss: 9.9634e-04 - acc: 0.3364 - val_loss: 0.0025 - val_acc: 0.2222\n",
      "Epoch 353/500\n",
      " - 0s - loss: 9.7084e-04 - acc: 0.3364 - val_loss: 0.0024 - val_acc: 0.1852\n",
      "Epoch 354/500\n",
      " - 0s - loss: 9.6412e-04 - acc: 0.2617 - val_loss: 0.0022 - val_acc: 0.1852\n",
      "Epoch 355/500\n",
      " - 0s - loss: 9.1282e-04 - acc: 0.3178 - val_loss: 0.0023 - val_acc: 0.1852\n",
      "Epoch 356/500\n",
      " - 0s - loss: 9.5361e-04 - acc: 0.3832 - val_loss: 0.0024 - val_acc: 0.2222\n",
      "Epoch 357/500\n",
      " - 0s - loss: 8.9612e-04 - acc: 0.3178 - val_loss: 0.0023 - val_acc: 0.1481\n",
      "Epoch 358/500\n",
      " - 0s - loss: 9.1151e-04 - acc: 0.2897 - val_loss: 0.0020 - val_acc: 0.1481\n",
      "Epoch 359/500\n",
      " - 0s - loss: 9.1538e-04 - acc: 0.3364 - val_loss: 0.0021 - val_acc: 0.1481\n",
      "Epoch 360/500\n",
      " - 0s - loss: 9.1355e-04 - acc: 0.3178 - val_loss: 0.0024 - val_acc: 0.1481\n",
      "Epoch 361/500\n",
      " - 0s - loss: 9.8296e-04 - acc: 0.3084 - val_loss: 0.0023 - val_acc: 0.2593\n",
      "Epoch 362/500\n",
      " - 0s - loss: 9.2337e-04 - acc: 0.3178 - val_loss: 0.0023 - val_acc: 0.2222\n",
      "Epoch 363/500\n",
      " - 0s - loss: 9.1125e-04 - acc: 0.2523 - val_loss: 0.0023 - val_acc: 0.1852\n",
      "Epoch 364/500\n",
      " - 0s - loss: 8.8713e-04 - acc: 0.3084 - val_loss: 0.0022 - val_acc: 0.1852\n",
      "Epoch 365/500\n",
      " - 0s - loss: 8.9217e-04 - acc: 0.3645 - val_loss: 0.0021 - val_acc: 0.1481\n",
      "Epoch 366/500\n",
      " - 0s - loss: 0.0010 - acc: 0.3364 - val_loss: 0.0020 - val_acc: 0.1852\n",
      "Epoch 367/500\n",
      " - 0s - loss: 9.5241e-04 - acc: 0.2897 - val_loss: 0.0020 - val_acc: 0.1111\n",
      "Epoch 368/500\n",
      " - 0s - loss: 9.2186e-04 - acc: 0.2804 - val_loss: 0.0021 - val_acc: 0.1852\n",
      "Epoch 369/500\n",
      " - 0s - loss: 8.8130e-04 - acc: 0.3458 - val_loss: 0.0021 - val_acc: 0.2222\n",
      "Epoch 370/500\n",
      " - 0s - loss: 9.3799e-04 - acc: 0.2991 - val_loss: 0.0022 - val_acc: 0.1852\n",
      "Epoch 371/500\n",
      " - 0s - loss: 9.2393e-04 - acc: 0.3832 - val_loss: 0.0023 - val_acc: 0.1852\n",
      "Epoch 372/500\n",
      " - 0s - loss: 9.0953e-04 - acc: 0.2523 - val_loss: 0.0021 - val_acc: 0.1852\n",
      "Epoch 373/500\n",
      " - 0s - loss: 8.9087e-04 - acc: 0.3738 - val_loss: 0.0021 - val_acc: 0.1481\n",
      "Epoch 374/500\n",
      " - 0s - loss: 9.3870e-04 - acc: 0.2804 - val_loss: 0.0023 - val_acc: 0.1481\n",
      "Epoch 375/500\n",
      " - 0s - loss: 9.8540e-04 - acc: 0.3645 - val_loss: 0.0021 - val_acc: 0.1481\n",
      "Epoch 376/500\n",
      " - 0s - loss: 0.0011 - acc: 0.3364 - val_loss: 0.0021 - val_acc: 0.1111\n",
      "Epoch 377/500\n",
      " - 0s - loss: 9.5089e-04 - acc: 0.3458 - val_loss: 0.0024 - val_acc: 0.2222\n",
      "Epoch 378/500\n",
      " - 0s - loss: 0.0011 - acc: 0.2804 - val_loss: 0.0019 - val_acc: 0.1852\n",
      "Epoch 379/500\n",
      " - 0s - loss: 9.8056e-04 - acc: 0.2804 - val_loss: 0.0023 - val_acc: 0.1111\n",
      "Epoch 380/500\n",
      " - 0s - loss: 0.0010 - acc: 0.2617 - val_loss: 0.0025 - val_acc: 0.1481\n",
      "Epoch 381/500\n",
      " - 0s - loss: 9.6065e-04 - acc: 0.3738 - val_loss: 0.0023 - val_acc: 0.2222\n"
     ]
    },
    {
     "name": "stdout",
     "output_type": "stream",
     "text": [
      "Epoch 382/500\n",
      " - 0s - loss: 9.4087e-04 - acc: 0.3364 - val_loss: 0.0022 - val_acc: 0.1852\n",
      "Epoch 383/500\n",
      " - 0s - loss: 9.7410e-04 - acc: 0.2804 - val_loss: 0.0023 - val_acc: 0.2222\n",
      "Epoch 384/500\n",
      " - 0s - loss: 9.5944e-04 - acc: 0.3645 - val_loss: 0.0023 - val_acc: 0.1852\n",
      "Epoch 385/500\n",
      " - 0s - loss: 9.7569e-04 - acc: 0.4019 - val_loss: 0.0022 - val_acc: 0.1111\n",
      "Epoch 386/500\n",
      " - 0s - loss: 0.0011 - acc: 0.3458 - val_loss: 0.0023 - val_acc: 0.1852\n",
      "Epoch 387/500\n",
      " - 0s - loss: 9.4563e-04 - acc: 0.3178 - val_loss: 0.0024 - val_acc: 0.2593\n",
      "Epoch 388/500\n",
      " - 0s - loss: 8.9558e-04 - acc: 0.3458 - val_loss: 0.0022 - val_acc: 0.1481\n",
      "Epoch 389/500\n",
      " - 0s - loss: 9.6433e-04 - acc: 0.3084 - val_loss: 0.0023 - val_acc: 0.1852\n",
      "Epoch 390/500\n",
      " - 0s - loss: 9.1189e-04 - acc: 0.3458 - val_loss: 0.0023 - val_acc: 0.1852\n",
      "Epoch 391/500\n",
      " - 0s - loss: 9.3238e-04 - acc: 0.2523 - val_loss: 0.0023 - val_acc: 0.2222\n",
      "Epoch 392/500\n",
      " - 0s - loss: 0.0010 - acc: 0.3084 - val_loss: 0.0023 - val_acc: 0.1852\n",
      "Epoch 393/500\n",
      " - 0s - loss: 9.5968e-04 - acc: 0.2617 - val_loss: 0.0022 - val_acc: 0.1111\n",
      "Epoch 394/500\n",
      " - 0s - loss: 9.0285e-04 - acc: 0.3458 - val_loss: 0.0022 - val_acc: 0.2963\n",
      "Epoch 395/500\n",
      " - 0s - loss: 9.0153e-04 - acc: 0.3178 - val_loss: 0.0023 - val_acc: 0.2222\n",
      "Epoch 396/500\n",
      " - 0s - loss: 9.5835e-04 - acc: 0.3364 - val_loss: 0.0020 - val_acc: 0.1481\n",
      "Epoch 397/500\n",
      " - 0s - loss: 0.0010 - acc: 0.3084 - val_loss: 0.0021 - val_acc: 0.1852\n",
      "Epoch 398/500\n",
      " - 0s - loss: 0.0010 - acc: 0.3645 - val_loss: 0.0022 - val_acc: 0.2963\n",
      "Epoch 399/500\n",
      " - 0s - loss: 9.9921e-04 - acc: 0.3084 - val_loss: 0.0019 - val_acc: 0.2222\n",
      "Epoch 400/500\n",
      " - 0s - loss: 0.0010 - acc: 0.3271 - val_loss: 0.0019 - val_acc: 0.1481\n",
      "Epoch 401/500\n",
      " - 0s - loss: 9.1224e-04 - acc: 0.3645 - val_loss: 0.0020 - val_acc: 0.1481\n",
      "Epoch 402/500\n",
      " - 0s - loss: 8.8812e-04 - acc: 0.3364 - val_loss: 0.0021 - val_acc: 0.1852\n",
      "Epoch 403/500\n",
      " - 0s - loss: 9.0532e-04 - acc: 0.3458 - val_loss: 0.0021 - val_acc: 0.2963\n",
      "Epoch 404/500\n",
      " - 0s - loss: 8.6906e-04 - acc: 0.3458 - val_loss: 0.0020 - val_acc: 0.2593\n",
      "Epoch 405/500\n",
      " - 0s - loss: 9.3661e-04 - acc: 0.3178 - val_loss: 0.0021 - val_acc: 0.1481\n",
      "Epoch 406/500\n",
      " - 0s - loss: 8.9905e-04 - acc: 0.2897 - val_loss: 0.0022 - val_acc: 0.1481\n",
      "Epoch 407/500\n",
      " - 0s - loss: 0.0010 - acc: 0.2804 - val_loss: 0.0022 - val_acc: 0.2222\n",
      "Epoch 408/500\n",
      " - 0s - loss: 0.0010 - acc: 0.3084 - val_loss: 0.0020 - val_acc: 0.0741\n",
      "Epoch 409/500\n",
      " - 0s - loss: 8.6500e-04 - acc: 0.3364 - val_loss: 0.0022 - val_acc: 0.1852\n",
      "Epoch 410/500\n",
      " - 0s - loss: 8.3473e-04 - acc: 0.3458 - val_loss: 0.0022 - val_acc: 0.1852\n",
      "Epoch 411/500\n",
      " - 0s - loss: 8.9750e-04 - acc: 0.3458 - val_loss: 0.0022 - val_acc: 0.2222\n",
      "Epoch 412/500\n",
      " - 0s - loss: 9.1222e-04 - acc: 0.3645 - val_loss: 0.0020 - val_acc: 0.2963\n",
      "Epoch 413/500\n",
      " - 0s - loss: 9.2331e-04 - acc: 0.3271 - val_loss: 0.0022 - val_acc: 0.2963\n",
      "Epoch 414/500\n",
      " - 0s - loss: 0.0010 - acc: 0.3364 - val_loss: 0.0022 - val_acc: 0.3333\n",
      "Epoch 415/500\n",
      " - 0s - loss: 0.0011 - acc: 0.3738 - val_loss: 0.0024 - val_acc: 0.2593\n",
      "Epoch 416/500\n",
      " - 0s - loss: 9.7004e-04 - acc: 0.2991 - val_loss: 0.0022 - val_acc: 0.1111\n",
      "Epoch 417/500\n",
      " - 0s - loss: 9.2738e-04 - acc: 0.3178 - val_loss: 0.0023 - val_acc: 0.3333\n",
      "Epoch 418/500\n",
      " - 0s - loss: 8.3642e-04 - acc: 0.3645 - val_loss: 0.0021 - val_acc: 0.1852\n",
      "Epoch 419/500\n",
      " - 0s - loss: 8.5388e-04 - acc: 0.3645 - val_loss: 0.0021 - val_acc: 0.2222\n",
      "Epoch 420/500\n",
      " - 0s - loss: 8.7494e-04 - acc: 0.3178 - val_loss: 0.0021 - val_acc: 0.2593\n",
      "Epoch 421/500\n",
      " - 0s - loss: 7.8895e-04 - acc: 0.3084 - val_loss: 0.0023 - val_acc: 0.1852\n",
      "Epoch 422/500\n",
      " - 0s - loss: 7.7622e-04 - acc: 0.3551 - val_loss: 0.0022 - val_acc: 0.2222\n",
      "Epoch 423/500\n",
      " - 0s - loss: 7.9535e-04 - acc: 0.3271 - val_loss: 0.0021 - val_acc: 0.2222\n",
      "Epoch 424/500\n",
      " - 0s - loss: 7.7686e-04 - acc: 0.3458 - val_loss: 0.0022 - val_acc: 0.2222\n",
      "Epoch 425/500\n",
      " - 0s - loss: 8.7714e-04 - acc: 0.3458 - val_loss: 0.0022 - val_acc: 0.1111\n",
      "Epoch 426/500\n",
      " - 0s - loss: 9.0172e-04 - acc: 0.3178 - val_loss: 0.0023 - val_acc: 0.2963\n",
      "Epoch 427/500\n",
      " - 0s - loss: 8.4216e-04 - acc: 0.3458 - val_loss: 0.0021 - val_acc: 0.2593\n",
      "Epoch 428/500\n",
      " - 0s - loss: 8.9932e-04 - acc: 0.3551 - val_loss: 0.0019 - val_acc: 0.2593\n",
      "Epoch 429/500\n",
      " - 0s - loss: 8.4227e-04 - acc: 0.3551 - val_loss: 0.0020 - val_acc: 0.1481\n",
      "Epoch 430/500\n",
      " - 0s - loss: 8.8044e-04 - acc: 0.2991 - val_loss: 0.0019 - val_acc: 0.1852\n",
      "Epoch 431/500\n",
      " - 0s - loss: 8.6378e-04 - acc: 0.4299 - val_loss: 0.0019 - val_acc: 0.1852\n",
      "Epoch 432/500\n",
      " - 0s - loss: 9.1184e-04 - acc: 0.3084 - val_loss: 0.0023 - val_acc: 0.3704\n",
      "Epoch 433/500\n",
      " - 0s - loss: 9.9636e-04 - acc: 0.3551 - val_loss: 0.0019 - val_acc: 0.1852\n",
      "Epoch 434/500\n",
      " - 0s - loss: 9.6973e-04 - acc: 0.3178 - val_loss: 0.0020 - val_acc: 0.1481\n",
      "Epoch 435/500\n",
      " - 0s - loss: 0.0010 - acc: 0.3364 - val_loss: 0.0023 - val_acc: 0.1111\n",
      "Epoch 436/500\n",
      " - 0s - loss: 9.4052e-04 - acc: 0.3084 - val_loss: 0.0021 - val_acc: 0.1481\n",
      "Epoch 437/500\n",
      " - 0s - loss: 8.9169e-04 - acc: 0.4299 - val_loss: 0.0021 - val_acc: 0.2222\n",
      "Epoch 438/500\n",
      " - 0s - loss: 8.1101e-04 - acc: 0.3084 - val_loss: 0.0022 - val_acc: 0.1111\n",
      "Epoch 439/500\n",
      " - 0s - loss: 7.8520e-04 - acc: 0.3364 - val_loss: 0.0020 - val_acc: 0.1481\n",
      "Epoch 440/500\n",
      " - 0s - loss: 8.0896e-04 - acc: 0.3551 - val_loss: 0.0021 - val_acc: 0.2222\n",
      "Epoch 441/500\n",
      " - 0s - loss: 8.0383e-04 - acc: 0.3084 - val_loss: 0.0019 - val_acc: 0.1852\n",
      "Epoch 442/500\n",
      " - 0s - loss: 7.8813e-04 - acc: 0.2991 - val_loss: 0.0020 - val_acc: 0.2222\n",
      "Epoch 443/500\n",
      " - 0s - loss: 7.6976e-04 - acc: 0.3551 - val_loss: 0.0022 - val_acc: 0.2593\n",
      "Epoch 444/500\n",
      " - 0s - loss: 8.0471e-04 - acc: 0.3178 - val_loss: 0.0020 - val_acc: 0.2222\n",
      "Epoch 445/500\n",
      " - 0s - loss: 8.2498e-04 - acc: 0.3551 - val_loss: 0.0020 - val_acc: 0.1852\n",
      "Epoch 446/500\n",
      " - 0s - loss: 8.6487e-04 - acc: 0.3271 - val_loss: 0.0021 - val_acc: 0.1481\n",
      "Epoch 447/500\n",
      " - 0s - loss: 7.8652e-04 - acc: 0.3645 - val_loss: 0.0022 - val_acc: 0.2222\n",
      "Epoch 448/500\n",
      " - 0s - loss: 8.0947e-04 - acc: 0.3271 - val_loss: 0.0022 - val_acc: 0.1852\n",
      "Epoch 449/500\n",
      " - 0s - loss: 8.4134e-04 - acc: 0.3084 - val_loss: 0.0020 - val_acc: 0.2222\n",
      "Epoch 450/500\n",
      " - 0s - loss: 8.3121e-04 - acc: 0.3364 - val_loss: 0.0023 - val_acc: 0.1111\n",
      "Epoch 451/500\n",
      " - 0s - loss: 8.9419e-04 - acc: 0.3738 - val_loss: 0.0022 - val_acc: 0.2222\n",
      "Epoch 452/500\n",
      " - 0s - loss: 8.2344e-04 - acc: 0.3364 - val_loss: 0.0021 - val_acc: 0.2222\n",
      "Epoch 453/500\n",
      " - 0s - loss: 7.9504e-04 - acc: 0.3551 - val_loss: 0.0025 - val_acc: 0.2963\n",
      "Epoch 454/500\n",
      " - 0s - loss: 8.7841e-04 - acc: 0.3458 - val_loss: 0.0021 - val_acc: 0.2963\n",
      "Epoch 455/500\n",
      " - 0s - loss: 8.7640e-04 - acc: 0.3271 - val_loss: 0.0021 - val_acc: 0.1481\n",
      "Epoch 456/500\n",
      " - 0s - loss: 8.1073e-04 - acc: 0.2804 - val_loss: 0.0023 - val_acc: 0.2963\n",
      "Epoch 457/500\n",
      " - 0s - loss: 8.5903e-04 - acc: 0.3084 - val_loss: 0.0021 - val_acc: 0.1481\n",
      "Epoch 458/500\n",
      " - 0s - loss: 8.7006e-04 - acc: 0.3832 - val_loss: 0.0020 - val_acc: 0.1852\n",
      "Epoch 459/500\n",
      " - 0s - loss: 9.3100e-04 - acc: 0.3458 - val_loss: 0.0025 - val_acc: 0.2222\n",
      "Epoch 460/500\n",
      " - 0s - loss: 8.7100e-04 - acc: 0.3738 - val_loss: 0.0022 - val_acc: 0.1111\n",
      "Epoch 461/500\n",
      " - 0s - loss: 8.8683e-04 - acc: 0.3925 - val_loss: 0.0022 - val_acc: 0.2593\n",
      "Epoch 462/500\n",
      " - 0s - loss: 8.3905e-04 - acc: 0.3458 - val_loss: 0.0022 - val_acc: 0.2593\n",
      "Epoch 463/500\n",
      " - 0s - loss: 8.6663e-04 - acc: 0.2804 - val_loss: 0.0023 - val_acc: 0.1111\n",
      "Epoch 464/500\n",
      " - 0s - loss: 0.0011 - acc: 0.2523 - val_loss: 0.0026 - val_acc: 0.1852\n",
      "Epoch 465/500\n",
      " - 0s - loss: 8.8259e-04 - acc: 0.4019 - val_loss: 0.0019 - val_acc: 0.1481\n",
      "Epoch 466/500\n",
      " - 0s - loss: 7.7483e-04 - acc: 0.4019 - val_loss: 0.0020 - val_acc: 0.2222\n",
      "Epoch 467/500\n",
      " - 0s - loss: 7.8359e-04 - acc: 0.3178 - val_loss: 0.0019 - val_acc: 0.2222\n",
      "Epoch 468/500\n",
      " - 0s - loss: 7.6657e-04 - acc: 0.3364 - val_loss: 0.0020 - val_acc: 0.1111\n",
      "Epoch 469/500\n",
      " - 0s - loss: 9.5743e-04 - acc: 0.3458 - val_loss: 0.0019 - val_acc: 0.2593\n",
      "Epoch 470/500\n",
      " - 0s - loss: 8.5221e-04 - acc: 0.3364 - val_loss: 0.0022 - val_acc: 0.1481\n",
      "Epoch 471/500\n",
      " - 0s - loss: 8.1167e-04 - acc: 0.4112 - val_loss: 0.0019 - val_acc: 0.1111\n",
      "Epoch 472/500\n",
      " - 0s - loss: 8.2277e-04 - acc: 0.3084 - val_loss: 0.0021 - val_acc: 0.2593\n",
      "Epoch 473/500\n",
      " - 0s - loss: 7.6431e-04 - acc: 0.3645 - val_loss: 0.0022 - val_acc: 0.1481\n"
     ]
    },
    {
     "name": "stdout",
     "output_type": "stream",
     "text": [
      "Epoch 474/500\n",
      " - 0s - loss: 7.6013e-04 - acc: 0.3645 - val_loss: 0.0021 - val_acc: 0.1852\n",
      "Epoch 475/500\n",
      " - 0s - loss: 7.4080e-04 - acc: 0.3738 - val_loss: 0.0023 - val_acc: 0.3333\n",
      "Epoch 476/500\n",
      " - 0s - loss: 7.7064e-04 - acc: 0.3364 - val_loss: 0.0021 - val_acc: 0.1852\n",
      "Epoch 477/500\n",
      " - 0s - loss: 7.4657e-04 - acc: 0.2991 - val_loss: 0.0021 - val_acc: 0.1852\n",
      "Epoch 478/500\n",
      " - 0s - loss: 7.8401e-04 - acc: 0.3925 - val_loss: 0.0024 - val_acc: 0.0741\n",
      "Epoch 479/500\n",
      " - 0s - loss: 7.4810e-04 - acc: 0.3551 - val_loss: 0.0023 - val_acc: 0.1852\n",
      "Epoch 480/500\n",
      " - 0s - loss: 8.3505e-04 - acc: 0.3458 - val_loss: 0.0022 - val_acc: 0.2222\n",
      "Epoch 481/500\n",
      " - 0s - loss: 9.4828e-04 - acc: 0.3832 - val_loss: 0.0024 - val_acc: 0.2222\n",
      "Epoch 482/500\n",
      " - 0s - loss: 8.9313e-04 - acc: 0.3832 - val_loss: 0.0024 - val_acc: 0.2593\n",
      "Epoch 483/500\n",
      " - 0s - loss: 8.9398e-04 - acc: 0.2710 - val_loss: 0.0021 - val_acc: 0.1111\n",
      "Epoch 484/500\n",
      " - 0s - loss: 8.5447e-04 - acc: 0.3178 - val_loss: 0.0022 - val_acc: 0.1852\n",
      "Epoch 485/500\n",
      " - 0s - loss: 8.0050e-04 - acc: 0.4112 - val_loss: 0.0023 - val_acc: 0.1852\n",
      "Epoch 486/500\n",
      " - 0s - loss: 8.3607e-04 - acc: 0.3084 - val_loss: 0.0019 - val_acc: 0.1481\n",
      "Epoch 487/500\n",
      " - 0s - loss: 8.1619e-04 - acc: 0.2991 - val_loss: 0.0020 - val_acc: 0.2593\n",
      "Epoch 488/500\n",
      " - 0s - loss: 7.2721e-04 - acc: 0.3925 - val_loss: 0.0021 - val_acc: 0.2222\n",
      "Epoch 489/500\n",
      " - 0s - loss: 7.1397e-04 - acc: 0.3364 - val_loss: 0.0021 - val_acc: 0.1852\n",
      "Epoch 490/500\n",
      " - 0s - loss: 7.7250e-04 - acc: 0.3645 - val_loss: 0.0020 - val_acc: 0.2222\n",
      "Epoch 491/500\n",
      " - 0s - loss: 7.5982e-04 - acc: 0.3271 - val_loss: 0.0019 - val_acc: 0.1481\n",
      "Epoch 492/500\n",
      " - 0s - loss: 7.4969e-04 - acc: 0.3832 - val_loss: 0.0022 - val_acc: 0.2963\n",
      "Epoch 493/500\n",
      " - 0s - loss: 7.2125e-04 - acc: 0.3178 - val_loss: 0.0024 - val_acc: 0.2222\n",
      "Epoch 494/500\n",
      " - 0s - loss: 8.0157e-04 - acc: 0.3738 - val_loss: 0.0023 - val_acc: 0.2222\n",
      "Epoch 495/500\n",
      " - 0s - loss: 7.8805e-04 - acc: 0.4112 - val_loss: 0.0022 - val_acc: 0.1481\n",
      "Epoch 496/500\n",
      " - 0s - loss: 7.8145e-04 - acc: 0.3458 - val_loss: 0.0021 - val_acc: 0.0741\n",
      "Epoch 497/500\n",
      " - 0s - loss: 8.1501e-04 - acc: 0.3271 - val_loss: 0.0022 - val_acc: 0.2222\n",
      "Epoch 498/500\n",
      " - 0s - loss: 7.4086e-04 - acc: 0.3832 - val_loss: 0.0022 - val_acc: 0.1852\n",
      "Epoch 499/500\n",
      " - 0s - loss: 7.4944e-04 - acc: 0.3925 - val_loss: 0.0022 - val_acc: 0.2593\n",
      "Epoch 500/500\n",
      " - 0s - loss: 7.2946e-04 - acc: 0.3925 - val_loss: 0.0023 - val_acc: 0.1852\n",
      "27/27 [==============================] - 0s 846us/step\n",
      "[0.0022679178682328376, 0.1851851890484492]\n"
     ]
    },
    {
     "data": {
      "image/png": "[encoded data removed]",
      "text/plain": [
       "<Figure size 432x288 with 1 Axes>"
      ]
     },
     "metadata": {
      "needs_background": "light"
     },
     "output_type": "display_data"
    }
   ],
   "source": [
    "model = init_model()\n",
    "history = LossHistory()\n",
    "# when training, using minibatch seems to be pretty good\n",
    "model.fit(train_X, train_Y, epochs=500, batch_size=10,\n",
    "                callbacks=[history],\n",
    "                validation_data=(test_X, test_Y), verbose=2)\n",
    "score = model.evaluate(test_X, test_Y, batch_size=20)\n",
    "print(score)\n",
    "plot_losses(history.losses)"
   ]
  },
  {
   "cell_type": "code",
   "execution_count": 17,
   "metadata": {
    "scrolled": true
   },
   "outputs": [
    {
     "name": "stdout",
     "output_type": "stream",
     "text": [
      "Test 0\n",
      "True shape: [0.2        0.19507534 0.19507534 0.2        0.2        0.19753767]\n",
      "Predicted shape: [[0.18889648 0.19220817 0.20235068 0.19841123 0.19872138 0.1904945 ]]\n",
      "\n"
     ]
    },
    {
     "data": {
      "image/png": "[encoded data removed]",
      "text/plain": [
       "<Figure size 432x288 with 1 Axes>"
      ]
     },
     "metadata": {
      "needs_background": "light"
     },
     "output_type": "display_data"
    },
    {
     "name": "stdout",
     "output_type": "stream",
     "text": [
      "Test 1\n",
      "True shape: [0.1902113  0.19258231 0.2        0.19507534 0.19507534 0.2       ]\n",
      "Predicted shape: [[0.18238452 0.18628213 0.19892329 0.19177374 0.19543026 0.18742292]]\n",
      "\n"
     ]
    },
    {
     "data": {
      "image/png": "[encoded data removed]",
      "text/plain": [
       "<Figure size 432x288 with 1 Axes>"
      ]
     },
     "metadata": {
      "needs_background": "light"
     },
     "output_type": "display_data"
    },
    {
     "name": "stdout",
     "output_type": "stream",
     "text": [
      "Test 2\n",
      "True shape: [0.09876883 0.1        0.2        0.3        0.2        0.2       ]\n",
      "Predicted shape: [[0.21186525 0.21368363 0.20864281 0.17935243 0.14165486 0.12796003]]\n",
      "\n"
     ]
    },
    {
     "data": {
      "image/png": "[encoded data removed]",
      "text/plain": [
       "<Figure size 432x288 with 1 Axes>"
      ]
     },
     "metadata": {
      "needs_background": "light"
     },
     "output_type": "display_data"
    },
    {
     "name": "stdout",
     "output_type": "stream",
     "text": [
      "Test 3\n",
      "True shape: [0.19753767 0.2        0.2        0.1        0.2        0.3       ]\n",
      "Predicted shape: [[0.15039492 0.15053815 0.18833801 0.20319405 0.21673857 0.17947456]]\n",
      "\n"
     ]
    },
    {
     "data": {
      "image/png": "[encoded data removed]",
      "text/plain": [
       "<Figure size 432x288 with 1 Axes>"
      ]
     },
     "metadata": {
      "needs_background": "light"
     },
     "output_type": "display_data"
    },
    {
     "name": "stdout",
     "output_type": "stream",
     "text": [
      "Test 4\n",
      "True shape: [0.1618034  0.1638203  0.17013016 0.1815962  0.2        0.1       ]\n",
      "Predicted shape: [[0.19190949 0.1867834  0.15412867 0.18980521 0.15419918 0.15177277]]\n",
      "\n"
     ]
    },
    {
     "data": {
      "image/png": "[encoded data removed]",
      "text/plain": [
       "<Figure size 432x288 with 1 Axes>"
      ]
     },
     "metadata": {
      "needs_background": "light"
     },
     "output_type": "display_data"
    },
    {
     "name": "stdout",
     "output_type": "stream",
     "text": [
      "Test 5\n",
      "True shape: [0.1902113  0.19258231 0.2        0.13169178 0.1        0.2       ]\n",
      "Predicted shape: [[0.17683199 0.18192759 0.18052721 0.15026143 0.15119725 0.14264299]]\n",
      "\n"
     ]
    },
    {
     "data": {
      "image/png": "[encoded data removed]",
      "text/plain": [
       "<Figure size 432x288 with 1 Axes>"
      ]
     },
     "metadata": {
      "needs_background": "light"
     },
     "output_type": "display_data"
    },
    {
     "name": "stdout",
     "output_type": "stream",
     "text": [
      "Test 6\n",
      "True shape: [0.1782013  0.18042261 0.18737194 0.2        0.19753767 0.2       ]\n",
      "Predicted shape: [[0.18033576 0.18241903 0.2246576  0.19586661 0.17982233 0.17585602]]\n",
      "\n"
     ]
    },
    {
     "data": {
      "image/png": "[encoded data removed]",
      "text/plain": [
       "<Figure size 432x288 with 1 Axes>"
      ]
     },
     "metadata": {
      "needs_background": "light"
     },
     "output_type": "display_data"
    },
    {
     "name": "stdout",
     "output_type": "stream",
     "text": [
      "Test 7\n",
      "True shape: [0.09876883 0.1        0.13169178 0.2        0.19753767 0.2       ]\n",
      "Predicted shape: [[0.1131359  0.11322281 0.18555233 0.18519351 0.17115048 0.14392304]]\n",
      "\n"
     ]
    },
    {
     "data": {
      "image/png": "[encoded data removed]",
      "text/plain": [
       "<Figure size 432x288 with 1 Axes>"
      ]
     },
     "metadata": {
      "needs_background": "light"
     },
     "output_type": "display_data"
    },
    {
     "name": "stdout",
     "output_type": "stream",
     "text": [
      "Test 8\n",
      "True shape: [0.19753767 0.2        0.13169178 0.1        0.2        0.2       ]\n",
      "Predicted shape: [[0.19786233 0.19391039 0.13352865 0.14984801 0.16919191 0.19936192]]\n",
      "\n"
     ]
    },
    {
     "data": {
      "image/png": "[encoded data removed]",
      "text/plain": [
       "<Figure size 432x288 with 1 Axes>"
      ]
     },
     "metadata": {
      "needs_background": "light"
     },
     "output_type": "display_data"
    },
    {
     "name": "stdout",
     "output_type": "stream",
     "text": [
      "Test 9\n",
      "True shape: [0.19753767 0.2        0.19507534 0.19507534 0.2        0.19753767]\n",
      "Predicted shape: [[0.18662903 0.18990025 0.20110384 0.19724274 0.19769809 0.18880482]]\n",
      "\n"
     ]
    },
    {
     "data": {
      "image/png": "[encoded data removed]",
      "text/plain": [
       "<Figure size 432x288 with 1 Axes>"
      ]
     },
     "metadata": {
      "needs_background": "light"
     },
     "output_type": "display_data"
    },
    {
     "name": "stdout",
     "output_type": "stream",
     "text": [
      "Test 10\n",
      "True shape: [0.2        0.19507534 0.19507534 0.2        0.19258231 0.1902113 ]\n",
      "Predicted shape: [[0.1827091  0.18657324 0.19997475 0.1924321  0.19589888 0.18795355]]\n",
      "\n"
     ]
    },
    {
     "data": {
      "image/png": "[encoded data removed]",
      "text/plain": [
       "<Figure size 432x288 with 1 Axes>"
      ]
     },
     "metadata": {
      "needs_background": "light"
     },
     "output_type": "display_data"
    },
    {
     "name": "stdout",
     "output_type": "stream",
     "text": [
      "Test 11\n",
      "True shape: [0.19753767 0.2        0.19753767 0.2        0.2        0.1       ]\n",
      "Predicted shape: [[0.19144055 0.19863737 0.24890009 0.20808387 0.1304778  0.09894276]]\n",
      "\n"
     ]
    },
    {
     "data": {
      "image/png": "[encoded data removed]",
      "text/plain": [
       "<Figure size 432x288 with 1 Axes>"
      ]
     },
     "metadata": {
      "needs_background": "light"
     },
     "output_type": "display_data"
    },
    {
     "name": "stdout",
     "output_type": "stream",
     "text": [
      "Test 12\n",
      "True shape: [0.19753767 0.2        0.19753767 0.2        0.1        0.09876883]\n",
      "Predicted shape: [[0.19954354 0.20196325 0.17381635 0.18213126 0.1441268  0.13015106]]\n",
      "\n"
     ]
    },
    {
     "data": {
      "image/png": "[encoded data removed]",
      "text/plain": [
       "<Figure size 432x288 with 1 Axes>"
      ]
     },
     "metadata": {
      "needs_background": "light"
     },
     "output_type": "display_data"
    },
    {
     "name": "stdout",
     "output_type": "stream",
     "text": [
      "Test 13\n",
      "True shape: [0.1902113  0.19258231 0.2        0.18737194 0.18042261 0.1782013 ]\n",
      "Predicted shape: [[0.18314347 0.18753654 0.18582258 0.17429447 0.1917015  0.18229233]]\n",
      "\n"
     ]
    },
    {
     "data": {
      "image/png": "[encoded data removed]",
      "text/plain": [
       "<Figure size 432x288 with 1 Axes>"
      ]
     },
     "metadata": {
      "needs_background": "light"
     },
     "output_type": "display_data"
    },
    {
     "name": "stdout",
     "output_type": "stream",
     "text": [
      "Test 14\n",
      "True shape: [0.19753767 0.2        0.2        0.19753767 0.2        0.19753767]\n",
      "Predicted shape: [[0.18392682 0.18654382 0.20650223 0.2047332  0.19838879 0.1876379 ]]\n",
      "\n"
     ]
    },
    {
     "data": {
      "image/png": "[encoded data removed]",
      "text/plain": [
       "<Figure size 432x288 with 1 Axes>"
      ]
     },
     "metadata": {
      "needs_background": "light"
     },
     "output_type": "display_data"
    },
    {
     "name": "stdout",
     "output_type": "stream",
     "text": [
      "Test 15\n",
      "True shape: [0.1902113  0.19258231 0.2        0.1        0.13169178 0.2       ]\n",
      "Predicted shape: [[0.1322993  0.1364738  0.16613138 0.17407316 0.17010449 0.1526439 ]]\n",
      "\n"
     ]
    },
    {
     "data": {
      "image/png": "[encoded data removed]",
      "text/plain": [
       "<Figure size 432x288 with 1 Axes>"
      ]
     },
     "metadata": {
      "needs_background": "light"
     },
     "output_type": "display_data"
    },
    {
     "name": "stdout",
     "output_type": "stream",
     "text": [
      "Test 16\n",
      "True shape: [0.1        0.11723925 0.14600443 0.2        0.19258231 0.1902113 ]\n",
      "Predicted shape: [[0.17966321 0.1842058  0.18858948 0.17418483 0.1257847  0.10597163]]\n",
      "\n"
     ]
    },
    {
     "data": {
      "image/png": "[encoded data removed]",
      "text/plain": [
       "<Figure size 432x288 with 1 Axes>"
      ]
     },
     "metadata": {
      "needs_background": "light"
     },
     "output_type": "display_data"
    },
    {
     "name": "stdout",
     "output_type": "stream",
     "text": [
      "Test 17\n",
      "True shape: [0.1        0.11044282 0.12680754 0.15329674 0.2        0.3       ]\n",
      "Predicted shape: [[0.18154141 0.1815297  0.16117916 0.12343273 0.1737038  0.18429196]]\n",
      "\n"
     ]
    },
    {
     "data": {
      "image/png": "[encoded data removed]",
      "text/plain": [
       "<Figure size 432x288 with 1 Axes>"
      ]
     },
     "metadata": {
      "needs_background": "light"
     },
     "output_type": "display_data"
    },
    {
     "name": "stdout",
     "output_type": "stream",
     "text": [
      "Test 18\n",
      "True shape: [0.19753767 0.2        0.2        0.14600443 0.11723925 0.1       ]\n",
      "Predicted shape: [[0.16876617 0.17391512 0.1800358  0.16784903 0.16594785 0.16888513]]\n",
      "\n"
     ]
    },
    {
     "data": {
      "image/png": "[encoded data removed]",
      "text/plain": [
       "<Figure size 432x288 with 1 Axes>"
      ]
     },
     "metadata": {
      "needs_background": "light"
     },
     "output_type": "display_data"
    },
    {
     "name": "stdout",
     "output_type": "stream",
     "text": [
      "Test 19\n",
      "True shape: [0.1902113  0.19258231 0.2        0.1        0.2        0.19753767]\n",
      "Predicted shape: [[0.18999878 0.19519526 0.21608338 0.19422513 0.11354556 0.08758691]]\n",
      "\n"
     ]
    },
    {
     "data": {
      "image/png": "[encoded data removed]",
      "text/plain": [
       "<Figure size 432x288 with 1 Axes>"
      ]
     },
     "metadata": {
      "needs_background": "light"
     },
     "output_type": "display_data"
    },
    {
     "name": "stdout",
     "output_type": "stream",
     "text": [
      "Test 20\n",
      "True shape: [0.19753767 0.2        0.19753767 0.2        0.2        0.2       ]\n",
      "Predicted shape: [[0.1901842  0.19356999 0.20683408 0.20425045 0.19648717 0.19100317]]\n",
      "\n"
     ]
    },
    {
     "data": {
      "image/png": "[encoded data removed]",
      "text/plain": [
       "<Figure size 432x288 with 1 Axes>"
      ]
     },
     "metadata": {
      "needs_background": "light"
     },
     "output_type": "display_data"
    },
    {
     "name": "stdout",
     "output_type": "stream",
     "text": [
      "Test 21\n",
      "True shape: [0.1902113  0.19258231 0.2        0.19753767 0.2        0.19753767]\n",
      "Predicted shape: [[0.18516362 0.1887896  0.1970211  0.1915434  0.19702457 0.18817553]]\n",
      "\n"
     ]
    },
    {
     "data": {
      "image/png": "[encoded data removed]",
      "text/plain": [
       "<Figure size 432x288 with 1 Axes>"
      ]
     },
     "metadata": {
      "needs_background": "light"
     },
     "output_type": "display_data"
    },
    {
     "name": "stdout",
     "output_type": "stream",
     "text": [
      "Test 22\n",
      "True shape: [0.1782013  0.18042261 0.18737194 0.2        0.13169178 0.1       ]\n",
      "Predicted shape: [[0.17313033 0.17785025 0.1236909  0.18351227 0.17386666 0.24497657]]\n",
      "\n"
     ]
    },
    {
     "data": {
      "image/png": "[encoded data removed]",
      "text/plain": [
       "<Figure size 432x288 with 1 Axes>"
      ]
     },
     "metadata": {
      "needs_background": "light"
     },
     "output_type": "display_data"
    },
    {
     "name": "stdout",
     "output_type": "stream",
     "text": [
      "Test 23\n",
      "True shape: [0.19753767 0.2        0.2        0.1        0.1        0.2       ]\n",
      "Predicted shape: [[0.11254799 0.11254323 0.18539175 0.18496624 0.1709129  0.14358282]]\n",
      "\n"
     ]
    },
    {
     "data": {
      "image/png": "[encoded data removed]",
      "text/plain": [
       "<Figure size 432x288 with 1 Axes>"
      ]
     },
     "metadata": {
      "needs_background": "light"
     },
     "output_type": "display_data"
    },
    {
     "name": "stdout",
     "output_type": "stream",
     "text": [
      "Test 24\n",
      "True shape: [0.19753767 0.2        0.13169178 0.1        0.2        0.3       ]\n",
      "Predicted shape: [[0.19098362 0.19234914 0.18088666 0.13648859 0.18714263 0.19465706]]\n",
      "\n"
     ]
    },
    {
     "data": {
      "image/png": "[encoded data removed]",
      "text/plain": [
       "<Figure size 432x288 with 1 Axes>"
      ]
     },
     "metadata": {
      "needs_background": "light"
     },
     "output_type": "display_data"
    },
    {
     "name": "stdout",
     "output_type": "stream",
     "text": [
      "Test 25\n",
      "True shape: [0.09876883 0.1        0.13169178 0.2        0.2        0.3       ]\n",
      "Predicted shape: [[0.18600816 0.19112873 0.20723596 0.19434959 0.1350451  0.09925376]]\n",
      "\n"
     ]
    },
    {
     "data": {
      "image/png": "[encoded data removed]",
      "text/plain": [
       "<Figure size 432x288 with 1 Axes>"
      ]
     },
     "metadata": {
      "needs_background": "light"
     },
     "output_type": "display_data"
    },
    {
     "name": "stdout",
     "output_type": "stream",
     "text": [
      "Test 26\n",
      "True shape: [0.19753767 0.2        0.2        0.19753767 0.2        0.2       ]\n",
      "Predicted shape: [[0.18551835 0.18840784 0.2064963  0.20458516 0.19718255 0.188312  ]]\n",
      "\n"
     ]
    },
    {
     "data": {
      "image/png": "[encoded data removed]",
      "text/plain": [
       "<Figure size 432x288 with 1 Axes>"
      ]
     },
     "metadata": {
      "needs_background": "light"
     },
     "output_type": "display_data"
    }
   ],
   "source": [
    "predicted = model.predict(np.reshape(test_X[0], (1, 200)))\n",
    "x = np.genfromtxt('meep_code/data/SP_xaxis.txt')\n",
    "for i in range(len(test_X)):\n",
    "    print('Test '+str(i))\n",
    "    print('True shape: ' + str(test_Y[i]))\n",
    "    print('Predicted shape: ' + str(model.predict(np.reshape(test_X[i], (1, 200))))+'\\n')\n",
    "    plt.ylim(0, 1.1)\n",
    "    plt.plot(x, np.subtract(test_X[i], -0.5))\n",
    "    plt.show()\n",
    "    if i == 0:\n",
    "        continue\n",
    "    predicted = np.concatenate((predicted, model.predict(np.reshape(test_X[0], (1, 200)))))"
   ]
  },
  {
   "attachments": {
    "image.png": {
     "image/png": "[encoded data removed]"
    }
   },
   "cell_type": "markdown",
   "metadata": {},
   "source": [
    "Train on 119 samples, validate on 30 samples![image.png](attachment:image.png)"
   ]
  }
 ],
 "metadata": {
  "kernelspec": {
   "display_name": "Python 3",
   "language": "python",
   "name": "python3"
  },
  "language_info": {
   "codemirror_mode": {
    "name": "ipython",
    "version": 3
   },
   "file_extension": ".py",
   "mimetype": "text/x-python",
   "name": "python",
   "nbconvert_exporter": "python",
   "pygments_lexer": "ipython3",
   "version": "3.6.7"
  }
 },
 "nbformat": 4,
 "nbformat_minor": 2
}
