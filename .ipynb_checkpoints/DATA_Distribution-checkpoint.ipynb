{
 "cells": [
  {
   "cell_type": "code",
   "execution_count": 1,
   "metadata": {},
   "outputs": [],
   "source": [
    "import os\n",
    "import sys\n",
    "sys.path.append(\"numpy_path\")\n",
    "import numpy as np\n",
    "from matplotlib import pyplot as plt\n",
    "from math import cos, sin, pi\n",
    "import math\n",
    "from statistics import mean\n",
    "import os.path\n",
    "\n",
    "shape_size = 48"
   ]
  },
  {
   "cell_type": "code",
   "execution_count": 2,
   "metadata": {
    "scrolled": true
   },
   "outputs": [
    {
     "name": "stdout",
     "output_type": "stream",
     "text": [
      "Batch 2 has \t7\n",
      "Batch 3 has \t6\n",
      "Batch 4 has \t17\n",
      "Batch 5 has \t5\n",
      "Batch 6 has \t14\n",
      "Batch 7 has \t14\n",
      "Batch 8 has \t40\n",
      "Batch 9 has \t5\n",
      "Batch 10 has \t14\n",
      "Batch 11 has \t14\n",
      "Batch 12 has \t40\n",
      "Batch 13 has \t13\n",
      "Batch 14 has \t37\n",
      "Batch 15 has \t37\n",
      "Batch 16 has \t106\n",
      "Batch 17 has \t5\n",
      "Batch 18 has \t14\n",
      "Batch 19 has \t14\n",
      "Batch 20 has \t40\n",
      "Batch 21 has \t13\n",
      "Batch 22 has \t37\n",
      "Batch 23 has \t37\n",
      "Batch 24 has \t106\n",
      "Batch 25 has \t13\n",
      "Batch 26 has \t37\n",
      "Batch 27 has \t37\n",
      "Batch 28 has \t106\n",
      "Batch 29 has \t35\n",
      "Batch 30 has \t100\n",
      "Batch 31 has \t100\n",
      "Batch 32 has \t287\n",
      "Batch 33 has \t5\n",
      "Batch 34 has \t14\n",
      "Batch 35 has \t14\n",
      "Batch 36 has \t40\n",
      "Batch 37 has \t13\n",
      "Batch 38 has \t37\n",
      "Batch 39 has \t37\n",
      "Batch 40 has \t106\n",
      "Batch 41 has \t13\n",
      "Batch 42 has \t37\n",
      "Batch 43 has \t37\n",
      "Batch 44 has \t106\n",
      "Batch 45 has \t35\n",
      "Batch 46 has \t100\n",
      "Batch 47 has \t100\n",
      "Batch 48 has \t287\n",
      "Batch 49 has \t13\n",
      "Batch 50 has \t37\n",
      "Batch 51 has \t37\n",
      "Batch 52 has \t106\n",
      "Batch 53 has \t35\n",
      "Batch 54 has \t100\n",
      "Batch 55 has \t100\n",
      "Batch 56 has \t287\n",
      "Batch 57 has \t35\n",
      "Batch 58 has \t100\n",
      "Batch 59 has \t100\n",
      "Batch 60 has \t287\n",
      "Batch 61 has \t95\n",
      "Batch 62 has \t272\n",
      "Batch 63 has \t272\n",
      "Batch 64 has \t781\n",
      "Total # of data: 4989\n"
     ]
    }
   ],
   "source": [
    "data_size = 0\n",
    "dummy1 = [0]*200\n",
    "dummy2 = [0]*6\n",
    "SP = np.array(np.reshape(dummy1, (1, 200)))\n",
    "SH = np.array(np.reshape(dummy2, (1, 6)))\n",
    "for i in range(2, 65):\n",
    "    path = 'meep_code/data/DATA'+str(i)\n",
    "    if not os.path.exists(path):\n",
    "        #miss.append(i)\n",
    "        print('Missing batch:' + str(i))\n",
    "        continue\n",
    "        \n",
    "    files = next(os.walk(path))[2] #dir is your directory path as string]\n",
    "    num_data = len(files)\n",
    "    data_size += num_data\n",
    "    skip = []\n",
    "    \n",
    "    coordinates = np.genfromtxt('meep_code/data/DATA'+str(i)+'_sh.txt')\n",
    "    xc, yc = coordinates[:, 0], coordinates[:, 1]\n",
    "    xc = np.reshape(xc, (num_data, shape_size))\n",
    "    yc = np.reshape(yc, (num_data, shape_size))\n",
    "    \n",
    "    for j in range(num_data):\n",
    "        tmp = np.genfromtxt(path+'/'+'DATA'+str(i)+'_sp'+str(j)+'.txt')\n",
    "        valid = True\n",
    "        for q in range(200):       \n",
    "            if tmp[q] > 3:\n",
    "                print('Batch '+str(i)+'\\tsample '+str(j)+' has extreme value')\n",
    "                valid = False\n",
    "                break\n",
    "        if not valid:\n",
    "            #skip.append(j)\n",
    "            continue\n",
    "        SP = np.concatenate((SP, np.reshape(tmp, (1, 200))))\n",
    "        tmp = []\n",
    "        for q in range(6):\n",
    "            tmp.append(math.sqrt(xc[j][q]**2 + yc[j][q]**2))\n",
    "        SH = np.concatenate((SH, np.reshape(np.array(tmp), (1, 6))))\n",
    "    print('Batch '+str(i)+' has \\t'+str(num_data)) "
   ]
  },
  {
   "cell_type": "code",
   "execution_count": 26,
   "metadata": {},
   "outputs": [
    {
     "name": "stdout",
     "output_type": "stream",
     "text": [
      "Total # of data: 4989\n"
     ]
    }
   ],
   "source": [
    "distribution = []\n",
    "print('Total # of data: ' + str(len(SP)))\n",
    "x = np.genfromtxt('meep_code/data/SP_xaxis.txt')\n",
    "SP_F, SH_F = np.reshape(SP[1], (1, 200)),np.reshape(SH[1], (1, 6))\n",
    "\n",
    "for i in range(1, len(SP)):\n",
    "    p_u, p_d = 0, 0\n",
    "    p_u_pos, p_d_pos = [], []\n",
    "    for j in range(1, 200):\n",
    "        if SP[i][j - 1] >= 0.6 >=SP[i][j]:\n",
    "            p_d += 1\n",
    "            p_d_pos.append(j / 2 + 200)\n",
    "        if SP[i][j - 1] <= 0.6 <=SP[i][j]:\n",
    "            p_u += 1\n",
    "            p_u_pos.append(j / 2 + 200)\n",
    "    if p_d == p_u and p_d == 2:\n",
    "        distribution.append(p_d_pos)\n",
    "        distribution.append(p_u_pos)\n",
    "        SP_F = np.concatenate((SP_F, np.reshape(SP[i], (1, 200))))\n",
    "        SH_F = np.concatenate((SH_F, np.reshape(SH[i], (1, 6))))\n",
    "#         plt.ylim(0, 1.1)\n",
    "#         plt.plot(x, SP[i])\n",
    "#         plt.show()\n",
    "#         print(p_d_pos)\n",
    "#         print(p_u_pos)\n",
    "SP_F = SP_F[1:,:]\n",
    "SH_F = SH_F[1:,:]"
   ]
  },
  {
   "cell_type": "code",
   "execution_count": 31,
   "metadata": {},
   "outputs": [
    {
     "data": {
      "text/plain": [
       "1676"
      ]
     },
     "execution_count": 31,
     "metadata": {},
     "output_type": "execute_result"
    }
   ],
   "source": [
    "len(distribution)"
   ]
  },
  {
   "cell_type": "markdown",
   "metadata": {},
   "source": [
    "# Distribution of Two peak"
   ]
  },
  {
   "cell_type": "markdown",
   "metadata": {},
   "source": [
    "## Distribution of the first of Two peak"
   ]
  },
  {
   "cell_type": "code",
   "execution_count": 36,
   "metadata": {
    "scrolled": true
   },
   "outputs": [
    {
     "data": {
      "text/plain": [
       "<matplotlib.collections.PathCollection at 0x2b8f31721d0>"
      ]
     },
     "execution_count": 36,
     "metadata": {},
     "output_type": "execute_result"
    },
    {
     "data": {
      "image/png": "[encoded data removed]",
      "text/plain": [
       "<Figure size 432x288 with 1 Axes>"
      ]
     },
     "metadata": {
      "needs_background": "light"
     },
     "output_type": "display_data"
    }
   ],
   "source": [
    "dis_first = []\n",
    "for i in range(0, len(distribution) - 1, 2):\n",
    "    peak = (distribution[i][0] + distribution[i + 1][0]) / 2\n",
    "    dis_first.append([1, peak])\n",
    "#     plt.ylim(0, 1.1)\n",
    "#     plt.plot(x, SP_F[i//2])\n",
    "#     plt.show()\n",
    "dis_first = np.array(dis_first)\n",
    "plt.xlim(200, 300)\n",
    "plt.scatter(dis_first[:,1],dis_first[:,0])"
   ]
  },
  {
   "cell_type": "markdown",
   "metadata": {},
   "source": [
    "## Distribution of the second of Two peak"
   ]
  },
  {
   "cell_type": "code",
   "execution_count": 34,
   "metadata": {},
   "outputs": [
    {
     "data": {
      "text/plain": [
       "<matplotlib.collections.PathCollection at 0x2b8f34567b8>"
      ]
     },
     "execution_count": 34,
     "metadata": {},
     "output_type": "execute_result"
    },
    {
     "data": {
      "image/png": "[encoded data removed]",
      "text/plain": [
       "<Figure size 432x288 with 1 Axes>"
      ]
     },
     "metadata": {
      "needs_background": "light"
     },
     "output_type": "display_data"
    }
   ],
   "source": [
    "dis_first = []\n",
    "for i in range(0, len(distribution) - 1, 2):\n",
    "    peak = (distribution[i][1] + distribution[i + 1][1]) / 2\n",
    "    dis_first.append([1, peak])\n",
    "#     plt.ylim(0, 1.1)\n",
    "#     plt.plot(x, SP_F[i//2])\n",
    "#     plt.show()\n",
    "dis_first = np.array(dis_first)\n",
    "plt.xlim(200, 300)\n",
    "plt.scatter(dis_first[:,1],dis_first[:,0])"
   ]
  },
  {
   "cell_type": "markdown",
   "metadata": {},
   "source": [
    "## Distribution of the second peak where the first peak is in [200, 220)"
   ]
  },
  {
   "cell_type": "code",
   "execution_count": 77,
   "metadata": {},
   "outputs": [],
   "source": [
    "def dis_sec_p(begin, end):\n",
    "    dis_sec = []\n",
    "    for i in range(0, len(distribution) - 1, 2):\n",
    "        first_peak = (distribution[i][0] + distribution[i + 1][0]) / 2\n",
    "        if begin <= first_peak < end:\n",
    "            second_peak = (distribution[i][1] + distribution[i + 1][1]) / 2\n",
    "            dis_sec.append([1, second_peak])\n",
    "#         plt.ylim(0, 1.1)\n",
    "#         plt.plot(x, SP_F[i//2])\n",
    "#         plt.show()\n",
    "    dis_sec = np.array(dis_sec)\n",
    "    print()\n",
    "    plt.title('Second peak distribution where First peak in [' + str(begin)+', '+str(end)+')')\n",
    "    plt.xlim(200, 300)\n",
    "    plt.scatter(dis_sec[:,1],dis_sec[:,0])\n",
    "    print(\"{0:.4f}\".format(len(dis_sec)/len(SP_F)*100)\n",
    "        +'% ('+str(len(dis_sec))+' out of '+str(len(SP_F))\n",
    "          +') spectrum with two peaks, its first peak lies in ['+str(begin)+', '+str(end)+')')"
   ]
  },
  {
   "cell_type": "code",
   "execution_count": 78,
   "metadata": {
    "scrolled": true
   },
   "outputs": [
    {
     "name": "stdout",
     "output_type": "stream",
     "text": [
      "\n",
      "2.5060% (21 out of 838) spectrum with two peaks, its first peak lies in [200, 220)\n"
     ]
    },
    {
     "data": {
      "image/png": "[encoded data removed]",
      "text/plain": [
       "<Figure size 432x288 with 1 Axes>"
      ]
     },
     "metadata": {
      "needs_background": "light"
     },
     "output_type": "display_data"
    }
   ],
   "source": [
    "dis_sec_p(200, 220)"
   ]
  },
  {
   "cell_type": "code",
   "execution_count": 73,
   "metadata": {},
   "outputs": [
    {
     "name": "stdout",
     "output_type": "stream",
     "text": [
      "\n",
      "28.4010% (238 out of 838) spectrum with two peaks lies in [220, 240)\n"
     ]
    },
    {
     "data": {
      "image/png": "[encoded data removed]",
      "text/plain": [
       "<Figure size 432x288 with 1 Axes>"
      ]
     },
     "metadata": {
      "needs_background": "light"
     },
     "output_type": "display_data"
    }
   ],
   "source": [
    "dis_sec_p(220, 240)"
   ]
  },
  {
   "cell_type": "code",
   "execution_count": 74,
   "metadata": {},
   "outputs": [
    {
     "name": "stdout",
     "output_type": "stream",
     "text": [
      "\n",
      "55.0119% (461 out of 838) spectrum with two peaks lies in [240, 260)\n"
     ]
    },
    {
     "data": {
      "image/png": "[encoded data removed]",
      "text/plain": [
       "<Figure size 432x288 with 1 Axes>"
      ]
     },
     "metadata": {
      "needs_background": "light"
     },
     "output_type": "display_data"
    }
   ],
   "source": [
    "dis_sec_p(240, 260)"
   ]
  },
  {
   "cell_type": "code",
   "execution_count": 75,
   "metadata": {},
   "outputs": [
    {
     "name": "stdout",
     "output_type": "stream",
     "text": [
      "\n",
      "13.8425% (116 out of 838) spectrum with two peaks lies in [260, 280)\n"
     ]
    },
    {
     "data": {
      "image/png": "[encoded data removed]",
      "text/plain": [
       "<Figure size 432x288 with 1 Axes>"
      ]
     },
     "metadata": {
      "needs_background": "light"
     },
     "output_type": "display_data"
    }
   ],
   "source": [
    "dis_sec_p(260, 280)"
   ]
  },
  {
   "cell_type": "code",
   "execution_count": 76,
   "metadata": {},
   "outputs": [
    {
     "name": "stdout",
     "output_type": "stream",
     "text": [
      "\n",
      "0.2387% (2 out of 838) spectrum with two peaks lies in [280, 300)\n"
     ]
    },
    {
     "data": {
      "image/png": "[encoded data removed]",
      "text/plain": [
       "<Figure size 432x288 with 1 Axes>"
      ]
     },
     "metadata": {
      "needs_background": "light"
     },
     "output_type": "display_data"
    }
   ],
   "source": [
    "dis_sec_p(280, 300)"
   ]
  },
  {
   "cell_type": "markdown",
   "metadata": {},
   "source": [
    "# Distribution of One peak"
   ]
  },
  {
   "attachments": {
    "image.png": {
     "image/png": "[encoded data removed]"
    }
   },
   "cell_type": "markdown",
   "metadata": {},
   "source": [
    "![image.png](attachment:image.png)"
   ]
  }
 ],
 "metadata": {
  "kernelspec": {
   "display_name": "Python 3",
   "language": "python",
   "name": "python3"
  },
  "language_info": {
   "codemirror_mode": {
    "name": "ipython",
    "version": 3
   },
   "file_extension": ".py",
   "mimetype": "text/x-python",
   "name": "python",
   "nbconvert_exporter": "python",
   "pygments_lexer": "ipython3",
   "version": "3.7.3"
  }
 },
 "nbformat": 4,
 "nbformat_minor": 2
}
